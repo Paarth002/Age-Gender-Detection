{
  "nbformat": 4,
  "nbformat_minor": 0,
  "metadata": {
    "colab": {
      "name": "pretrained_Real_ESRGAN_inference.ipynb",
      "provenance": [],
      "collapsed_sections": [
        "U0forhlpwRpF",
        "XGyjzeGMP8aL",
        "oQoyDWN5QYcg",
        "XzCwihN7Xz4I",
        "bDdxxd3MVowJ",
        "I4pstJSPS34d",
        "z6p5uWBT_qrK"
      ]
    },
    "kernelspec": {
      "name": "python3",
      "display_name": "Python 3"
    },
    "language_info": {
      "name": "python"
    },
    "accelerator": "GPU"
  },
  "cells": [
    {
      "cell_type": "markdown",
      "source": [
        "\n",
        "Run this code on google colab to upsample a video using pre-trained Real-ESRGAN \n",
        "\n",
        "---\n",
        "\n",
        "\n",
        "Download this notebook, upload it on google colab and then execute\n",
        "\n",
        "\n",
        "---\n",
        "\n",
        "\n",
        "\n",
        "Upload the input LR **mp4** video and weights, preferably in the '/content/' folder.\n",
        "\n",
        "Download the weights file from here:- https://drive.google.com/drive/folders/16PlVKhTNkSyWFx52RPb2hXPIQveNGbxS\n",
        "\n",
        "Upload the 'RealESRGAN_x4.pth' file in the '/content/' folder \n",
        "\n",
        "\n",
        "---\n",
        "\n",
        "\n",
        "You must connect the runtime to GPU\n",
        "\n",
        "\n",
        "---\n",
        "\n",
        "\n",
        "This is a SISR technique, hence it will upsample single image frame at a time. Real-ESRGAN shows better results on faces than ESRGAN. However, it is quite slow as compared to other SRGAN techniques."
      ],
      "metadata": {
        "id": "xpThbHnuNKCU"
      }
    },
    {
      "cell_type": "markdown",
      "source": [
        "# Importing necessary libraries"
      ],
      "metadata": {
        "id": "U0forhlpwRpF"
      }
    },
    {
      "cell_type": "code",
      "source": [
        "import cv2\n",
        "import os\n",
        "import numpy as np\n",
        "import datetime\n",
        "from PIL import Image\n",
        "import torch"
      ],
      "metadata": {
        "id": "S1amu5_6wQb8"
      },
      "execution_count": null,
      "outputs": []
    },
    {
      "cell_type": "markdown",
      "source": [
        "# Cloning the Real-ESRGAN github repository "
      ],
      "metadata": {
        "id": "XGyjzeGMP8aL"
      }
    },
    {
      "cell_type": "code",
      "source": [
        "!git clone https://github.com/sberbank-ai/Real-ESRGAN"
      ],
      "metadata": {
        "colab": {
          "base_uri": "https://localhost:8080/"
        },
        "id": "34E2tcmFMlsm",
        "outputId": "ea5ba919-ccb6-4280-8900-bc32a1bde232"
      },
      "execution_count": null,
      "outputs": [
        {
          "output_type": "stream",
          "name": "stdout",
          "text": [
            "Cloning into 'Real-ESRGAN'...\n",
            "remote: Enumerating objects: 42, done.\u001b[K\n",
            "remote: Counting objects: 100% (42/42), done.\u001b[K\n",
            "remote: Compressing objects: 100% (34/34), done.\u001b[K\n",
            "remote: Total 42 (delta 11), reused 25 (delta 3), pack-reused 0\u001b[K\n",
            "Unpacking objects: 100% (42/42), done.\n"
          ]
        }
      ]
    },
    {
      "cell_type": "markdown",
      "source": [
        "# Installing the required packages\n"
      ],
      "metadata": {
        "id": "oQoyDWN5QYcg"
      }
    },
    {
      "cell_type": "code",
      "source": [
        "!pip install -r /content/Real-ESRGAN/requirements.txt"
      ],
      "metadata": {
        "colab": {
          "base_uri": "https://localhost:8080/"
        },
        "id": "nNccSZs_Mluo",
        "outputId": "8692dce3-9ffe-41ed-89c4-b9e5bc02d41f"
      },
      "execution_count": null,
      "outputs": [
        {
          "output_type": "stream",
          "name": "stdout",
          "text": [
            "Requirement already satisfied: numpy in /usr/local/lib/python3.7/dist-packages (from -r /content/Real-ESRGAN/requirements.txt (line 1)) (1.21.5)\n",
            "Requirement already satisfied: opencv-python in /usr/local/lib/python3.7/dist-packages (from -r /content/Real-ESRGAN/requirements.txt (line 2)) (4.1.2.30)\n",
            "Requirement already satisfied: Pillow in /usr/local/lib/python3.7/dist-packages (from -r /content/Real-ESRGAN/requirements.txt (line 3)) (7.1.2)\n",
            "Requirement already satisfied: torch>=1.7 in /usr/local/lib/python3.7/dist-packages (from -r /content/Real-ESRGAN/requirements.txt (line 4)) (1.10.0+cu111)\n",
            "Requirement already satisfied: torchvision>=0.8.0 in /usr/local/lib/python3.7/dist-packages (from -r /content/Real-ESRGAN/requirements.txt (line 5)) (0.11.1+cu111)\n",
            "Requirement already satisfied: tqdm in /usr/local/lib/python3.7/dist-packages (from -r /content/Real-ESRGAN/requirements.txt (line 6)) (4.63.0)\n",
            "Requirement already satisfied: typing-extensions in /usr/local/lib/python3.7/dist-packages (from torch>=1.7->-r /content/Real-ESRGAN/requirements.txt (line 4)) (3.10.0.2)\n"
          ]
        }
      ]
    },
    {
      "cell_type": "code",
      "source": [
        "cd /content/Real-ESRGAN"
      ],
      "metadata": {
        "colab": {
          "base_uri": "https://localhost:8080/"
        },
        "id": "iopqBJPoSdQ5",
        "outputId": "0484303b-533c-4624-ed52-4bf73832f8ab"
      },
      "execution_count": null,
      "outputs": [
        {
          "output_type": "stream",
          "name": "stdout",
          "text": [
            "/content/Real-ESRGAN\n"
          ]
        }
      ]
    },
    {
      "cell_type": "markdown",
      "source": [
        "# Loading the pre-trained Real-ESRGAN model\n",
        "Add weights file 'RealESRGAN_x4.pth' as an argument to the function load_weights()"
      ],
      "metadata": {
        "id": "XzCwihN7Xz4I"
      }
    },
    {
      "cell_type": "code",
      "source": [
        "from realesrgan import RealESRGAN\n",
        "\n",
        "device = torch.device('cuda' if torch.cuda.is_available() else 'cpu')\n",
        "\n",
        "model = RealESRGAN(device, scale=4)\n",
        "model.load_weights('/content/RealESRGAN_x4.pth')"
      ],
      "metadata": {
        "id": "POvbI7AOJnyZ"
      },
      "execution_count": null,
      "outputs": []
    },
    {
      "cell_type": "markdown",
      "source": [
        "# Defining the function to apply video on ESRGAN\n"
      ],
      "metadata": {
        "id": "bDdxxd3MVowJ"
      }
    },
    {
      "cell_type": "code",
      "source": [
        "def ESRGAN_on_video(vid_path, kps):\n",
        "\n",
        "  video = cv2.VideoCapture(vid_path)\n",
        "\n",
        "  (major_ver, minor_ver, subminor_ver) = (cv2.__version__).split('.')\n",
        "\n",
        "  if int(major_ver)  < 3 :\n",
        "    fps = int(video.get(cv2.cv.CV_CAP_PROP_FPS))\n",
        "  else :\n",
        "    fps = int(video.get(cv2.CAP_PROP_FPS))\n",
        "\n",
        "  if (fps == 0): \n",
        "    print('pls upload a different video')\n",
        "    exit(0)\n",
        "\n",
        "  print(fps)\n",
        "\n",
        "  hop = round(fps/kps)\n",
        "  if hop == 0:\n",
        "    print('pls select such custom fps such that fps<=',fps)\n",
        "    exit(0)\n",
        "\n",
        "  frame_dir = '/content/framedir'\n",
        "  os.makedirs(frame_dir)\n",
        "  output_dir = '/content/outframes'\n",
        "  os.makedirs(output_dir)\n",
        "\n",
        "  hop = round(fps / kps)\n",
        "  \n",
        "  arr_output_name = []\n",
        "  currentframe = 0\n",
        "\n",
        "  while(True):\n",
        "      ret,frame = video.read()\n",
        "      if ret:\n",
        "        if (currentframe % hop == 0): \n",
        "          name = frame_dir + '/' + str(int(currentframe/hop)) + '.jpg'\n",
        "          cv2.imwrite(name, frame)\n",
        "        image = Image.open(name).convert('RGB')\n",
        "        sr_image = model.predict(image)\n",
        "        sr_image.save(output_dir + '/' + str(int(currentframe/hop)) + '.jpg')\n",
        "        arr_output_name.append(output_dir + '/' + str(int(currentframe/hop)) + '.jpg')\n",
        "        currentframe += 1\n",
        "      else:\n",
        "          break\n",
        "\n",
        "  video.release()\n",
        "\n",
        "  img = cv2.imread(output_dir + '/0.jpg')\n",
        "  height, width, layers = img.shape\n",
        "  size = (width,height)\n",
        "          \n",
        "  out = cv2.VideoWriter('/content/ESRGAN_output_vid.mp4',cv2.VideoWriter_fourcc(*'DIVX'), kps , size)\n",
        "\n",
        "  for i in range(len(arr_output_name)):\n",
        "      out.write(cv2.imread(arr_output_name[i]))\n",
        "  out.release()\n"
      ],
      "metadata": {
        "id": "mWreFZwnRk_2"
      },
      "execution_count": null,
      "outputs": []
    },
    {
      "cell_type": "markdown",
      "source": [
        "# Apply the pre-trained generator on custom video\n",
        "Add the path to your uploaded video (str) and fps (int) as argument to function ESRGAN_on_video()\n",
        "\n"
      ],
      "metadata": {
        "id": "I4pstJSPS34d"
      }
    },
    {
      "cell_type": "code",
      "source": [
        "%%time\n",
        "ESRGAN_on_video('/content/assault_part_2_shortened.mp4', 5)"
      ],
      "metadata": {
        "id": "uLn2khqkR4I-",
        "colab": {
          "base_uri": "https://localhost:8080/"
        },
        "outputId": "3f366121-43d0-4b01-b042-f4d76f6070d1"
      },
      "execution_count": null,
      "outputs": [
        {
          "output_type": "stream",
          "name": "stdout",
          "text": [
            "30\n"
          ]
        }
      ]
    },
    {
      "cell_type": "markdown",
      "source": [
        "# Removing the stored input and output frames"
      ],
      "metadata": {
        "id": "z6p5uWBT_qrK"
      }
    },
    {
      "cell_type": "code",
      "source": [
        "for image in os.listdir('/content/framedir'):\n",
        "  os.remove('/content/framedir' + '/' + image)\n",
        "os.rmdir('/content/framedir')\n",
        "for image in os.listdir('/content/outframes'):\n",
        "  os.remove('/content/outframes' + '/' + image)\n",
        "os.rmdir('/content/outframes')"
      ],
      "metadata": {
        "id": "DdzqiFByStMb"
      },
      "execution_count": null,
      "outputs": []
    }
  ]
}