{
  "nbformat": 4,
  "nbformat_minor": 0,
  "metadata": {
    "colab": {
      "name": "Real-ESRGAN_img_inference.ipynb",
      "provenance": [],
      "collapsed_sections": [
        "U0forhlpwRpF",
        "XGyjzeGMP8aL",
        "oQoyDWN5QYcg",
        "XzCwihN7Xz4I",
        "bDdxxd3MVowJ"
      ]
    },
    "kernelspec": {
      "name": "python3",
      "display_name": "Python 3"
    },
    "language_info": {
      "name": "python"
    },
    "accelerator": "GPU"
  },
  "cells": [
    {
      "cell_type": "markdown",
      "source": [
        "\n",
        "Run this code on google colab to **upsample an image** using pre-trained Real-ESRGAN. The image resolution is x4 times that of the inupt image.\n",
        "\n",
        "---\n",
        "\n",
        "\n",
        "Download this notebook, upload it on google colab and then execute\n",
        "\n",
        "\n",
        "---\n",
        "\n",
        "\n",
        "\n",
        "Upload the input LR **.jpg image** and weights, preferably in the '/content/' folder. \n",
        "\n",
        "Download the weights file from here:- https://drive.google.com/drive/folders/16PlVKhTNkSyWFx52RPb2hXPIQveNGbxS\n",
        "\n",
        "Upload the 'RealESRGAN_x4.pth' file in the '/content/' folder  \n",
        "\n",
        "\n",
        "---\n",
        "\n",
        "\n",
        "You must connect the runtime to GPU\n",
        "\n",
        "\n",
        "---\n",
        "\n",
        "Real-ESRGAN shows better results on faces than ESRGAN, especially on faces. However, it is quite slow as compared to other SRGAN techniques."
      ],
      "metadata": {
        "id": "xpThbHnuNKCU"
      }
    },
    {
      "cell_type": "markdown",
      "source": [
        "# Importing necessary libraries"
      ],
      "metadata": {
        "id": "U0forhlpwRpF"
      }
    },
    {
      "cell_type": "code",
      "source": [
        "from PIL import Image\n",
        "import torch"
      ],
      "metadata": {
        "id": "S1amu5_6wQb8"
      },
      "execution_count": null,
      "outputs": []
    },
    {
      "cell_type": "markdown",
      "source": [
        "# Cloning the Real-ESRGAN github repository "
      ],
      "metadata": {
        "id": "XGyjzeGMP8aL"
      }
    },
    {
      "cell_type": "code",
      "source": [
        "!git clone https://github.com/sberbank-ai/Real-ESRGAN"
      ],
      "metadata": {
        "colab": {
          "base_uri": "https://localhost:8080/"
        },
        "id": "34E2tcmFMlsm",
        "outputId": "c9ac615d-2f22-4ebc-831c-bb1d73d76fcf"
      },
      "execution_count": null,
      "outputs": [
        {
          "output_type": "stream",
          "name": "stdout",
          "text": [
            "Cloning into 'Real-ESRGAN'...\n",
            "remote: Enumerating objects: 42, done.\u001b[K\n",
            "remote: Counting objects: 100% (42/42), done.\u001b[K\n",
            "remote: Compressing objects: 100% (34/34), done.\u001b[K\n",
            "remote: Total 42 (delta 11), reused 25 (delta 3), pack-reused 0\u001b[K\n",
            "Unpacking objects: 100% (42/42), done.\n"
          ]
        }
      ]
    },
    {
      "cell_type": "markdown",
      "source": [
        "# Installing the required packages\n"
      ],
      "metadata": {
        "id": "oQoyDWN5QYcg"
      }
    },
    {
      "cell_type": "code",
      "source": [
        "!pip install -r /content/Real-ESRGAN/requirements.txt"
      ],
      "metadata": {
        "colab": {
          "base_uri": "https://localhost:8080/"
        },
        "id": "nNccSZs_Mluo",
        "outputId": "485701cf-88ff-49d5-a2cf-27f5845d4780"
      },
      "execution_count": null,
      "outputs": [
        {
          "output_type": "stream",
          "name": "stdout",
          "text": [
            "Requirement already satisfied: numpy in /usr/local/lib/python3.7/dist-packages (from -r /content/Real-ESRGAN/requirements.txt (line 1)) (1.21.5)\n",
            "Requirement already satisfied: opencv-python in /usr/local/lib/python3.7/dist-packages (from -r /content/Real-ESRGAN/requirements.txt (line 2)) (4.1.2.30)\n",
            "Requirement already satisfied: Pillow in /usr/local/lib/python3.7/dist-packages (from -r /content/Real-ESRGAN/requirements.txt (line 3)) (7.1.2)\n",
            "Requirement already satisfied: torch>=1.7 in /usr/local/lib/python3.7/dist-packages (from -r /content/Real-ESRGAN/requirements.txt (line 4)) (1.10.0+cu111)\n",
            "Requirement already satisfied: torchvision>=0.8.0 in /usr/local/lib/python3.7/dist-packages (from -r /content/Real-ESRGAN/requirements.txt (line 5)) (0.11.1+cu111)\n",
            "Requirement already satisfied: tqdm in /usr/local/lib/python3.7/dist-packages (from -r /content/Real-ESRGAN/requirements.txt (line 6)) (4.63.0)\n",
            "Requirement already satisfied: typing-extensions in /usr/local/lib/python3.7/dist-packages (from torch>=1.7->-r /content/Real-ESRGAN/requirements.txt (line 4)) (3.10.0.2)\n"
          ]
        }
      ]
    },
    {
      "cell_type": "code",
      "source": [
        "cd /content/Real-ESRGAN"
      ],
      "metadata": {
        "colab": {
          "base_uri": "https://localhost:8080/"
        },
        "id": "iopqBJPoSdQ5",
        "outputId": "a45f6d74-6334-45ac-c8a4-cbcd3bf2316a"
      },
      "execution_count": null,
      "outputs": [
        {
          "output_type": "stream",
          "name": "stdout",
          "text": [
            "/content/Real-ESRGAN\n"
          ]
        }
      ]
    },
    {
      "cell_type": "markdown",
      "source": [
        "# Instantiating the ESRGAN model\n",
        "Add weights file 'RealESRGAN_x4.pth' as an argument to the function load_weights()"
      ],
      "metadata": {
        "id": "XzCwihN7Xz4I"
      }
    },
    {
      "cell_type": "code",
      "source": [
        "from realesrgan import RealESRGAN\n",
        "\n",
        "device = torch.device('cuda' if torch.cuda.is_available() else 'cpu')\n",
        "\n",
        "model = RealESRGAN(device, scale=4)\n",
        "model.load_weights('/content/RealESRGAN_x4.pth')"
      ],
      "metadata": {
        "id": "POvbI7AOJnyZ"
      },
      "execution_count": null,
      "outputs": []
    },
    {
      "cell_type": "markdown",
      "source": [
        "# Apply the ESRGAN on image\n",
        "Assign the path to your image file to the string variable 'path_to_image'\n",
        "The output image will be saved as '/content/ESRGANoutput.jpg'\n"
      ],
      "metadata": {
        "id": "bDdxxd3MVowJ"
      }
    },
    {
      "cell_type": "code",
      "source": [
        "path_to_image = '/content/low_resolution_img.jpg'\n",
        "image = Image.open(path_to_image).convert('RGB')\n",
        "\n",
        "sr_image = model.predict(image)\n",
        "\n",
        "sr_image.save('/content/ESRGANoutput.jpg')"
      ],
      "metadata": {
        "id": "mWreFZwnRk_2"
      },
      "execution_count": null,
      "outputs": []
    }
  ]
}