{
  "nbformat": 4,
  "nbformat_minor": 0,
  "metadata": {
    "colab": {
      "name": "Fast-SRGAN_vid_inference.ipynb",
      "provenance": [],
      "collapsed_sections": [
        "U0forhlpwRpF",
        "XGyjzeGMP8aL",
        "oQoyDWN5QYcg",
        "XzCwihN7Xz4I",
        "bDdxxd3MVowJ",
        "I4pstJSPS34d",
        "eFVYNbGhY92t",
        "FJlZWAGwq3Jp"
      ]
    },
    "kernelspec": {
      "name": "python3",
      "display_name": "Python 3"
    },
    "language_info": {
      "name": "python"
    }
  },
  "cells": [
    {
      "cell_type": "markdown",
      "source": [
        "\n",
        "Run this code on google colab to upsample **a video** using Fast-SRGAN pre-trained on on the DIV2k dataset. This generates a **x4 resolution video**\n",
        "\n",
        "---\n",
        "\n",
        "\n",
        "Download this notebook, upload it on google colab and then execute\n",
        "\n",
        "\n",
        "---\n",
        "\n",
        "\n",
        "\n",
        "Upload the input LR **mp4** video \n",
        "\n",
        "\n",
        "---\n",
        "\n",
        "\n",
        "It is advisable to connect runtime to standard GPU\n",
        "\n",
        "\n",
        "---\n",
        "\n",
        "\n",
        "This is a SISR technique, hence it will upsample single image frame at a time. However, this method is much faster as compared to other SISR methods due to the addition of inverted residual networks in the standard SRGAN architecture"
      ],
      "metadata": {
        "id": "xpThbHnuNKCU"
      }
    },
    {
      "cell_type": "markdown",
      "source": [
        "# Importing necessary libraries"
      ],
      "metadata": {
        "id": "U0forhlpwRpF"
      }
    },
    {
      "cell_type": "code",
      "source": [
        "import os\n",
        "import math\n",
        "import cv2\n",
        "import numpy as np\n",
        "from tensorflow import keras"
      ],
      "metadata": {
        "id": "S1amu5_6wQb8"
      },
      "execution_count": null,
      "outputs": []
    },
    {
      "cell_type": "markdown",
      "source": [
        "# Cloning the Fast-SRGAN github repository "
      ],
      "metadata": {
        "id": "XGyjzeGMP8aL"
      }
    },
    {
      "cell_type": "code",
      "source": [
        "!git clone https://github.com/HasnainRaz/Fast-SRGAN.git"
      ],
      "metadata": {
        "colab": {
          "base_uri": "https://localhost:8080/"
        },
        "id": "34E2tcmFMlsm",
        "outputId": "624ff4f8-84ab-44b5-8b7a-8a7446b60db3"
      },
      "execution_count": null,
      "outputs": [
        {
          "output_type": "stream",
          "name": "stdout",
          "text": [
            "Cloning into 'Fast-SRGAN'...\n",
            "remote: Enumerating objects: 136, done.\u001b[K\n",
            "remote: Counting objects: 100% (6/6), done.\u001b[K\n",
            "remote: Compressing objects: 100% (6/6), done.\u001b[K\n",
            "remote: Total 136 (delta 1), reused 0 (delta 0), pack-reused 130\u001b[K\n",
            "Receiving objects: 100% (136/136), 95.31 MiB | 34.15 MiB/s, done.\n",
            "Resolving deltas: 100% (65/65), done.\n"
          ]
        }
      ]
    },
    {
      "cell_type": "markdown",
      "source": [
        "# Installing the required packages\n",
        "You also have to uninstall the existing version of the h5py library and install the 2.10.0 version"
      ],
      "metadata": {
        "id": "oQoyDWN5QYcg"
      }
    },
    {
      "cell_type": "code",
      "source": [
        "!pip install -r /content/Fast-SRGAN/requirements.txt"
      ],
      "metadata": {
        "colab": {
          "base_uri": "https://localhost:8080/",
          "height": 1000
        },
        "id": "nNccSZs_Mluo",
        "outputId": "14d0e7a5-3368-45ea-b386-d307096bdbb4"
      },
      "execution_count": null,
      "outputs": [
        {
          "output_type": "stream",
          "name": "stdout",
          "text": [
            "Collecting tensorflow==2.0.3\n",
            "  Downloading tensorflow-2.0.3-cp37-cp37m-manylinux2010_x86_64.whl (86.4 MB)\n",
            "\u001b[K     |████████████████████████████████| 86.4 MB 48 kB/s \n",
            "\u001b[?25hCollecting opencv-python==4.2.0.32\n",
            "  Downloading opencv_python-4.2.0.32-cp37-cp37m-manylinux1_x86_64.whl (28.2 MB)\n",
            "\u001b[K     |████████████████████████████████| 28.2 MB 1.4 MB/s \n",
            "\u001b[?25hCollecting numpy==1.17.2\n",
            "  Downloading numpy-1.17.2-cp37-cp37m-manylinux1_x86_64.whl (20.3 MB)\n",
            "\u001b[K     |████████████████████████████████| 20.3 MB 42.9 MB/s \n",
            "\u001b[?25hCollecting gast==0.2.2\n",
            "  Downloading gast-0.2.2.tar.gz (10 kB)\n",
            "Requirement already satisfied: absl-py>=0.7.0 in /usr/local/lib/python3.7/dist-packages (from tensorflow==2.0.3->-r /content/Fast-SRGAN/requirements.txt (line 1)) (1.0.0)\n",
            "Requirement already satisfied: grpcio>=1.8.6 in /usr/local/lib/python3.7/dist-packages (from tensorflow==2.0.3->-r /content/Fast-SRGAN/requirements.txt (line 1)) (1.44.0)\n",
            "Requirement already satisfied: google-pasta>=0.1.6 in /usr/local/lib/python3.7/dist-packages (from tensorflow==2.0.3->-r /content/Fast-SRGAN/requirements.txt (line 1)) (0.2.0)\n",
            "Requirement already satisfied: opt-einsum>=2.3.2 in /usr/local/lib/python3.7/dist-packages (from tensorflow==2.0.3->-r /content/Fast-SRGAN/requirements.txt (line 1)) (3.3.0)\n",
            "Collecting keras-applications>=1.0.8\n",
            "  Downloading Keras_Applications-1.0.8-py3-none-any.whl (50 kB)\n",
            "\u001b[K     |████████████████████████████████| 50 kB 6.4 MB/s \n",
            "\u001b[?25hRequirement already satisfied: protobuf>=3.6.1 in /usr/local/lib/python3.7/dist-packages (from tensorflow==2.0.3->-r /content/Fast-SRGAN/requirements.txt (line 1)) (3.17.3)\n",
            "Collecting tensorflow-estimator<2.1.0,>=2.0.0\n",
            "  Downloading tensorflow_estimator-2.0.1-py2.py3-none-any.whl (449 kB)\n",
            "\u001b[K     |████████████████████████████████| 449 kB 44.7 MB/s \n",
            "\u001b[?25hRequirement already satisfied: wrapt>=1.11.1 in /usr/local/lib/python3.7/dist-packages (from tensorflow==2.0.3->-r /content/Fast-SRGAN/requirements.txt (line 1)) (1.13.3)\n",
            "Requirement already satisfied: astor>=0.6.0 in /usr/local/lib/python3.7/dist-packages (from tensorflow==2.0.3->-r /content/Fast-SRGAN/requirements.txt (line 1)) (0.8.1)\n",
            "Collecting tensorboard<2.1.0,>=2.0.0\n",
            "  Downloading tensorboard-2.0.2-py3-none-any.whl (3.8 MB)\n",
            "\u001b[K     |████████████████████████████████| 3.8 MB 51.2 MB/s \n",
            "\u001b[?25hRequirement already satisfied: termcolor>=1.1.0 in /usr/local/lib/python3.7/dist-packages (from tensorflow==2.0.3->-r /content/Fast-SRGAN/requirements.txt (line 1)) (1.1.0)\n",
            "Requirement already satisfied: keras-preprocessing>=1.0.5 in /usr/local/lib/python3.7/dist-packages (from tensorflow==2.0.3->-r /content/Fast-SRGAN/requirements.txt (line 1)) (1.1.2)\n",
            "Requirement already satisfied: six>=1.10.0 in /usr/local/lib/python3.7/dist-packages (from tensorflow==2.0.3->-r /content/Fast-SRGAN/requirements.txt (line 1)) (1.15.0)\n",
            "Requirement already satisfied: wheel>=0.26 in /usr/local/lib/python3.7/dist-packages (from tensorflow==2.0.3->-r /content/Fast-SRGAN/requirements.txt (line 1)) (0.37.1)\n",
            "Requirement already satisfied: h5py in /usr/local/lib/python3.7/dist-packages (from keras-applications>=1.0.8->tensorflow==2.0.3->-r /content/Fast-SRGAN/requirements.txt (line 1)) (3.1.0)\n",
            "Requirement already satisfied: setuptools>=41.0.0 in /usr/local/lib/python3.7/dist-packages (from tensorboard<2.1.0,>=2.0.0->tensorflow==2.0.3->-r /content/Fast-SRGAN/requirements.txt (line 1)) (57.4.0)\n",
            "Requirement already satisfied: werkzeug>=0.11.15 in /usr/local/lib/python3.7/dist-packages (from tensorboard<2.1.0,>=2.0.0->tensorflow==2.0.3->-r /content/Fast-SRGAN/requirements.txt (line 1)) (1.0.1)\n",
            "Requirement already satisfied: markdown>=2.6.8 in /usr/local/lib/python3.7/dist-packages (from tensorboard<2.1.0,>=2.0.0->tensorflow==2.0.3->-r /content/Fast-SRGAN/requirements.txt (line 1)) (3.3.6)\n",
            "Requirement already satisfied: google-auth<2,>=1.6.3 in /usr/local/lib/python3.7/dist-packages (from tensorboard<2.1.0,>=2.0.0->tensorflow==2.0.3->-r /content/Fast-SRGAN/requirements.txt (line 1)) (1.35.0)\n",
            "Requirement already satisfied: google-auth-oauthlib<0.5,>=0.4.1 in /usr/local/lib/python3.7/dist-packages (from tensorboard<2.1.0,>=2.0.0->tensorflow==2.0.3->-r /content/Fast-SRGAN/requirements.txt (line 1)) (0.4.6)\n",
            "Requirement already satisfied: requests<3,>=2.21.0 in /usr/local/lib/python3.7/dist-packages (from tensorboard<2.1.0,>=2.0.0->tensorflow==2.0.3->-r /content/Fast-SRGAN/requirements.txt (line 1)) (2.23.0)\n",
            "Requirement already satisfied: cachetools<5.0,>=2.0.0 in /usr/local/lib/python3.7/dist-packages (from google-auth<2,>=1.6.3->tensorboard<2.1.0,>=2.0.0->tensorflow==2.0.3->-r /content/Fast-SRGAN/requirements.txt (line 1)) (4.2.4)\n",
            "Requirement already satisfied: pyasn1-modules>=0.2.1 in /usr/local/lib/python3.7/dist-packages (from google-auth<2,>=1.6.3->tensorboard<2.1.0,>=2.0.0->tensorflow==2.0.3->-r /content/Fast-SRGAN/requirements.txt (line 1)) (0.2.8)\n",
            "Requirement already satisfied: rsa<5,>=3.1.4 in /usr/local/lib/python3.7/dist-packages (from google-auth<2,>=1.6.3->tensorboard<2.1.0,>=2.0.0->tensorflow==2.0.3->-r /content/Fast-SRGAN/requirements.txt (line 1)) (4.8)\n",
            "Requirement already satisfied: requests-oauthlib>=0.7.0 in /usr/local/lib/python3.7/dist-packages (from google-auth-oauthlib<0.5,>=0.4.1->tensorboard<2.1.0,>=2.0.0->tensorflow==2.0.3->-r /content/Fast-SRGAN/requirements.txt (line 1)) (1.3.1)\n",
            "Requirement already satisfied: importlib-metadata>=4.4 in /usr/local/lib/python3.7/dist-packages (from markdown>=2.6.8->tensorboard<2.1.0,>=2.0.0->tensorflow==2.0.3->-r /content/Fast-SRGAN/requirements.txt (line 1)) (4.11.2)\n",
            "Requirement already satisfied: zipp>=0.5 in /usr/local/lib/python3.7/dist-packages (from importlib-metadata>=4.4->markdown>=2.6.8->tensorboard<2.1.0,>=2.0.0->tensorflow==2.0.3->-r /content/Fast-SRGAN/requirements.txt (line 1)) (3.7.0)\n",
            "Requirement already satisfied: typing-extensions>=3.6.4 in /usr/local/lib/python3.7/dist-packages (from importlib-metadata>=4.4->markdown>=2.6.8->tensorboard<2.1.0,>=2.0.0->tensorflow==2.0.3->-r /content/Fast-SRGAN/requirements.txt (line 1)) (3.10.0.2)\n",
            "Requirement already satisfied: pyasn1<0.5.0,>=0.4.6 in /usr/local/lib/python3.7/dist-packages (from pyasn1-modules>=0.2.1->google-auth<2,>=1.6.3->tensorboard<2.1.0,>=2.0.0->tensorflow==2.0.3->-r /content/Fast-SRGAN/requirements.txt (line 1)) (0.4.8)\n",
            "Requirement already satisfied: certifi>=2017.4.17 in /usr/local/lib/python3.7/dist-packages (from requests<3,>=2.21.0->tensorboard<2.1.0,>=2.0.0->tensorflow==2.0.3->-r /content/Fast-SRGAN/requirements.txt (line 1)) (2021.10.8)\n",
            "Requirement already satisfied: idna<3,>=2.5 in /usr/local/lib/python3.7/dist-packages (from requests<3,>=2.21.0->tensorboard<2.1.0,>=2.0.0->tensorflow==2.0.3->-r /content/Fast-SRGAN/requirements.txt (line 1)) (2.10)\n",
            "Requirement already satisfied: chardet<4,>=3.0.2 in /usr/local/lib/python3.7/dist-packages (from requests<3,>=2.21.0->tensorboard<2.1.0,>=2.0.0->tensorflow==2.0.3->-r /content/Fast-SRGAN/requirements.txt (line 1)) (3.0.4)\n",
            "Requirement already satisfied: urllib3!=1.25.0,!=1.25.1,<1.26,>=1.21.1 in /usr/local/lib/python3.7/dist-packages (from requests<3,>=2.21.0->tensorboard<2.1.0,>=2.0.0->tensorflow==2.0.3->-r /content/Fast-SRGAN/requirements.txt (line 1)) (1.24.3)\n",
            "Requirement already satisfied: oauthlib>=3.0.0 in /usr/local/lib/python3.7/dist-packages (from requests-oauthlib>=0.7.0->google-auth-oauthlib<0.5,>=0.4.1->tensorboard<2.1.0,>=2.0.0->tensorflow==2.0.3->-r /content/Fast-SRGAN/requirements.txt (line 1)) (3.2.0)\n",
            "Requirement already satisfied: cached-property in /usr/local/lib/python3.7/dist-packages (from h5py->keras-applications>=1.0.8->tensorflow==2.0.3->-r /content/Fast-SRGAN/requirements.txt (line 1)) (1.5.2)\n",
            "Building wheels for collected packages: gast\n",
            "  Building wheel for gast (setup.py) ... \u001b[?25l\u001b[?25hdone\n",
            "  Created wheel for gast: filename=gast-0.2.2-py3-none-any.whl size=7554 sha256=66f0eaad86ef555556820303777396cb1dcc87463b9b302fd5d5c3cbb15aec17\n",
            "  Stored in directory: /root/.cache/pip/wheels/21/7f/02/420f32a803f7d0967b48dd823da3f558c5166991bfd204eef3\n",
            "Successfully built gast\n",
            "Installing collected packages: numpy, tensorflow-estimator, tensorboard, keras-applications, gast, tensorflow, opencv-python\n",
            "  Attempting uninstall: numpy\n",
            "    Found existing installation: numpy 1.21.5\n",
            "    Uninstalling numpy-1.21.5:\n",
            "      Successfully uninstalled numpy-1.21.5\n",
            "  Attempting uninstall: tensorflow-estimator\n",
            "    Found existing installation: tensorflow-estimator 2.8.0\n",
            "    Uninstalling tensorflow-estimator-2.8.0:\n",
            "      Successfully uninstalled tensorflow-estimator-2.8.0\n",
            "  Attempting uninstall: tensorboard\n",
            "    Found existing installation: tensorboard 2.8.0\n",
            "    Uninstalling tensorboard-2.8.0:\n",
            "      Successfully uninstalled tensorboard-2.8.0\n",
            "  Attempting uninstall: gast\n",
            "    Found existing installation: gast 0.5.3\n",
            "    Uninstalling gast-0.5.3:\n",
            "      Successfully uninstalled gast-0.5.3\n",
            "  Attempting uninstall: tensorflow\n",
            "    Found existing installation: tensorflow 2.8.0\n",
            "    Uninstalling tensorflow-2.8.0:\n",
            "      Successfully uninstalled tensorflow-2.8.0\n",
            "  Attempting uninstall: opencv-python\n",
            "    Found existing installation: opencv-python 4.1.2.30\n",
            "    Uninstalling opencv-python-4.1.2.30:\n",
            "      Successfully uninstalled opencv-python-4.1.2.30\n",
            "\u001b[31mERROR: pip's dependency resolver does not currently take into account all the packages that are installed. This behaviour is the source of the following dependency conflicts.\n",
            "tensorflow-probability 0.16.0 requires gast>=0.3.2, but you have gast 0.2.2 which is incompatible.\n",
            "tables 3.7.0 requires numpy>=1.19.0, but you have numpy 1.17.2 which is incompatible.\n",
            "pywavelets 1.2.0 requires numpy>=1.17.3, but you have numpy 1.17.2 which is incompatible.\n",
            "pandas 1.3.5 requires numpy>=1.17.3; platform_machine != \"aarch64\" and platform_machine != \"arm64\" and python_version < \"3.10\", but you have numpy 1.17.2 which is incompatible.\n",
            "kapre 0.3.7 requires numpy>=1.18.5, but you have numpy 1.17.2 which is incompatible.\n",
            "jaxlib 0.3.0+cuda11.cudnn805 requires numpy>=1.19, but you have numpy 1.17.2 which is incompatible.\n",
            "jax 0.3.1 requires numpy>=1.19, but you have numpy 1.17.2 which is incompatible.\n",
            "datascience 0.10.6 requires folium==0.2.1, but you have folium 0.8.3 which is incompatible.\n",
            "albumentations 0.1.12 requires imgaug<0.2.7,>=0.2.5, but you have imgaug 0.2.9 which is incompatible.\u001b[0m\n",
            "Successfully installed gast-0.2.2 keras-applications-1.0.8 numpy-1.17.2 opencv-python-4.2.0.32 tensorboard-2.0.2 tensorflow-2.0.3 tensorflow-estimator-2.0.1\n"
          ]
        },
        {
          "output_type": "display_data",
          "data": {
            "application/vnd.colab-display-data+json": {
              "pip_warning": {
                "packages": [
                  "cv2",
                  "gast",
                  "numpy",
                  "tensorboard",
                  "tensorflow"
                ]
              }
            }
          },
          "metadata": {}
        }
      ]
    },
    {
      "cell_type": "code",
      "source": [
        "!pip uninstall h5py\n",
        "!pip install h5py==2.10.0"
      ],
      "metadata": {
        "colab": {
          "base_uri": "https://localhost:8080/",
          "height": 433
        },
        "id": "7JE9_B8MQlNa",
        "outputId": "bd757451-122b-4708-e8e7-5a14bd1c83ea"
      },
      "execution_count": null,
      "outputs": [
        {
          "output_type": "stream",
          "name": "stdout",
          "text": [
            "Found existing installation: h5py 3.1.0\n",
            "Uninstalling h5py-3.1.0:\n",
            "  Would remove:\n",
            "    /usr/local/lib/python3.7/dist-packages/h5py-3.1.0.dist-info/*\n",
            "    /usr/local/lib/python3.7/dist-packages/h5py.libs/libaec-9c9e97eb.so.0.0.10\n",
            "    /usr/local/lib/python3.7/dist-packages/h5py.libs/libhdf5-00e8fae8.so.200.0.0\n",
            "    /usr/local/lib/python3.7/dist-packages/h5py.libs/libhdf5_hl-383c339f.so.200.0.0\n",
            "    /usr/local/lib/python3.7/dist-packages/h5py.libs/libsz-e7aa62f5.so.2.0.1\n",
            "    /usr/local/lib/python3.7/dist-packages/h5py.libs/libz-eb09ad1d.so.1.2.3\n",
            "    /usr/local/lib/python3.7/dist-packages/h5py/*\n",
            "Proceed (y/n)? y\n",
            "  Successfully uninstalled h5py-3.1.0\n",
            "Collecting h5py==2.10.0\n",
            "  Downloading h5py-2.10.0-cp37-cp37m-manylinux1_x86_64.whl (2.9 MB)\n",
            "\u001b[K     |████████████████████████████████| 2.9 MB 27.5 MB/s \n",
            "\u001b[?25hRequirement already satisfied: numpy>=1.7 in /usr/local/lib/python3.7/dist-packages (from h5py==2.10.0) (1.17.2)\n",
            "Requirement already satisfied: six in /usr/local/lib/python3.7/dist-packages (from h5py==2.10.0) (1.15.0)\n",
            "Installing collected packages: h5py\n",
            "Successfully installed h5py-2.10.0\n"
          ]
        },
        {
          "output_type": "display_data",
          "data": {
            "application/vnd.colab-display-data+json": {
              "pip_warning": {
                "packages": [
                  "h5py"
                ]
              }
            }
          },
          "metadata": {}
        }
      ]
    },
    {
      "cell_type": "markdown",
      "source": [
        "# Defining the necessary functions"
      ],
      "metadata": {
        "id": "XzCwihN7Xz4I"
      }
    },
    {
      "cell_type": "code",
      "source": [
        "arr_names = []"
      ],
      "metadata": {
        "id": "xkG242AugNdj"
      },
      "execution_count": null,
      "outputs": []
    },
    {
      "cell_type": "code",
      "source": [
        "output_dir = '/content/outframes'\n",
        "os.makedirs(output_dir)"
      ],
      "metadata": {
        "id": "81QJOOwKgWJ1"
      },
      "execution_count": null,
      "outputs": []
    },
    {
      "cell_type": "code",
      "source": [
        "def video_to_frames(vid_path, kps):\n",
        "\n",
        "  video = cv2.VideoCapture(vid_path)\n",
        "\n",
        "  (major_ver, minor_ver, subminor_ver) = (cv2.__version__).split('.')\n",
        "\n",
        "  if int(major_ver)  < 3 :\n",
        "    fps = int(video.get(cv2.cv.CV_CAP_PROP_FPS))\n",
        "  else :\n",
        "    fps = int(video.get(cv2.CAP_PROP_FPS))\n",
        "\n",
        "  if (fps == 0): \n",
        "    print('pls upload a different video')\n",
        "    quit()\n",
        "\n",
        "  print(fps)\n",
        "\n",
        "  hop = round(fps/kps)\n",
        "  if hop == 0:\n",
        "    print('pls select such custom fps such that fps<=',fps)\n",
        "    quit()\n",
        "\n",
        "  video = cv2.VideoCapture(vid_path)\n",
        "\n",
        "  frames_dir = '/content/framesdir'\n",
        "  os.makedirs(frames_dir)\n",
        "\n",
        "  currentframe = 0       \n",
        "\n",
        "  while(True):\n",
        "      ret,frame = video.read()\n",
        "      if ret:\n",
        "        if(currentframe%hop == 0):\n",
        "          name = frames_dir + '/' + str(int(currentframe/hop)) + '.jpg'\n",
        "          cv2.imwrite(name, frame)\n",
        "          arr_names.append(output_dir + '/' + str(int(currentframe/hop)) + '.jpg') \n",
        "        currentframe += 1\n",
        "      else:\n",
        "        break\n",
        "  \n",
        "  video.release()\n",
        "\n",
        "  return kps"
      ],
      "metadata": {
        "id": "Mwf3uwP8QlQb"
      },
      "execution_count": null,
      "outputs": []
    },
    {
      "cell_type": "code",
      "source": [
        "def frames_to_video(output_dir_path, kps):\n",
        "\n",
        "  image = cv2.imread(output_dir_path + '/0.jpg')\n",
        "  height, width, layers = image.shape\n",
        "  size = (width,height)\n",
        "\n",
        "  out = cv2.VideoWriter('/content/pretrained_FastSRGAN_output.mp4',cv2.VideoWriter_fourcc(*'DIVX'), kps , size)\n",
        "\n",
        "  for i in range(len(arr_names)):\n",
        "    out.write(cv2.imread(arr_names[i]))\n",
        "  out.release()"
      ],
      "metadata": {
        "id": "tMn2cJpmOKMO"
      },
      "execution_count": null,
      "outputs": []
    },
    {
      "cell_type": "markdown",
      "source": [
        "# Converting the custom video to frames\n",
        "Add the path(str) to your custom video and natural fps as arguments to the function- video_to_frames() given in the below cell"
      ],
      "metadata": {
        "id": "bDdxxd3MVowJ"
      }
    },
    {
      "cell_type": "code",
      "source": [
        "fps = video_to_frames('/content/assault_part_2_shortened.mp4', 30)"
      ],
      "metadata": {
        "id": "mWreFZwnRk_2",
        "colab": {
          "base_uri": "https://localhost:8080/"
        },
        "outputId": "bd3a7a88-8ac4-44d7-cfcb-d19e71105517"
      },
      "execution_count": null,
      "outputs": [
        {
          "output_type": "stream",
          "name": "stdout",
          "text": [
            "30\n"
          ]
        }
      ]
    },
    {
      "cell_type": "markdown",
      "source": [
        "# Apply the pre-trained generator on individual input frames\n",
        "\n",
        "\n",
        "The output video frames will be saved in '/content/outframes' folder\n",
        "\n",
        "Since we are cloning another github repo, we have to give the correct model file path to the 'load_model()' function in 'infer.py' \n",
        "\n",
        "To do this Follow the steps:-\n",
        "1.   Click the files icon on the LHS bar of colab window\n",
        "2.   Click the small arrow adjacent to the 'Fast-SRGAN' folder, and then double-click 'infer.py'\n",
        "3.   In this notebook, replace the string 'models/generator.h5' with '/content/Fast-SRGAN/models/generator.h5'"
      ],
      "metadata": {
        "id": "I4pstJSPS34d"
      }
    },
    {
      "cell_type": "code",
      "source": [
        "%%time\n",
        "!python /content/Fast-SRGAN/infer.py --image_dir '/content/framesdir' --output_dir '/content/outframes'"
      ],
      "metadata": {
        "id": "1NSFva8pQq_G",
        "colab": {
          "base_uri": "https://localhost:8080/"
        },
        "outputId": "fc2b9121-7d9a-4f28-feb9-ceef8d0bd801"
      },
      "execution_count": null,
      "outputs": [
        {
          "output_type": "stream",
          "name": "stdout",
          "text": [
            "WARNING:tensorflow:No training configuration found in save file: the model was *not* compiled. Compile it manually.\n",
            "CPU times: user 1.13 s, sys: 151 ms, total: 1.28 s\n",
            "Wall time: 2min 25s\n"
          ]
        }
      ]
    },
    {
      "cell_type": "markdown",
      "source": [
        "# Compiling the output frames to create the upsampled video\n",
        "\n",
        "The output video will be saved as '/content/pretrained_FastSRGAN_output.mp4'"
      ],
      "metadata": {
        "id": "eFVYNbGhY92t"
      }
    },
    {
      "cell_type": "code",
      "source": [
        "frames_to_video(output_dir, fps)"
      ],
      "metadata": {
        "id": "IHo7nePHR7dP"
      },
      "execution_count": null,
      "outputs": []
    },
    {
      "cell_type": "markdown",
      "source": [
        "# Removing the stored input and output frames\n",
        "Run the cell below to remove the input and output frame directories"
      ],
      "metadata": {
        "id": "FJlZWAGwq3Jp"
      }
    },
    {
      "cell_type": "code",
      "source": [
        "for image in os.listdir('/content/framesdir'):\n",
        "  os.remove('/content/framesdir' + '/' + image)\n",
        "os.rmdir('/content/framesdir')\n",
        "\n",
        "for image in os.listdir('/content/outframes'):\n",
        "  os.remove('/content/outframes' + '/' + image)\n",
        "os.rmdir('/content/outframes')"
      ],
      "metadata": {
        "id": "MOx3q1gR-Orx"
      },
      "execution_count": null,
      "outputs": []
    }
  ]
}