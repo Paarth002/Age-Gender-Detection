{
  "nbformat": 4,
  "nbformat_minor": 0,
  "metadata": {
    "colab": {
      "name": "Fast_SRGAN_img_inference.ipynb",
      "provenance": [],
      "collapsed_sections": [
        "PAGm7eEY5t1i",
        "XGyjzeGMP8aL",
        "oQoyDWN5QYcg",
        "XzCwihN7Xz4I"
      ]
    },
    "kernelspec": {
      "name": "python3",
      "display_name": "Python 3"
    },
    "language_info": {
      "name": "python"
    }
  },
  "cells": [
    {
      "cell_type": "markdown",
      "source": [
        "\n",
        "Run this code on google colab to **upsample an image** using Fast-SRGAN pre-trained on on the DIV2k dataset. This generates a **x4 resolution image**\n",
        "\n",
        "---\n",
        "\n",
        "\n",
        "Download this notebook, upload it on google colab and then execute\n",
        "\n",
        "\n",
        "---\n",
        "\n",
        "\n",
        "\n",
        "Upload the input LR **.jpg** image in the '/content/input_dir' directory, which will be created by excuting the below code line\n",
        "\n",
        "\n",
        "---\n",
        "\n",
        "\n",
        "It is advisable to connect runtime to standard GPU\n",
        "\n",
        "\n",
        "---\n",
        "\n",
        "\n",
        "Fast-SRGAN method is much faster as compared to other SISR methods, due to the addition of inverted residual networks in the standard SRGAN architecture. Maximum frame dimensions for optimum upsampling time is 384x384"
      ],
      "metadata": {
        "id": "xpThbHnuNKCU"
      }
    },
    {
      "cell_type": "markdown",
      "source": [
        "# Creating input image and output image directories"
      ],
      "metadata": {
        "id": "PAGm7eEY5t1i"
      }
    },
    {
      "cell_type": "code",
      "source": [
        "import os\n",
        "if (os.path.exists('/content/input_dir') == False):\n",
        "  os.makedirs('/content/input_dir')\n",
        "\n",
        "if (os.path.exists('/content/ouput_dir') == False):\n",
        "  os.makedirs('/content/ouput_dir')\n"
      ],
      "metadata": {
        "id": "S1amu5_6wQb8"
      },
      "execution_count": 8,
      "outputs": []
    },
    {
      "cell_type": "markdown",
      "source": [
        "# Cloning the Fast-SRGAN github repository "
      ],
      "metadata": {
        "id": "XGyjzeGMP8aL"
      }
    },
    {
      "cell_type": "code",
      "source": [
        "!git clone https://github.com/HasnainRaz/Fast-SRGAN.git"
      ],
      "metadata": {
        "colab": {
          "base_uri": "https://localhost:8080/"
        },
        "id": "34E2tcmFMlsm",
        "outputId": "49f8f06a-2779-4e62-b778-bfe7353b8f9f"
      },
      "execution_count": 3,
      "outputs": [
        {
          "output_type": "stream",
          "name": "stdout",
          "text": [
            "Cloning into 'Fast-SRGAN'...\n",
            "remote: Enumerating objects: 136, done.\u001b[K\n",
            "remote: Counting objects: 100% (6/6), done.\u001b[K\n",
            "remote: Compressing objects: 100% (6/6), done.\u001b[K\n",
            "remote: Total 136 (delta 1), reused 0 (delta 0), pack-reused 130\u001b[K\n",
            "Receiving objects: 100% (136/136), 95.31 MiB | 13.85 MiB/s, done.\n",
            "Resolving deltas: 100% (65/65), done.\n"
          ]
        }
      ]
    },
    {
      "cell_type": "markdown",
      "source": [
        "# Installing the required packages\n",
        "You also have to uninstall the existing version of the h5py library and install the 2.10.0 version"
      ],
      "metadata": {
        "id": "oQoyDWN5QYcg"
      }
    },
    {
      "cell_type": "code",
      "source": [
        "!pip install -r /content/Fast-SRGAN/requirements.txt"
      ],
      "metadata": {
        "colab": {
          "base_uri": "https://localhost:8080/",
          "height": 1000
        },
        "id": "nNccSZs_Mluo",
        "outputId": "6b92639f-6196-4e15-b476-5fa7d48fe0c5"
      },
      "execution_count": 4,
      "outputs": [
        {
          "output_type": "stream",
          "name": "stdout",
          "text": [
            "Collecting tensorflow==2.0.3\n",
            "  Downloading tensorflow-2.0.3-cp37-cp37m-manylinux2010_x86_64.whl (86.4 MB)\n",
            "\u001b[K     |████████████████████████████████| 86.4 MB 56 kB/s \n",
            "\u001b[?25hCollecting opencv-python==4.2.0.32\n",
            "  Downloading opencv_python-4.2.0.32-cp37-cp37m-manylinux1_x86_64.whl (28.2 MB)\n",
            "\u001b[K     |████████████████████████████████| 28.2 MB 92.2 MB/s \n",
            "\u001b[?25hCollecting numpy==1.17.2\n",
            "  Downloading numpy-1.17.2-cp37-cp37m-manylinux1_x86_64.whl (20.3 MB)\n",
            "\u001b[K     |████████████████████████████████| 20.3 MB 1.1 MB/s \n",
            "\u001b[?25hRequirement already satisfied: absl-py>=0.7.0 in /usr/local/lib/python3.7/dist-packages (from tensorflow==2.0.3->-r /content/Fast-SRGAN/requirements.txt (line 1)) (1.0.0)\n",
            "Collecting gast==0.2.2\n",
            "  Downloading gast-0.2.2.tar.gz (10 kB)\n",
            "Requirement already satisfied: wrapt>=1.11.1 in /usr/local/lib/python3.7/dist-packages (from tensorflow==2.0.3->-r /content/Fast-SRGAN/requirements.txt (line 1)) (1.13.3)\n",
            "Requirement already satisfied: keras-preprocessing>=1.0.5 in /usr/local/lib/python3.7/dist-packages (from tensorflow==2.0.3->-r /content/Fast-SRGAN/requirements.txt (line 1)) (1.1.2)\n",
            "Requirement already satisfied: protobuf>=3.6.1 in /usr/local/lib/python3.7/dist-packages (from tensorflow==2.0.3->-r /content/Fast-SRGAN/requirements.txt (line 1)) (3.17.3)\n",
            "Requirement already satisfied: opt-einsum>=2.3.2 in /usr/local/lib/python3.7/dist-packages (from tensorflow==2.0.3->-r /content/Fast-SRGAN/requirements.txt (line 1)) (3.3.0)\n",
            "Requirement already satisfied: six>=1.10.0 in /usr/local/lib/python3.7/dist-packages (from tensorflow==2.0.3->-r /content/Fast-SRGAN/requirements.txt (line 1)) (1.15.0)\n",
            "Requirement already satisfied: termcolor>=1.1.0 in /usr/local/lib/python3.7/dist-packages (from tensorflow==2.0.3->-r /content/Fast-SRGAN/requirements.txt (line 1)) (1.1.0)\n",
            "Collecting tensorboard<2.1.0,>=2.0.0\n",
            "  Downloading tensorboard-2.0.2-py3-none-any.whl (3.8 MB)\n",
            "\u001b[K     |████████████████████████████████| 3.8 MB 59.4 MB/s \n",
            "\u001b[?25hCollecting keras-applications>=1.0.8\n",
            "  Downloading Keras_Applications-1.0.8-py3-none-any.whl (50 kB)\n",
            "\u001b[K     |████████████████████████████████| 50 kB 5.6 MB/s \n",
            "\u001b[?25hCollecting tensorflow-estimator<2.1.0,>=2.0.0\n",
            "  Downloading tensorflow_estimator-2.0.1-py2.py3-none-any.whl (449 kB)\n",
            "\u001b[K     |████████████████████████████████| 449 kB 69.8 MB/s \n",
            "\u001b[?25hRequirement already satisfied: google-pasta>=0.1.6 in /usr/local/lib/python3.7/dist-packages (from tensorflow==2.0.3->-r /content/Fast-SRGAN/requirements.txt (line 1)) (0.2.0)\n",
            "Requirement already satisfied: grpcio>=1.8.6 in /usr/local/lib/python3.7/dist-packages (from tensorflow==2.0.3->-r /content/Fast-SRGAN/requirements.txt (line 1)) (1.44.0)\n",
            "Requirement already satisfied: wheel>=0.26 in /usr/local/lib/python3.7/dist-packages (from tensorflow==2.0.3->-r /content/Fast-SRGAN/requirements.txt (line 1)) (0.37.1)\n",
            "Requirement already satisfied: astor>=0.6.0 in /usr/local/lib/python3.7/dist-packages (from tensorflow==2.0.3->-r /content/Fast-SRGAN/requirements.txt (line 1)) (0.8.1)\n",
            "Requirement already satisfied: h5py in /usr/local/lib/python3.7/dist-packages (from keras-applications>=1.0.8->tensorflow==2.0.3->-r /content/Fast-SRGAN/requirements.txt (line 1)) (3.1.0)\n",
            "Requirement already satisfied: google-auth<2,>=1.6.3 in /usr/local/lib/python3.7/dist-packages (from tensorboard<2.1.0,>=2.0.0->tensorflow==2.0.3->-r /content/Fast-SRGAN/requirements.txt (line 1)) (1.35.0)\n",
            "Requirement already satisfied: setuptools>=41.0.0 in /usr/local/lib/python3.7/dist-packages (from tensorboard<2.1.0,>=2.0.0->tensorflow==2.0.3->-r /content/Fast-SRGAN/requirements.txt (line 1)) (57.4.0)\n",
            "Requirement already satisfied: google-auth-oauthlib<0.5,>=0.4.1 in /usr/local/lib/python3.7/dist-packages (from tensorboard<2.1.0,>=2.0.0->tensorflow==2.0.3->-r /content/Fast-SRGAN/requirements.txt (line 1)) (0.4.6)\n",
            "Requirement already satisfied: markdown>=2.6.8 in /usr/local/lib/python3.7/dist-packages (from tensorboard<2.1.0,>=2.0.0->tensorflow==2.0.3->-r /content/Fast-SRGAN/requirements.txt (line 1)) (3.3.6)\n",
            "Requirement already satisfied: werkzeug>=0.11.15 in /usr/local/lib/python3.7/dist-packages (from tensorboard<2.1.0,>=2.0.0->tensorflow==2.0.3->-r /content/Fast-SRGAN/requirements.txt (line 1)) (1.0.1)\n",
            "Requirement already satisfied: requests<3,>=2.21.0 in /usr/local/lib/python3.7/dist-packages (from tensorboard<2.1.0,>=2.0.0->tensorflow==2.0.3->-r /content/Fast-SRGAN/requirements.txt (line 1)) (2.23.0)\n",
            "Requirement already satisfied: pyasn1-modules>=0.2.1 in /usr/local/lib/python3.7/dist-packages (from google-auth<2,>=1.6.3->tensorboard<2.1.0,>=2.0.0->tensorflow==2.0.3->-r /content/Fast-SRGAN/requirements.txt (line 1)) (0.2.8)\n",
            "Requirement already satisfied: rsa<5,>=3.1.4 in /usr/local/lib/python3.7/dist-packages (from google-auth<2,>=1.6.3->tensorboard<2.1.0,>=2.0.0->tensorflow==2.0.3->-r /content/Fast-SRGAN/requirements.txt (line 1)) (4.8)\n",
            "Requirement already satisfied: cachetools<5.0,>=2.0.0 in /usr/local/lib/python3.7/dist-packages (from google-auth<2,>=1.6.3->tensorboard<2.1.0,>=2.0.0->tensorflow==2.0.3->-r /content/Fast-SRGAN/requirements.txt (line 1)) (4.2.4)\n",
            "Requirement already satisfied: requests-oauthlib>=0.7.0 in /usr/local/lib/python3.7/dist-packages (from google-auth-oauthlib<0.5,>=0.4.1->tensorboard<2.1.0,>=2.0.0->tensorflow==2.0.3->-r /content/Fast-SRGAN/requirements.txt (line 1)) (1.3.1)\n",
            "Requirement already satisfied: importlib-metadata>=4.4 in /usr/local/lib/python3.7/dist-packages (from markdown>=2.6.8->tensorboard<2.1.0,>=2.0.0->tensorflow==2.0.3->-r /content/Fast-SRGAN/requirements.txt (line 1)) (4.11.2)\n",
            "Requirement already satisfied: zipp>=0.5 in /usr/local/lib/python3.7/dist-packages (from importlib-metadata>=4.4->markdown>=2.6.8->tensorboard<2.1.0,>=2.0.0->tensorflow==2.0.3->-r /content/Fast-SRGAN/requirements.txt (line 1)) (3.7.0)\n",
            "Requirement already satisfied: typing-extensions>=3.6.4 in /usr/local/lib/python3.7/dist-packages (from importlib-metadata>=4.4->markdown>=2.6.8->tensorboard<2.1.0,>=2.0.0->tensorflow==2.0.3->-r /content/Fast-SRGAN/requirements.txt (line 1)) (3.10.0.2)\n",
            "Requirement already satisfied: pyasn1<0.5.0,>=0.4.6 in /usr/local/lib/python3.7/dist-packages (from pyasn1-modules>=0.2.1->google-auth<2,>=1.6.3->tensorboard<2.1.0,>=2.0.0->tensorflow==2.0.3->-r /content/Fast-SRGAN/requirements.txt (line 1)) (0.4.8)\n",
            "Requirement already satisfied: certifi>=2017.4.17 in /usr/local/lib/python3.7/dist-packages (from requests<3,>=2.21.0->tensorboard<2.1.0,>=2.0.0->tensorflow==2.0.3->-r /content/Fast-SRGAN/requirements.txt (line 1)) (2021.10.8)\n",
            "Requirement already satisfied: chardet<4,>=3.0.2 in /usr/local/lib/python3.7/dist-packages (from requests<3,>=2.21.0->tensorboard<2.1.0,>=2.0.0->tensorflow==2.0.3->-r /content/Fast-SRGAN/requirements.txt (line 1)) (3.0.4)\n",
            "Requirement already satisfied: idna<3,>=2.5 in /usr/local/lib/python3.7/dist-packages (from requests<3,>=2.21.0->tensorboard<2.1.0,>=2.0.0->tensorflow==2.0.3->-r /content/Fast-SRGAN/requirements.txt (line 1)) (2.10)\n",
            "Requirement already satisfied: urllib3!=1.25.0,!=1.25.1,<1.26,>=1.21.1 in /usr/local/lib/python3.7/dist-packages (from requests<3,>=2.21.0->tensorboard<2.1.0,>=2.0.0->tensorflow==2.0.3->-r /content/Fast-SRGAN/requirements.txt (line 1)) (1.24.3)\n",
            "Requirement already satisfied: oauthlib>=3.0.0 in /usr/local/lib/python3.7/dist-packages (from requests-oauthlib>=0.7.0->google-auth-oauthlib<0.5,>=0.4.1->tensorboard<2.1.0,>=2.0.0->tensorflow==2.0.3->-r /content/Fast-SRGAN/requirements.txt (line 1)) (3.2.0)\n",
            "Requirement already satisfied: cached-property in /usr/local/lib/python3.7/dist-packages (from h5py->keras-applications>=1.0.8->tensorflow==2.0.3->-r /content/Fast-SRGAN/requirements.txt (line 1)) (1.5.2)\n",
            "Building wheels for collected packages: gast\n",
            "  Building wheel for gast (setup.py) ... \u001b[?25l\u001b[?25hdone\n",
            "  Created wheel for gast: filename=gast-0.2.2-py3-none-any.whl size=7554 sha256=d1887e6ef333d52a1e18f208946eed05c1556bb9ee76ea1aa8360f09542ad9ce\n",
            "  Stored in directory: /root/.cache/pip/wheels/21/7f/02/420f32a803f7d0967b48dd823da3f558c5166991bfd204eef3\n",
            "Successfully built gast\n",
            "Installing collected packages: numpy, tensorflow-estimator, tensorboard, keras-applications, gast, tensorflow, opencv-python\n",
            "  Attempting uninstall: numpy\n",
            "    Found existing installation: numpy 1.21.5\n",
            "    Uninstalling numpy-1.21.5:\n",
            "      Successfully uninstalled numpy-1.21.5\n",
            "  Attempting uninstall: tensorflow-estimator\n",
            "    Found existing installation: tensorflow-estimator 2.8.0\n",
            "    Uninstalling tensorflow-estimator-2.8.0:\n",
            "      Successfully uninstalled tensorflow-estimator-2.8.0\n",
            "  Attempting uninstall: tensorboard\n",
            "    Found existing installation: tensorboard 2.8.0\n",
            "    Uninstalling tensorboard-2.8.0:\n",
            "      Successfully uninstalled tensorboard-2.8.0\n",
            "  Attempting uninstall: gast\n",
            "    Found existing installation: gast 0.5.3\n",
            "    Uninstalling gast-0.5.3:\n",
            "      Successfully uninstalled gast-0.5.3\n",
            "  Attempting uninstall: tensorflow\n",
            "    Found existing installation: tensorflow 2.8.0\n",
            "    Uninstalling tensorflow-2.8.0:\n",
            "      Successfully uninstalled tensorflow-2.8.0\n",
            "  Attempting uninstall: opencv-python\n",
            "    Found existing installation: opencv-python 4.1.2.30\n",
            "    Uninstalling opencv-python-4.1.2.30:\n",
            "      Successfully uninstalled opencv-python-4.1.2.30\n",
            "\u001b[31mERROR: pip's dependency resolver does not currently take into account all the packages that are installed. This behaviour is the source of the following dependency conflicts.\n",
            "tensorflow-probability 0.16.0 requires gast>=0.3.2, but you have gast 0.2.2 which is incompatible.\n",
            "tables 3.7.0 requires numpy>=1.19.0, but you have numpy 1.17.2 which is incompatible.\n",
            "pywavelets 1.2.0 requires numpy>=1.17.3, but you have numpy 1.17.2 which is incompatible.\n",
            "pandas 1.3.5 requires numpy>=1.17.3; platform_machine != \"aarch64\" and platform_machine != \"arm64\" and python_version < \"3.10\", but you have numpy 1.17.2 which is incompatible.\n",
            "kapre 0.3.7 requires numpy>=1.18.5, but you have numpy 1.17.2 which is incompatible.\n",
            "jaxlib 0.3.0+cuda11.cudnn805 requires numpy>=1.19, but you have numpy 1.17.2 which is incompatible.\n",
            "jax 0.3.1 requires numpy>=1.19, but you have numpy 1.17.2 which is incompatible.\n",
            "datascience 0.10.6 requires folium==0.2.1, but you have folium 0.8.3 which is incompatible.\n",
            "albumentations 0.1.12 requires imgaug<0.2.7,>=0.2.5, but you have imgaug 0.2.9 which is incompatible.\u001b[0m\n",
            "Successfully installed gast-0.2.2 keras-applications-1.0.8 numpy-1.17.2 opencv-python-4.2.0.32 tensorboard-2.0.2 tensorflow-2.0.3 tensorflow-estimator-2.0.1\n"
          ]
        },
        {
          "output_type": "display_data",
          "data": {
            "application/vnd.colab-display-data+json": {
              "pip_warning": {
                "packages": [
                  "numpy"
                ]
              }
            }
          },
          "metadata": {}
        }
      ]
    },
    {
      "cell_type": "code",
      "source": [
        "!pip uninstall h5py\n",
        "!pip install h5py==2.10.0"
      ],
      "metadata": {
        "colab": {
          "base_uri": "https://localhost:8080/"
        },
        "id": "7JE9_B8MQlNa",
        "outputId": "d8ddfce2-9373-4564-e777-992ccf5c7722"
      },
      "execution_count": 5,
      "outputs": [
        {
          "output_type": "stream",
          "name": "stdout",
          "text": [
            "Found existing installation: h5py 3.1.0\n",
            "Uninstalling h5py-3.1.0:\n",
            "  Would remove:\n",
            "    /usr/local/lib/python3.7/dist-packages/h5py-3.1.0.dist-info/*\n",
            "    /usr/local/lib/python3.7/dist-packages/h5py.libs/libaec-9c9e97eb.so.0.0.10\n",
            "    /usr/local/lib/python3.7/dist-packages/h5py.libs/libhdf5-00e8fae8.so.200.0.0\n",
            "    /usr/local/lib/python3.7/dist-packages/h5py.libs/libhdf5_hl-383c339f.so.200.0.0\n",
            "    /usr/local/lib/python3.7/dist-packages/h5py.libs/libsz-e7aa62f5.so.2.0.1\n",
            "    /usr/local/lib/python3.7/dist-packages/h5py.libs/libz-eb09ad1d.so.1.2.3\n",
            "    /usr/local/lib/python3.7/dist-packages/h5py/*\n",
            "Proceed (y/n)? y\n",
            "  Successfully uninstalled h5py-3.1.0\n",
            "Collecting h5py==2.10.0\n",
            "  Downloading h5py-2.10.0-cp37-cp37m-manylinux1_x86_64.whl (2.9 MB)\n",
            "\u001b[K     |████████████████████████████████| 2.9 MB 11.3 MB/s \n",
            "\u001b[?25hRequirement already satisfied: six in /usr/local/lib/python3.7/dist-packages (from h5py==2.10.0) (1.15.0)\n",
            "Requirement already satisfied: numpy>=1.7 in /usr/local/lib/python3.7/dist-packages (from h5py==2.10.0) (1.17.2)\n",
            "Installing collected packages: h5py\n",
            "Successfully installed h5py-2.10.0\n"
          ]
        }
      ]
    },
    {
      "cell_type": "markdown",
      "source": [
        "# Applying the pre-trained Fast-SRGAN on an image\n",
        "The output image will be saved as '/content/ouput_dir/*name of uploaded image*.jpg' in the '/content/ouput_dir' directory\n",
        "\n",
        "Since we are cloning another github repo, we have to give the correct model file path to the 'load_model()' function in 'infer.py' \n",
        "\n",
        "To do this Follow the steps:-\n",
        "1.   Click the files icon on the LHS bar of colab window\n",
        "2.   Click the small arrow adjacent to the 'Fast-SRGAN' folder, and then double-click 'infer.py'\n",
        "3.   In this notebook, replace the string 'models/generator.h5' with '/content/Fast-SRGAN/models/generator.h5'"
      ],
      "metadata": {
        "id": "XzCwihN7Xz4I"
      }
    },
    {
      "cell_type": "code",
      "source": [
        "%%time\n",
        "!python /content/Fast-SRGAN/infer.py --image_dir '/content/input_dir' --output_dir '/content/ouput_dir'"
      ],
      "metadata": {
        "id": "1NSFva8pQq_G",
        "colab": {
          "base_uri": "https://localhost:8080/"
        },
        "outputId": "cbb440c0-7a27-41b9-a2bc-f665a9225a4a"
      },
      "execution_count": null,
      "outputs": [
        {
          "output_type": "stream",
          "name": "stdout",
          "text": [
            "2022-03-21 14:56:43.265227: I tensorflow/core/platform/cpu_feature_guard.cc:142] Your CPU supports instructions that this TensorFlow binary was not compiled to use: AVX2 FMA\n",
            "2022-03-21 14:56:43.269705: I tensorflow/core/platform/profile_utils/cpu_utils.cc:94] CPU Frequency: 2199995000 Hz\n",
            "2022-03-21 14:56:43.269921: I tensorflow/compiler/xla/service/service.cc:168] XLA service 0x561e43b4ebc0 executing computations on platform Host. Devices:\n",
            "2022-03-21 14:56:43.269957: I tensorflow/compiler/xla/service/service.cc:175]   StreamExecutor device (0): Host, Default Version\n",
            "WARNING:tensorflow:No training configuration found in save file: the model was *not* compiled. Compile it manually.\n",
            "2022-03-21 14:56:46.651984: W tensorflow/core/framework/cpu_allocator_impl.cc:81] Allocation of 857093376 exceeds 10% of system memory.\n",
            "2022-03-21 14:56:48.217000: W tensorflow/core/framework/cpu_allocator_impl.cc:81] Allocation of 857093376 exceeds 10% of system memory.\n",
            "2022-03-21 14:56:51.804510: W tensorflow/core/framework/cpu_allocator_impl.cc:81] Allocation of 857093376 exceeds 10% of system memory.\n",
            "2022-03-21 14:56:53.204965: W tensorflow/core/framework/cpu_allocator_impl.cc:81] Allocation of 857093376 exceeds 10% of system memory.\n",
            "2022-03-21 14:56:56.359744: W tensorflow/core/framework/cpu_allocator_impl.cc:81] Allocation of 857093376 exceeds 10% of system memory.\n",
            "tcmalloc: large alloc 1285726208 bytes == 0x561ed2f50000 @  0x7fa23eebe1e7 0x7fa22c269bd2 0x7fa22ecd1c2a 0x7fa22f0cbc22 0x7fa22f0cd49d 0x7fa22f0faeee 0x7fa22f0feade 0x7fa22f0ff5d7 0x7fa228728dbc 0x7fa22871b4c5 0x7fa2287dbad1 0x7fa2287d91c8 0x7fa23d7a06df 0x7fa23ec736db 0x7fa23dda861f\n",
            "tcmalloc: large alloc 1285914624 bytes == 0x561ed2f50000 @  0x7fa23eebe1e7 0x7fa22c269bd2 0x7fa22ecd1c2a 0x7fa22f0cbc22 0x7fa22f0cd49d 0x7fa22f0faeee 0x7fa22f0feade 0x7fa22f0ff5d7 0x7fa228728dbc 0x7fa22871b4c5 0x7fa2287dbad1 0x7fa2287d91c8 0x7fa23d7a06df 0x7fa23ec736db 0x7fa23dda861f\n",
            "tcmalloc: large alloc 2285584384 bytes == 0x561ed2f04000 @  0x7fa23eea0b6b 0x7fa23eec0379 0x7fa228802ee7 0x7fa2285f5d3f 0x7fa2284c168b 0x7fa2284877e6 0x7fa228488673 0x7fa228488843 0x7fa22f0ff351 0x7fa228728dbc 0x7fa22871b4c5 0x7fa2287dbad1 0x7fa2287d91c8 0x7fa23d7a06df 0x7fa23ec736db 0x7fa23dda861f\n",
            "tcmalloc: large alloc 5142806528 bytes == 0x561f5b2b8000 @  0x7fa23eebe1e7 0x7fa22c269bd2 0x7fa22ecd1c2a 0x7fa22f0cbc22 0x7fa22f0cd49d 0x7fa22f0faeee 0x7fa22f0feade 0x7fa22f0ff5d7 0x7fa228728dbc 0x7fa22871b4c5 0x7fa2287dbad1 0x7fa2287d91c8 0x7fa23d7a06df 0x7fa23ec736db 0x7fa23dda861f\n",
            "tcmalloc: large alloc 2285584384 bytes == 0x561f5b2b8000 @  0x7fa23eea0b6b 0x7fa23eec0379 0x7fa228802ee7 0x7fa2285f5d3f 0x7fa2284c168b 0x7fa2284877e6 0x7fa228488673 0x7fa228488843 0x7fa22b4d8275 0x7fa228728dbc 0x7fa22871b4c5 0x7fa2287dbad1 0x7fa2287d91c8 0x7fa23d7a06df 0x7fa23ec736db 0x7fa23dda861f\n",
            "tcmalloc: large alloc 2285584384 bytes == 0x561fe366c000 @  0x7fa23eea0b6b 0x7fa23eec0379 0x7fa228802ee7 0x7fa2285f5d3f 0x7fa2284c168b 0x7fa2284877e6 0x7fa228488673 0x7fa228488843 0x7fa22cd13855 0x7fa228728dbc 0x7fa22871b4c5 0x7fa2287dbad1 0x7fa2287d91c8 0x7fa23d7a06df 0x7fa23ec736db 0x7fa23dda861f\n",
            "tcmalloc: large alloc 2285584384 bytes == 0x561ed2f04000 @  0x7fa23eea0b6b 0x7fa23eec0379 0x7fa228802ee7 0x7fa2285f5d3f 0x7fa2284c168b 0x7fa2284877e6 0x7fa228488673 0x7fa228488843 0x7fa22c065368 0x7fa228728dbc 0x7fa22871b4c5 0x7fa2287dbad1 0x7fa2287d91c8 0x7fa23d7a06df 0x7fa23ec736db 0x7fa23dda861f\n",
            "tcmalloc: large alloc 20570284032 bytes == 0x56211512a000 @  0x7fa23eebe1e7 0x7fa22c269bd2 0x7fa22ecd1c2a 0x7fa22f0cbc22 0x7fa22f0cd49d 0x7fa22f0faeee 0x7fa22f0feade 0x7fa22f0ff5d7 0x7fa228728dbc 0x7fa22871b4c5 0x7fa2287dbad1 0x7fa2287d91c8 0x7fa23d7a06df 0x7fa23ec736db 0x7fa23dda861f\n",
            "CPU times: user 421 ms, sys: 65.2 ms, total: 486 ms\n",
            "Wall time: 53.6 s\n"
          ]
        }
      ]
    }
  ]
}