{
  "nbformat": 4,
  "nbformat_minor": 0,
  "metadata": {
    "colab": {
      "name": "utkface.ipynb",
      "provenance": [],
      "collapsed_sections": []
    },
    "kernelspec": {
      "name": "python3",
      "display_name": "Python 3"
    },
    "language_info": {
      "name": "python"
    }
  },
  "cells": [
    {
      "cell_type": "markdown",
      "source": [
        "**AGE AND GENDER DETECTION FROM FACIAL IMAGES USING CNN**\n"
      ],
      "metadata": {
        "id": "jpTzYMyJxJAn"
      }
    },
    {
      "cell_type": "markdown",
      "source": [
        "Mounting Drive"
      ],
      "metadata": {
        "id": "JI1RZIyV0QF3"
      }
    },
    {
      "cell_type": "code",
      "execution_count": null,
      "metadata": {
        "colab": {
          "base_uri": "https://localhost:8080/"
        },
        "id": "jUmc1Ax4zqaY",
        "outputId": "5dbb5d20-cbb0-49fe-a46d-aecac09e2e3c"
      },
      "outputs": [
        {
          "output_type": "stream",
          "name": "stdout",
          "text": [
            "Mounted at /content/drive\n"
          ]
        }
      ],
      "source": [
        "#Mount Drive\n",
        "from google.colab import drive\n",
        "drive.mount('/content/drive')"
      ]
    },
    {
      "cell_type": "markdown",
      "source": [
        "**Data Preprocessing**\n",
        "\n",
        "We have used the UTKFace Dataset from https://www.kaggle.com/datasets/jangedoo/utkface-new"
      ],
      "metadata": {
        "id": "XFK0YlJW0TKa"
      }
    },
    {
      "cell_type": "code",
      "source": [
        "#Set folder location\n",
        "f = \"/content/drive/MyDrive/UTKFace\""
      ],
      "metadata": {
        "id": "BrjitA6Yz3Jj"
      },
      "execution_count": null,
      "outputs": []
    },
    {
      "cell_type": "markdown",
      "source": [
        "Add all the images of the dataset in this folder"
      ],
      "metadata": {
        "id": "AR9uA3ujyG6e"
      }
    },
    {
      "cell_type": "code",
      "source": [
        "#Get files from folder\n",
        "import os\n",
        "fs = os.listdir(f)"
      ],
      "metadata": {
        "id": "_pRCJmJa_by2"
      },
      "execution_count": null,
      "outputs": []
    },
    {
      "cell_type": "markdown",
      "source": [
        "Get images from all files in the said folder"
      ],
      "metadata": {
        "id": "rb0DpjxiyScr"
      }
    },
    {
      "cell_type": "code",
      "source": [
        "import cv2\n",
        "Age = []\n",
        "Gender = []\n",
        "Image = []\n",
        "\n",
        "for i in fs:\n",
        "  final = f + '/' + i\n",
        "  print(final)\n",
        "  image = cv2.imread(final)\n",
        "\n",
        "  image = cv2.cvtColor(image, cv2.COLOR_BGR2RGB)\n",
        "  image = cv2.resize(image,(48,48))\n",
        "  Image.append(image)"
      ],
      "metadata": {
        "id": "mbKoTRyk_ey7"
      },
      "execution_count": null,
      "outputs": []
    },
    {
      "cell_type": "markdown",
      "source": [
        "Age and gender labels"
      ],
      "metadata": {
        "id": "DadA5WSryan_"
      }
    },
    {
      "cell_type": "code",
      "source": [
        "for i in fs:\n",
        "  age_label = int(i.split('_')[0])\n",
        "  gender_label = int(i.split('_')[1])\n",
        "  Age.append(age_label)\n",
        "  Gender.append(gender_label)"
      ],
      "metadata": {
        "id": "cm6VTkkHBnIE"
      },
      "execution_count": null,
      "outputs": []
    },
    {
      "cell_type": "markdown",
      "source": [
        "Checking an example image from dataset"
      ],
      "metadata": {
        "id": "Rc98hCLLymYB"
      }
    },
    {
      "cell_type": "code",
      "source": [
        "from google.colab.patches import cv2_imshow\n",
        "cv2_imshow(Image[0])"
      ],
      "metadata": {
        "colab": {
          "base_uri": "https://localhost:8080/",
          "height": 65
        },
        "id": "C0IGevSmBoZ2",
        "outputId": "1c277c8e-dcb4-4d8f-d090-34016f901a6e"
      },
      "execution_count": null,
      "outputs": [
        {
          "output_type": "display_data",
          "data": {
            "text/plain": [
              "<PIL.Image.Image image mode=RGB size=48x48 at 0x7F59803AF710>"
            ],
            "image/png": "[encoded data removed]"
          },
          "metadata": {}
        }
      ]
    },
    {
      "cell_type": "markdown",
      "source": [
        "Getting respective labels of example image"
      ],
      "metadata": {
        "id": "OdWM1-Y6yrdq"
      }
    },
    {
      "cell_type": "code",
      "source": [
        "print(Age[0])\n",
        "print(Gender[0])"
      ],
      "metadata": {
        "colab": {
          "base_uri": "https://localhost:8080/"
        },
        "id": "Mj8KCo6-Brkd",
        "outputId": "83debcbe-1b5c-4957-e48b-ca53406c82ec"
      },
      "execution_count": null,
      "outputs": [
        {
          "output_type": "stream",
          "name": "stdout",
          "text": [
            "26\n",
            "0\n"
          ]
        }
      ]
    },
    {
      "cell_type": "markdown",
      "source": [
        "Changing lists to numpy arrays"
      ],
      "metadata": {
        "id": "frjL3BHYywAY"
      }
    },
    {
      "cell_type": "code",
      "source": [
        "import numpy as np\n",
        "images = np.array(Image)\n",
        "genders = np.array(Gender)\n",
        "ages = np.array(Age) "
      ],
      "metadata": {
        "id": "u5_hH91eB-Fy"
      },
      "execution_count": null,
      "outputs": []
    },
    {
      "cell_type": "markdown",
      "source": [
        "Finding out the number of images belonging to each gender"
      ],
      "metadata": {
        "id": "T25tVHKJy9d2"
      }
    },
    {
      "cell_type": "code",
      "source": [
        "values, counts = np.unique(genders, return_counts=True)\n",
        "print(counts)"
      ],
      "metadata": {
        "colab": {
          "base_uri": "https://localhost:8080/"
        },
        "id": "1rEzaFspCRJA",
        "outputId": "7bc46f5f-c14d-4134-9b7a-a37e7512928f"
      },
      "execution_count": null,
      "outputs": [
        {
          "output_type": "stream",
          "name": "stdout",
          "text": [
            "[12391 11317]\n"
          ]
        }
      ]
    },
    {
      "cell_type": "markdown",
      "source": [
        "Plotting Male-female distribution graph\n",
        "\n",
        "We see that the number of images belonging to both the genders are comparable"
      ],
      "metadata": {
        "id": "K6EMybzjzDwd"
      }
    },
    {
      "cell_type": "code",
      "source": [
        "import matplotlib.pyplot as plt\n",
        "fig = plt.figure()\n",
        "ax = fig.add_axes([0,0,1,1])\n",
        "gender = ['Male', 'Female']\n",
        "values=[12391,11317]\n",
        "ax.bar(gender,values)\n",
        "plt.show()"
      ],
      "metadata": {
        "colab": {
          "base_uri": "https://localhost:8080/",
          "height": 336
        },
        "id": "obp_Jw9ICVzu",
        "outputId": "961a6d2a-90e2-44ba-fa2c-d4e859f23ab2"
      },
      "execution_count": null,
      "outputs": [
        {
          "output_type": "display_data",
          "data": {
            "text/plain": [
              "<Figure size 432x288 with 1 Axes>"
            ],
            "image/png": "[encoded data removed]"
          },
          "metadata": {
            "needs_background": "light"
          }
        }
      ]
    },
    {
      "cell_type": "markdown",
      "source": [
        "Finding the age distribution"
      ],
      "metadata": {
        "id": "izxVbuFOzZla"
      }
    },
    {
      "cell_type": "code",
      "source": [
        "values, counts = np.unique(ages, return_counts=True)\n",
        "print(counts)"
      ],
      "metadata": {
        "colab": {
          "base_uri": "https://localhost:8080/"
        },
        "id": "z1tjmVFOC9sK",
        "outputId": "9b23b14d-4516-46be-eaa6-fb8ab0de4db9"
      },
      "execution_count": null,
      "outputs": [
        {
          "output_type": "stream",
          "name": "stdout",
          "text": [
            "[1123  482  289  273  196  131  139  263  166  156   65  130   81  157\n",
            "  177  247  158  262   98  284  346  395  426  859  734 2197  615  918\n",
            "  570  724  350  664  143  409  880  483  293  325  266  526  132  266\n",
            "  157  100  440  153  170  153  148  381  138  232  241  353  268  236\n",
            "   97  271   82  293  161  125  103   50  259   77   94  100   56  147\n",
            "   33   98   63   32  148   58   28   69   23  133   22   40   18   24\n",
            "  155   35   10   34   33   82    2   13    5    9   17    9   11    2\n",
            "    1    5    5    1    3    4]\n"
          ]
        }
      ]
    },
    {
      "cell_type": "code",
      "source": [
        "val = values.tolist()\n",
        "cnt = counts.tolist()"
      ],
      "metadata": {
        "id": "1OcLJAFaDEW1"
      },
      "execution_count": null,
      "outputs": []
    },
    {
      "cell_type": "markdown",
      "source": [
        "Plotting the age distribution graph"
      ],
      "metadata": {
        "id": "CoRHsMOUzl1O"
      }
    },
    {
      "cell_type": "code",
      "source": [
        "plt.plot(counts)\n",
        "plt.xlabel('Ages')\n",
        "plt.ylabel('Distribution')\n",
        "plt.show()"
      ],
      "metadata": {
        "colab": {
          "base_uri": "https://localhost:8080/",
          "height": 279
        },
        "id": "exZ8Yv4GDI-e",
        "outputId": "b80ee156-ae02-4c35-a254-87027d75de4f"
      },
      "execution_count": null,
      "outputs": [
        {
          "output_type": "display_data",
          "data": {
            "text/plain": [
              "<Figure size 432x288 with 1 Axes>"
            ],
            "image/png": "[encoded data removed]"
          },
          "metadata": {
            "needs_background": "light"
          }
        }
      ]
    },
    {
      "cell_type": "markdown",
      "source": [
        "Creating combined labels of age and gender"
      ],
      "metadata": {
        "id": "pYiNdRjKzrbO"
      }
    },
    {
      "cell_type": "code",
      "source": [
        "# Creating combined labels of age and gender\n",
        "labels_final = []\n",
        "\n",
        "i = 0\n",
        "for i in range(len(ages)):\n",
        "  label = []\n",
        "  label.append([ages[i]])\n",
        "  label.append([genders[i]])\n",
        "  labels_final.append(label)\n",
        "  i+=1"
      ],
      "metadata": {
        "id": "EE4hpAygDNE2"
      },
      "execution_count": null,
      "outputs": []
    },
    {
      "cell_type": "code",
      "source": [
        "# Normalising values\n",
        "images_f_2 = images/255"
      ],
      "metadata": {
        "id": "LxYggpgtDhG9"
      },
      "execution_count": null,
      "outputs": []
    },
    {
      "cell_type": "code",
      "source": [
        "# Converting list into numpy array\n",
        "labels_f = np.array(labels_final)"
      ],
      "metadata": {
        "id": "00LyojA2DjaE"
      },
      "execution_count": null,
      "outputs": []
    },
    {
      "cell_type": "code",
      "source": [
        "images_f_2.shape"
      ],
      "metadata": {
        "colab": {
          "base_uri": "https://localhost:8080/"
        },
        "id": "um_2NHw4Dl-d",
        "outputId": "40898d5b-7ea2-4a8e-f332-fd09da06522e"
      },
      "execution_count": null,
      "outputs": [
        {
          "output_type": "execute_result",
          "data": {
            "text/plain": [
              "(23708, 48, 48, 3)"
            ]
          },
          "metadata": {},
          "execution_count": 17
        }
      ]
    },
    {
      "cell_type": "code",
      "source": [
        "import tensorflow as tf\n",
        "from sklearn.model_selection import train_test_split"
      ],
      "metadata": {
        "id": "Ae3rlCDZDoRA"
      },
      "execution_count": null,
      "outputs": []
    },
    {
      "cell_type": "code",
      "source": [
        "#Split dataset into 75% train and 25% test \n",
        "\n",
        "X_train, X_test, Y_train, Y_test = train_test_split(images_f_2, labels_f,test_size=0.25)"
      ],
      "metadata": {
        "id": "qEdJVTJUDreQ"
      },
      "execution_count": null,
      "outputs": []
    },
    {
      "cell_type": "code",
      "source": [
        "Y_train[0:5]"
      ],
      "metadata": {
        "colab": {
          "base_uri": "https://localhost:8080/"
        },
        "id": "Nb1ADoItEHOr",
        "outputId": "452a8cf1-d3a3-4af7-9892-72f9ee908097"
      },
      "execution_count": null,
      "outputs": [
        {
          "output_type": "execute_result",
          "data": {
            "text/plain": [
              "array([[[26],\n",
              "        [ 1]],\n",
              "\n",
              "       [[58],\n",
              "        [ 1]],\n",
              "\n",
              "       [[ 1],\n",
              "        [ 0]],\n",
              "\n",
              "       [[26],\n",
              "        [ 1]],\n",
              "\n",
              "       [[14],\n",
              "        [ 1]]])"
            ]
          },
          "metadata": {},
          "execution_count": 20
        }
      ]
    },
    {
      "cell_type": "code",
      "source": [
        "Y_train_2 = [Y_train[:,1], Y_train[:,0]]\n",
        "Y_test_2 = [Y_test[:,1], Y_test[:,0]]"
      ],
      "metadata": {
        "id": "5UFeFgT6EOwl"
      },
      "execution_count": null,
      "outputs": []
    },
    {
      "cell_type": "markdown",
      "source": [
        "We used a deep convolutional neural network to train our model on the UTK Face dataset. \n",
        "Since gender prediction is a binary classification problem and age prediction is a regression problem, sigmoid is used as the output layer for the gender model and RELU is used as the output activation layer for the age model. Moreover we have used ‘binary cross-entropy’ as the loss function for gender and ‘mean absolute error’ as the loss function for age.\n"
      ],
      "metadata": {
        "id": "gk6h_Rf8zxNN"
      }
    },
    {
      "cell_type": "code",
      "source": [
        "# Defining Convolutional Neural Network\n",
        "from tensorflow.keras.layers import Dropout\n",
        "from tensorflow.keras.layers import Flatten,BatchNormalization\n",
        "from tensorflow.keras.layers import Dense, MaxPooling2D,Conv2D\n",
        "from tensorflow.keras.layers import Input,Activation,Add\n",
        "from tensorflow.keras.models import Model\n",
        "from tensorflow.keras.regularizers import l2\n",
        "from tensorflow.keras.optimizers import Adam\n",
        "import tensorflow as tf\n",
        "\n",
        "def CNN(input_tensor,filters):\n",
        "    \n",
        "    x = Conv2D(filters=filters,kernel_size=(3, 3),padding = 'same',strides=(1, 1),kernel_regularizer=l2(0.001))(input_tensor)\n",
        "    x = Dropout(0.1)(x)\n",
        "    x = Activation('relu')(x)\n",
        "\n",
        "    return x\n",
        "def Define_Model(input_shape):\n",
        "  inputs = Input((input_shape))\n",
        "  \n",
        "  conv_1 = CNN(inputs,32)\n",
        "  maxp_1 = MaxPooling2D(pool_size = (2,2)) (conv_1)\n",
        "  conv_2 = CNN(maxp_1,64)\n",
        "  maxp_2 = MaxPooling2D(pool_size = (2, 2)) (conv_2)\n",
        "  conv_3 = CNN(maxp_2,128)\n",
        "  maxp_3 = MaxPooling2D(pool_size = (2, 2)) (conv_3)\n",
        "  conv_4 = CNN(maxp_3,256)\n",
        "  maxp_4 = MaxPooling2D(pool_size = (2, 2)) (conv_4)\n",
        "  flatten = Flatten() (maxp_4)\n",
        "  dense_1 = Dense(64,activation='relu')(flatten)\n",
        "  dense_2 = Dense(64,activation='relu')(flatten)\n",
        "  drop_1 = Dropout(0.2)(dense_1)\n",
        "  drop_2 = Dropout(0.2)(dense_2)\n",
        "  output_1 = Dense(1,activation=\"sigmoid\",name='sex_out')(drop_1)\n",
        "  output_2 = Dense(1,activation=\"relu\",name='age_out')(drop_2)\n",
        "  model = Model(inputs=[inputs], outputs=[output_1,output_2])\n",
        "  model.compile(loss=[\"binary_crossentropy\",\"mae\"], optimizer=\"Adam\",\n",
        "\tmetrics=[\"accuracy\"])\n",
        "  \n",
        "  return model"
      ],
      "metadata": {
        "id": "NQIZ9O4QESGR"
      },
      "execution_count": null,
      "outputs": []
    },
    {
      "cell_type": "code",
      "source": [
        "model = Define_Model((48,48,3))"
      ],
      "metadata": {
        "id": "FeNp0AxwEkel"
      },
      "execution_count": null,
      "outputs": []
    },
    {
      "cell_type": "code",
      "source": [
        "#Get Model summary: All the layers in the model\n",
        "\n",
        "model.summary()"
      ],
      "metadata": {
        "colab": {
          "base_uri": "https://localhost:8080/"
        },
        "id": "yGH1M1lvEnWa",
        "outputId": "93d39f1b-6d4d-4e76-e0d8-e54d290d49b3"
      },
      "execution_count": null,
      "outputs": [
        {
          "output_type": "stream",
          "name": "stdout",
          "text": [
            "Model: \"model\"\n",
            "__________________________________________________________________________________________________\n",
            " Layer (type)                   Output Shape         Param #     Connected to                     \n",
            "==================================================================================================\n",
            " input_3 (InputLayer)           [(None, 48, 48, 3)]  0           []                               \n",
            "                                                                                                  \n",
            " conv2d_8 (Conv2D)              (None, 48, 48, 32)   896         ['input_3[0][0]']                \n",
            "                                                                                                  \n",
            " dropout_12 (Dropout)           (None, 48, 48, 32)   0           ['conv2d_8[0][0]']               \n",
            "                                                                                                  \n",
            " activation_8 (Activation)      (None, 48, 48, 32)   0           ['dropout_12[0][0]']             \n",
            "                                                                                                  \n",
            " max_pooling2d_8 (MaxPooling2D)  (None, 24, 24, 32)  0           ['activation_8[0][0]']           \n",
            "                                                                                                  \n",
            " conv2d_9 (Conv2D)              (None, 24, 24, 64)   18496       ['max_pooling2d_8[0][0]']        \n",
            "                                                                                                  \n",
            " dropout_13 (Dropout)           (None, 24, 24, 64)   0           ['conv2d_9[0][0]']               \n",
            "                                                                                                  \n",
            " activation_9 (Activation)      (None, 24, 24, 64)   0           ['dropout_13[0][0]']             \n",
            "                                                                                                  \n",
            " max_pooling2d_9 (MaxPooling2D)  (None, 12, 12, 64)  0           ['activation_9[0][0]']           \n",
            "                                                                                                  \n",
            " conv2d_10 (Conv2D)             (None, 12, 12, 128)  73856       ['max_pooling2d_9[0][0]']        \n",
            "                                                                                                  \n",
            " dropout_14 (Dropout)           (None, 12, 12, 128)  0           ['conv2d_10[0][0]']              \n",
            "                                                                                                  \n",
            " activation_10 (Activation)     (None, 12, 12, 128)  0           ['dropout_14[0][0]']             \n",
            "                                                                                                  \n",
            " max_pooling2d_10 (MaxPooling2D  (None, 6, 6, 128)   0           ['activation_10[0][0]']          \n",
            " )                                                                                                \n",
            "                                                                                                  \n",
            " conv2d_11 (Conv2D)             (None, 6, 6, 256)    295168      ['max_pooling2d_10[0][0]']       \n",
            "                                                                                                  \n",
            " dropout_15 (Dropout)           (None, 6, 6, 256)    0           ['conv2d_11[0][0]']              \n",
            "                                                                                                  \n",
            " activation_11 (Activation)     (None, 6, 6, 256)    0           ['dropout_15[0][0]']             \n",
            "                                                                                                  \n",
            " max_pooling2d_11 (MaxPooling2D  (None, 3, 3, 256)   0           ['activation_11[0][0]']          \n",
            " )                                                                                                \n",
            "                                                                                                  \n",
            " flatten_2 (Flatten)            (None, 2304)         0           ['max_pooling2d_11[0][0]']       \n",
            "                                                                                                  \n",
            " dense_4 (Dense)                (None, 64)           147520      ['flatten_2[0][0]']              \n",
            "                                                                                                  \n",
            " dense_5 (Dense)                (None, 64)           147520      ['flatten_2[0][0]']              \n",
            "                                                                                                  \n",
            " dropout_16 (Dropout)           (None, 64)           0           ['dense_4[0][0]']                \n",
            "                                                                                                  \n",
            " dropout_17 (Dropout)           (None, 64)           0           ['dense_5[0][0]']                \n",
            "                                                                                                  \n",
            " sex_out (Dense)                (None, 1)            65          ['dropout_16[0][0]']             \n",
            "                                                                                                  \n",
            " age_out (Dense)                (None, 1)            65          ['dropout_17[0][0]']             \n",
            "                                                                                                  \n",
            "==================================================================================================\n",
            "Total params: 683,586\n",
            "Trainable params: 683,586\n",
            "Non-trainable params: 0\n",
            "__________________________________________________________________________________________________\n"
          ]
        }
      ]
    },
    {
      "cell_type": "code",
      "source": [
        "from tensorflow.keras.callbacks import ModelCheckpoint\n",
        "import tensorflow as tf"
      ],
      "metadata": {
        "id": "Di7fuC6UEqYu"
      },
      "execution_count": null,
      "outputs": []
    },
    {
      "cell_type": "code",
      "source": [
        "fle_s = 'Age_sex_detection.h5'\n",
        "checkpointer = ModelCheckpoint(fle_s, monitor='val_loss', verbose=1, save_best_only=True, save_weights_only=False, mode='auto', save_freq='epoch')\n",
        "Early_stop = tf.keras.callbacks.EarlyStopping(patience=75, monitor='val_loss', restore_best_weights = True),\n",
        "callback_list = [checkpointer, Early_stop]"
      ],
      "metadata": {
        "id": "P2deKhK3Ex8M"
      },
      "execution_count": null,
      "outputs": []
    },
    {
      "cell_type": "code",
      "source": [
        "# Training model using dataset\n",
        "History = model.fit(X_train, Y_train_2, batch_size=64, validation_data = (X_test, Y_test_2), epochs=400, callbacks = [callback_list])"
      ],
      "metadata": {
        "colab": {
          "base_uri": "https://localhost:8080/"
        },
        "id": "DMR89Q-8E0UZ",
        "outputId": "da8c6e9c-45c7-4c52-c375-c0127c3a0adf"
      },
      "execution_count": null,
      "outputs": [
        {
          "output_type": "stream",
          "name": "stdout",
          "text": [
            "Epoch 1/400\n",
            "278/278 [==============================] - ETA: 0s - loss: 16.8583 - sex_out_loss: 0.6867 - age_out_loss: 15.9962 - sex_out_accuracy: 0.5422 - age_out_accuracy: 0.0475\n",
            "Epoch 1: val_loss improved from inf to 16.22317, saving model to Age_sex_detection.h5\n",
            "278/278 [==============================] - 5s 19ms/step - loss: 16.8583 - sex_out_loss: 0.6867 - age_out_loss: 15.9962 - sex_out_accuracy: 0.5422 - age_out_accuracy: 0.0475 - val_loss: 16.2232 - val_sex_out_loss: 0.6669 - val_age_out_loss: 15.4017 - val_sex_out_accuracy: 0.6155 - val_age_out_accuracy: 0.0469\n",
            "Epoch 2/400\n",
            "276/278 [============================>.] - ETA: 0s - loss: 14.1043 - sex_out_loss: 0.6232 - age_out_loss: 13.3027 - sex_out_accuracy: 0.6403 - age_out_accuracy: 0.0474\n",
            "Epoch 2: val_loss improved from 16.22317 to 13.91883, saving model to Age_sex_detection.h5\n",
            "278/278 [==============================] - 4s 16ms/step - loss: 14.0950 - sex_out_loss: 0.6227 - age_out_loss: 13.2938 - sex_out_accuracy: 0.6411 - age_out_accuracy: 0.0475 - val_loss: 13.9188 - val_sex_out_loss: 0.5745 - val_age_out_loss: 13.1355 - val_sex_out_accuracy: 0.7295 - val_age_out_accuracy: 0.0469\n",
            "Epoch 3/400\n",
            "278/278 [==============================] - ETA: 0s - loss: 11.6487 - sex_out_loss: 0.5537 - age_out_loss: 10.8562 - sex_out_accuracy: 0.7166 - age_out_accuracy: 0.0450\n",
            "Epoch 3: val_loss did not improve from 13.91883\n",
            "278/278 [==============================] - 4s 16ms/step - loss: 11.6487 - sex_out_loss: 0.5537 - age_out_loss: 10.8562 - sex_out_accuracy: 0.7166 - age_out_accuracy: 0.0450 - val_loss: 14.2139 - val_sex_out_loss: 0.5218 - val_age_out_loss: 13.4271 - val_sex_out_accuracy: 0.7596 - val_age_out_accuracy: 0.0388\n",
            "Epoch 4/400\n",
            "278/278 [==============================] - ETA: 0s - loss: 10.4594 - sex_out_loss: 0.5146 - age_out_loss: 9.6618 - sex_out_accuracy: 0.7485 - age_out_accuracy: 0.0451\n",
            "Epoch 4: val_loss improved from 13.91883 to 13.28473, saving model to Age_sex_detection.h5\n",
            "278/278 [==============================] - 4s 16ms/step - loss: 10.4594 - sex_out_loss: 0.5146 - age_out_loss: 9.6618 - sex_out_accuracy: 0.7485 - age_out_accuracy: 0.0451 - val_loss: 13.2847 - val_sex_out_loss: 0.4829 - val_age_out_loss: 12.5051 - val_sex_out_accuracy: 0.7813 - val_age_out_accuracy: 0.0466\n",
            "Epoch 5/400\n",
            "276/278 [============================>.] - ETA: 0s - loss: 9.7812 - sex_out_loss: 0.4668 - age_out_loss: 9.0060 - sex_out_accuracy: 0.7762 - age_out_accuracy: 0.0454\n",
            "Epoch 5: val_loss improved from 13.28473 to 10.10690, saving model to Age_sex_detection.h5\n",
            "278/278 [==============================] - 4s 16ms/step - loss: 9.7820 - sex_out_loss: 0.4665 - age_out_loss: 9.0070 - sex_out_accuracy: 0.7759 - age_out_accuracy: 0.0453 - val_loss: 10.1069 - val_sex_out_loss: 0.4296 - val_age_out_loss: 9.3596 - val_sex_out_accuracy: 0.8131 - val_age_out_accuracy: 0.0469\n",
            "Epoch 6/400\n",
            "277/278 [============================>.] - ETA: 0s - loss: 9.4076 - sex_out_loss: 0.4371 - age_out_loss: 8.6445 - sex_out_accuracy: 0.7957 - age_out_accuracy: 0.0453\n",
            "Epoch 6: val_loss did not improve from 10.10690\n",
            "278/278 [==============================] - 4s 15ms/step - loss: 9.4098 - sex_out_loss: 0.4370 - age_out_loss: 8.6467 - sex_out_accuracy: 0.7957 - age_out_accuracy: 0.0454 - val_loss: 11.3352 - val_sex_out_loss: 0.4164 - val_age_out_loss: 10.5836 - val_sex_out_accuracy: 0.8173 - val_age_out_accuracy: 0.0464\n",
            "Epoch 7/400\n",
            "277/278 [============================>.] - ETA: 0s - loss: 8.9925 - sex_out_loss: 0.4240 - age_out_loss: 8.2237 - sex_out_accuracy: 0.8051 - age_out_accuracy: 0.0458\n",
            "Epoch 7: val_loss did not improve from 10.10690\n",
            "278/278 [==============================] - 4s 15ms/step - loss: 8.9966 - sex_out_loss: 0.4240 - age_out_loss: 8.2277 - sex_out_accuracy: 0.8051 - age_out_accuracy: 0.0459 - val_loss: 11.2702 - val_sex_out_loss: 0.4065 - val_age_out_loss: 10.5092 - val_sex_out_accuracy: 0.8232 - val_age_out_accuracy: 0.0469\n",
            "Epoch 8/400\n",
            "276/278 [============================>.] - ETA: 0s - loss: 8.8502 - sex_out_loss: 0.4054 - age_out_loss: 8.0820 - sex_out_accuracy: 0.8160 - age_out_accuracy: 0.0463\n",
            "Epoch 8: val_loss did not improve from 10.10690\n",
            "278/278 [==============================] - 4s 15ms/step - loss: 8.8531 - sex_out_loss: 0.4058 - age_out_loss: 8.0845 - sex_out_accuracy: 0.8159 - age_out_accuracy: 0.0462 - val_loss: 10.1103 - val_sex_out_loss: 0.3786 - val_age_out_loss: 9.3607 - val_sex_out_accuracy: 0.8338 - val_age_out_accuracy: 0.0469\n",
            "Epoch 9/400\n",
            "278/278 [==============================] - ETA: 0s - loss: 8.5591 - sex_out_loss: 0.3820 - age_out_loss: 7.7983 - sex_out_accuracy: 0.8273 - age_out_accuracy: 0.0462\n",
            "Epoch 9: val_loss improved from 10.10690 to 9.45626, saving model to Age_sex_detection.h5\n",
            "278/278 [==============================] - 5s 17ms/step - loss: 8.5591 - sex_out_loss: 0.3820 - age_out_loss: 7.7983 - sex_out_accuracy: 0.8273 - age_out_accuracy: 0.0462 - val_loss: 9.4563 - val_sex_out_loss: 0.3591 - val_age_out_loss: 8.7103 - val_sex_out_accuracy: 0.8433 - val_age_out_accuracy: 0.0464\n",
            "Epoch 10/400\n",
            "277/278 [============================>.] - ETA: 0s - loss: 8.3391 - sex_out_loss: 0.3743 - age_out_loss: 7.5697 - sex_out_accuracy: 0.8335 - age_out_accuracy: 0.0463\n",
            "Epoch 10: val_loss did not improve from 9.45626\n",
            "278/278 [==============================] - 4s 16ms/step - loss: 8.3381 - sex_out_loss: 0.3745 - age_out_loss: 7.5684 - sex_out_accuracy: 0.8332 - age_out_accuracy: 0.0463 - val_loss: 10.4752 - val_sex_out_loss: 0.3837 - val_age_out_loss: 9.6901 - val_sex_out_accuracy: 0.8424 - val_age_out_accuracy: 0.0469\n",
            "Epoch 11/400\n",
            "277/278 [============================>.] - ETA: 0s - loss: 8.1743 - sex_out_loss: 0.3518 - age_out_loss: 7.4124 - sex_out_accuracy: 0.8405 - age_out_accuracy: 0.0468\n",
            "Epoch 11: val_loss improved from 9.45626 to 9.00771, saving model to Age_sex_detection.h5\n",
            "278/278 [==============================] - 5s 16ms/step - loss: 8.1779 - sex_out_loss: 0.3517 - age_out_loss: 7.4161 - sex_out_accuracy: 0.8407 - age_out_accuracy: 0.0468 - val_loss: 9.0077 - val_sex_out_loss: 0.3314 - val_age_out_loss: 8.2588 - val_sex_out_accuracy: 0.8502 - val_age_out_accuracy: 0.0469\n",
            "Epoch 12/400\n",
            "277/278 [============================>.] - ETA: 0s - loss: 8.0187 - sex_out_loss: 0.3413 - age_out_loss: 7.2529 - sex_out_accuracy: 0.8491 - age_out_accuracy: 0.0472\n",
            "Epoch 12: val_loss did not improve from 9.00771\n",
            "278/278 [==============================] - 5s 16ms/step - loss: 8.0154 - sex_out_loss: 0.3415 - age_out_loss: 7.2495 - sex_out_accuracy: 0.8489 - age_out_accuracy: 0.0473 - val_loss: 9.8581 - val_sex_out_loss: 0.3233 - val_age_out_loss: 9.1018 - val_sex_out_accuracy: 0.8569 - val_age_out_accuracy: 0.0469\n",
            "Epoch 13/400\n",
            "275/278 [============================>.] - ETA: 0s - loss: 7.8908 - sex_out_loss: 0.3269 - age_out_loss: 7.1225 - sex_out_accuracy: 0.8559 - age_out_accuracy: 0.0474\n",
            "Epoch 13: val_loss did not improve from 9.00771\n",
            "278/278 [==============================] - 4s 16ms/step - loss: 7.8924 - sex_out_loss: 0.3265 - age_out_loss: 7.1244 - sex_out_accuracy: 0.8560 - age_out_accuracy: 0.0475 - val_loss: 11.4430 - val_sex_out_loss: 0.3088 - val_age_out_loss: 10.6864 - val_sex_out_accuracy: 0.8635 - val_age_out_accuracy: 0.0469\n",
            "Epoch 14/400\n",
            "275/278 [============================>.] - ETA: 0s - loss: 7.6975 - sex_out_loss: 0.3210 - age_out_loss: 6.9195 - sex_out_accuracy: 0.8550 - age_out_accuracy: 0.0476\n",
            "Epoch 14: val_loss did not improve from 9.00771\n",
            "278/278 [==============================] - 4s 16ms/step - loss: 7.7003 - sex_out_loss: 0.3207 - age_out_loss: 6.9225 - sex_out_accuracy: 0.8551 - age_out_accuracy: 0.0475 - val_loss: 9.4821 - val_sex_out_loss: 0.3023 - val_age_out_loss: 8.7145 - val_sex_out_accuracy: 0.8681 - val_age_out_accuracy: 0.0469\n",
            "Epoch 15/400\n",
            "275/278 [============================>.] - ETA: 0s - loss: 7.5983 - sex_out_loss: 0.3059 - age_out_loss: 6.8187 - sex_out_accuracy: 0.8640 - age_out_accuracy: 0.0473\n",
            "Epoch 15: val_loss did not improve from 9.00771\n",
            "278/278 [==============================] - 4s 15ms/step - loss: 7.5972 - sex_out_loss: 0.3057 - age_out_loss: 6.8176 - sex_out_accuracy: 0.8641 - age_out_accuracy: 0.0475 - val_loss: 10.2630 - val_sex_out_loss: 0.3212 - val_age_out_loss: 9.4608 - val_sex_out_accuracy: 0.8476 - val_age_out_accuracy: 0.0469\n",
            "Epoch 16/400\n",
            "275/278 [============================>.] - ETA: 0s - loss: 7.5649 - sex_out_loss: 0.3013 - age_out_loss: 6.7754 - sex_out_accuracy: 0.8674 - age_out_accuracy: 0.0476\n",
            "Epoch 16: val_loss did not improve from 9.00771\n",
            "278/278 [==============================] - 5s 16ms/step - loss: 7.5651 - sex_out_loss: 0.3017 - age_out_loss: 6.7751 - sex_out_accuracy: 0.8673 - age_out_accuracy: 0.0475 - val_loss: 9.7644 - val_sex_out_loss: 0.3136 - val_age_out_loss: 8.9556 - val_sex_out_accuracy: 0.8512 - val_age_out_accuracy: 0.0469\n",
            "Epoch 17/400\n",
            "275/278 [============================>.] - ETA: 0s - loss: 7.4715 - sex_out_loss: 0.2981 - age_out_loss: 6.6711 - sex_out_accuracy: 0.8685 - age_out_accuracy: 0.0473\n",
            "Epoch 17: val_loss did not improve from 9.00771\n",
            "278/278 [==============================] - 4s 15ms/step - loss: 7.4653 - sex_out_loss: 0.2974 - age_out_loss: 6.6655 - sex_out_accuracy: 0.8690 - age_out_accuracy: 0.0475 - val_loss: 9.1884 - val_sex_out_loss: 0.2819 - val_age_out_loss: 8.3974 - val_sex_out_accuracy: 0.8772 - val_age_out_accuracy: 0.0469\n",
            "Epoch 18/400\n",
            "278/278 [==============================] - ETA: 0s - loss: 7.3350 - sex_out_loss: 0.2890 - age_out_loss: 6.5301 - sex_out_accuracy: 0.8743 - age_out_accuracy: 0.0475\n",
            "Epoch 18: val_loss did not improve from 9.00771\n",
            "278/278 [==============================] - 4s 16ms/step - loss: 7.3350 - sex_out_loss: 0.2890 - age_out_loss: 6.5301 - sex_out_accuracy: 0.8743 - age_out_accuracy: 0.0475 - val_loss: 9.6901 - val_sex_out_loss: 0.2703 - val_age_out_loss: 8.8976 - val_sex_out_accuracy: 0.8780 - val_age_out_accuracy: 0.0469\n",
            "Epoch 19/400\n",
            "275/278 [============================>.] - ETA: 0s - loss: 7.2827 - sex_out_loss: 0.2841 - age_out_loss: 6.4682 - sex_out_accuracy: 0.8766 - age_out_accuracy: 0.0472\n",
            "Epoch 19: val_loss did not improve from 9.00771\n",
            "278/278 [==============================] - 4s 15ms/step - loss: 7.2775 - sex_out_loss: 0.2843 - age_out_loss: 6.4628 - sex_out_accuracy: 0.8769 - age_out_accuracy: 0.0475 - val_loss: 10.6287 - val_sex_out_loss: 0.2771 - val_age_out_loss: 9.8137 - val_sex_out_accuracy: 0.8787 - val_age_out_accuracy: 0.0469\n",
            "Epoch 20/400\n",
            "277/278 [============================>.] - ETA: 0s - loss: 7.2809 - sex_out_loss: 0.2762 - age_out_loss: 6.4588 - sex_out_accuracy: 0.8798 - age_out_accuracy: 0.0477\n",
            "Epoch 20: val_loss improved from 9.00771 to 8.77125, saving model to Age_sex_detection.h5\n",
            "278/278 [==============================] - 4s 16ms/step - loss: 7.2835 - sex_out_loss: 0.2759 - age_out_loss: 6.4617 - sex_out_accuracy: 0.8800 - age_out_accuracy: 0.0475 - val_loss: 8.7712 - val_sex_out_loss: 0.2734 - val_age_out_loss: 7.9465 - val_sex_out_accuracy: 0.8784 - val_age_out_accuracy: 0.0469\n",
            "Epoch 21/400\n",
            "277/278 [============================>.] - ETA: 0s - loss: 7.1270 - sex_out_loss: 0.2743 - age_out_loss: 6.2941 - sex_out_accuracy: 0.8818 - age_out_accuracy: 0.0475\n",
            "Epoch 21: val_loss did not improve from 8.77125\n",
            "278/278 [==============================] - 5s 16ms/step - loss: 7.1274 - sex_out_loss: 0.2743 - age_out_loss: 6.2945 - sex_out_accuracy: 0.8817 - age_out_accuracy: 0.0475 - val_loss: 9.8870 - val_sex_out_loss: 0.2804 - val_age_out_loss: 9.0403 - val_sex_out_accuracy: 0.8782 - val_age_out_accuracy: 0.0469\n",
            "Epoch 22/400\n",
            "276/278 [============================>.] - ETA: 0s - loss: 7.1566 - sex_out_loss: 0.2713 - age_out_loss: 6.3129 - sex_out_accuracy: 0.8819 - age_out_accuracy: 0.0477\n",
            "Epoch 22: val_loss improved from 8.77125 to 8.69756, saving model to Age_sex_detection.h5\n",
            "278/278 [==============================] - 5s 17ms/step - loss: 7.1492 - sex_out_loss: 0.2710 - age_out_loss: 6.3057 - sex_out_accuracy: 0.8821 - age_out_accuracy: 0.0475 - val_loss: 8.6976 - val_sex_out_loss: 0.2699 - val_age_out_loss: 7.8490 - val_sex_out_accuracy: 0.8750 - val_age_out_accuracy: 0.0469\n",
            "Epoch 23/400\n",
            "277/278 [============================>.] - ETA: 0s - loss: 7.0574 - sex_out_loss: 0.2620 - age_out_loss: 6.2094 - sex_out_accuracy: 0.8854 - age_out_accuracy: 0.0475\n",
            "Epoch 23: val_loss did not improve from 8.69756\n",
            "278/278 [==============================] - 4s 15ms/step - loss: 7.0555 - sex_out_loss: 0.2622 - age_out_loss: 6.2072 - sex_out_accuracy: 0.8854 - age_out_accuracy: 0.0475 - val_loss: 10.0814 - val_sex_out_loss: 0.2681 - val_age_out_loss: 9.2206 - val_sex_out_accuracy: 0.8780 - val_age_out_accuracy: 0.0469\n",
            "Epoch 24/400\n",
            "276/278 [============================>.] - ETA: 0s - loss: 6.9937 - sex_out_loss: 0.2584 - age_out_loss: 6.1357 - sex_out_accuracy: 0.8891 - age_out_accuracy: 0.0475\n",
            "Epoch 24: val_loss did not improve from 8.69756\n",
            "278/278 [==============================] - 4s 16ms/step - loss: 6.9974 - sex_out_loss: 0.2580 - age_out_loss: 6.1397 - sex_out_accuracy: 0.8893 - age_out_accuracy: 0.0475 - val_loss: 10.5230 - val_sex_out_loss: 0.2608 - val_age_out_loss: 9.6560 - val_sex_out_accuracy: 0.8839 - val_age_out_accuracy: 0.0469\n",
            "Epoch 25/400\n",
            "276/278 [============================>.] - ETA: 0s - loss: 6.9125 - sex_out_loss: 0.2595 - age_out_loss: 6.0411 - sex_out_accuracy: 0.8902 - age_out_accuracy: 0.0475\n",
            "Epoch 25: val_loss improved from 8.69756 to 8.56275, saving model to Age_sex_detection.h5\n",
            "278/278 [==============================] - 4s 16ms/step - loss: 6.9140 - sex_out_loss: 0.2588 - age_out_loss: 6.0432 - sex_out_accuracy: 0.8905 - age_out_accuracy: 0.0475 - val_loss: 8.5628 - val_sex_out_loss: 0.2615 - val_age_out_loss: 7.6832 - val_sex_out_accuracy: 0.8832 - val_age_out_accuracy: 0.0469\n",
            "Epoch 26/400\n",
            "275/278 [============================>.] - ETA: 0s - loss: 6.8355 - sex_out_loss: 0.2552 - age_out_loss: 5.9560 - sex_out_accuracy: 0.8888 - age_out_accuracy: 0.0475\n",
            "Epoch 26: val_loss improved from 8.56275 to 8.04132, saving model to Age_sex_detection.h5\n",
            "278/278 [==============================] - 5s 17ms/step - loss: 6.8451 - sex_out_loss: 0.2548 - age_out_loss: 5.9659 - sex_out_accuracy: 0.8889 - age_out_accuracy: 0.0475 - val_loss: 8.0413 - val_sex_out_loss: 0.2654 - val_age_out_loss: 7.1447 - val_sex_out_accuracy: 0.8814 - val_age_out_accuracy: 0.0469\n",
            "Epoch 27/400\n",
            "276/278 [============================>.] - ETA: 0s - loss: 6.8073 - sex_out_loss: 0.2479 - age_out_loss: 5.9229 - sex_out_accuracy: 0.8942 - age_out_accuracy: 0.0476\n",
            "Epoch 27: val_loss did not improve from 8.04132\n",
            "278/278 [==============================] - 5s 17ms/step - loss: 6.8060 - sex_out_loss: 0.2478 - age_out_loss: 5.9217 - sex_out_accuracy: 0.8943 - age_out_accuracy: 0.0475 - val_loss: 8.5832 - val_sex_out_loss: 0.2644 - val_age_out_loss: 7.6768 - val_sex_out_accuracy: 0.8834 - val_age_out_accuracy: 0.0469\n",
            "Epoch 28/400\n",
            "277/278 [============================>.] - ETA: 0s - loss: 6.7555 - sex_out_loss: 0.2522 - age_out_loss: 5.8555 - sex_out_accuracy: 0.8910 - age_out_accuracy: 0.0476\n",
            "Epoch 28: val_loss did not improve from 8.04132\n",
            "278/278 [==============================] - 4s 16ms/step - loss: 6.7585 - sex_out_loss: 0.2522 - age_out_loss: 5.8586 - sex_out_accuracy: 0.8910 - age_out_accuracy: 0.0475 - val_loss: 9.5625 - val_sex_out_loss: 0.2569 - val_age_out_loss: 8.6533 - val_sex_out_accuracy: 0.8839 - val_age_out_accuracy: 0.0469\n",
            "Epoch 29/400\n",
            "275/278 [============================>.] - ETA: 0s - loss: 6.7027 - sex_out_loss: 0.2482 - age_out_loss: 5.7949 - sex_out_accuracy: 0.8941 - age_out_accuracy: 0.0476\n",
            "Epoch 29: val_loss did not improve from 8.04132\n",
            "278/278 [==============================] - 4s 16ms/step - loss: 6.7040 - sex_out_loss: 0.2487 - age_out_loss: 5.7956 - sex_out_accuracy: 0.8939 - age_out_accuracy: 0.0475 - val_loss: 9.0067 - val_sex_out_loss: 0.2570 - val_age_out_loss: 8.0841 - val_sex_out_accuracy: 0.8868 - val_age_out_accuracy: 0.0469\n",
            "Epoch 30/400\n",
            "277/278 [============================>.] - ETA: 0s - loss: 6.6754 - sex_out_loss: 0.2442 - age_out_loss: 5.7601 - sex_out_accuracy: 0.8929 - age_out_accuracy: 0.0472\n",
            "Epoch 30: val_loss did not improve from 8.04132\n",
            "278/278 [==============================] - 5s 16ms/step - loss: 6.6723 - sex_out_loss: 0.2443 - age_out_loss: 5.7568 - sex_out_accuracy: 0.8929 - age_out_accuracy: 0.0475 - val_loss: 8.5605 - val_sex_out_loss: 0.2560 - val_age_out_loss: 7.6281 - val_sex_out_accuracy: 0.8854 - val_age_out_accuracy: 0.0469\n",
            "Epoch 31/400\n",
            "275/278 [============================>.] - ETA: 0s - loss: 6.6484 - sex_out_loss: 0.2422 - age_out_loss: 5.7250 - sex_out_accuracy: 0.8952 - age_out_accuracy: 0.0473\n",
            "Epoch 31: val_loss did not improve from 8.04132\n",
            "278/278 [==============================] - 4s 15ms/step - loss: 6.6431 - sex_out_loss: 0.2424 - age_out_loss: 5.7194 - sex_out_accuracy: 0.8948 - age_out_accuracy: 0.0475 - val_loss: 9.6344 - val_sex_out_loss: 0.2592 - val_age_out_loss: 8.6886 - val_sex_out_accuracy: 0.8799 - val_age_out_accuracy: 0.0469\n",
            "Epoch 32/400\n",
            "277/278 [============================>.] - ETA: 0s - loss: 6.6763 - sex_out_loss: 0.2404 - age_out_loss: 5.7433 - sex_out_accuracy: 0.8951 - age_out_accuracy: 0.0475\n",
            "Epoch 32: val_loss did not improve from 8.04132\n",
            "278/278 [==============================] - 4s 15ms/step - loss: 6.6730 - sex_out_loss: 0.2408 - age_out_loss: 5.7395 - sex_out_accuracy: 0.8949 - age_out_accuracy: 0.0475 - val_loss: 8.6607 - val_sex_out_loss: 0.2545 - val_age_out_loss: 7.7093 - val_sex_out_accuracy: 0.8827 - val_age_out_accuracy: 0.0469\n",
            "Epoch 33/400\n",
            "276/278 [============================>.] - ETA: 0s - loss: 6.6280 - sex_out_loss: 0.2382 - age_out_loss: 5.6880 - sex_out_accuracy: 0.8975 - age_out_accuracy: 0.0474\n",
            "Epoch 33: val_loss did not improve from 8.04132\n",
            "278/278 [==============================] - 4s 16ms/step - loss: 6.6309 - sex_out_loss: 0.2388 - age_out_loss: 5.6902 - sex_out_accuracy: 0.8971 - age_out_accuracy: 0.0475 - val_loss: 8.1698 - val_sex_out_loss: 0.2634 - val_age_out_loss: 7.1990 - val_sex_out_accuracy: 0.8819 - val_age_out_accuracy: 0.0469\n",
            "Epoch 34/400\n",
            "275/278 [============================>.] - ETA: 0s - loss: 6.4719 - sex_out_loss: 0.2362 - age_out_loss: 5.5240 - sex_out_accuracy: 0.8995 - age_out_accuracy: 0.0474\n",
            "Epoch 34: val_loss did not improve from 8.04132\n",
            "278/278 [==============================] - 5s 16ms/step - loss: 6.4732 - sex_out_loss: 0.2359 - age_out_loss: 5.5256 - sex_out_accuracy: 0.8994 - age_out_accuracy: 0.0475 - val_loss: 9.1064 - val_sex_out_loss: 0.2657 - val_age_out_loss: 8.1251 - val_sex_out_accuracy: 0.8789 - val_age_out_accuracy: 0.0469\n",
            "Epoch 35/400\n",
            "278/278 [==============================] - ETA: 0s - loss: 6.4392 - sex_out_loss: 0.2308 - age_out_loss: 5.4874 - sex_out_accuracy: 0.9022 - age_out_accuracy: 0.0475\n",
            "Epoch 35: val_loss did not improve from 8.04132\n",
            "278/278 [==============================] - 4s 15ms/step - loss: 6.4392 - sex_out_loss: 0.2308 - age_out_loss: 5.4874 - sex_out_accuracy: 0.9022 - age_out_accuracy: 0.0475 - val_loss: 8.4138 - val_sex_out_loss: 0.2586 - val_age_out_loss: 7.4288 - val_sex_out_accuracy: 0.8854 - val_age_out_accuracy: 0.0469\n",
            "Epoch 36/400\n",
            "276/278 [============================>.] - ETA: 0s - loss: 6.4104 - sex_out_loss: 0.2368 - age_out_loss: 5.4434 - sex_out_accuracy: 0.8965 - age_out_accuracy: 0.0475\n",
            "Epoch 36: val_loss improved from 8.04132 to 7.87692, saving model to Age_sex_detection.h5\n",
            "278/278 [==============================] - 5s 16ms/step - loss: 6.4105 - sex_out_loss: 0.2365 - age_out_loss: 5.4438 - sex_out_accuracy: 0.8966 - age_out_accuracy: 0.0475 - val_loss: 7.8769 - val_sex_out_loss: 0.2591 - val_age_out_loss: 6.8838 - val_sex_out_accuracy: 0.8841 - val_age_out_accuracy: 0.0469\n",
            "Epoch 37/400\n",
            "276/278 [============================>.] - ETA: 0s - loss: 6.4561 - sex_out_loss: 0.2255 - age_out_loss: 5.4913 - sex_out_accuracy: 0.9021 - age_out_accuracy: 0.0477\n",
            "Epoch 37: val_loss improved from 7.87692 to 7.57845, saving model to Age_sex_detection.h5\n",
            "278/278 [==============================] - 5s 17ms/step - loss: 6.4580 - sex_out_loss: 0.2255 - age_out_loss: 5.4932 - sex_out_accuracy: 0.9019 - age_out_accuracy: 0.0475 - val_loss: 7.5784 - val_sex_out_loss: 0.2659 - val_age_out_loss: 6.5687 - val_sex_out_accuracy: 0.8804 - val_age_out_accuracy: 0.0469\n",
            "Epoch 38/400\n",
            "275/278 [============================>.] - ETA: 0s - loss: 6.4532 - sex_out_loss: 0.2276 - age_out_loss: 5.4786 - sex_out_accuracy: 0.9018 - age_out_accuracy: 0.0473\n",
            "Epoch 38: val_loss did not improve from 7.57845\n",
            "278/278 [==============================] - 4s 16ms/step - loss: 6.4493 - sex_out_loss: 0.2275 - age_out_loss: 5.4748 - sex_out_accuracy: 0.9017 - age_out_accuracy: 0.0475 - val_loss: 8.6286 - val_sex_out_loss: 0.2520 - val_age_out_loss: 7.6264 - val_sex_out_accuracy: 0.8885 - val_age_out_accuracy: 0.0469\n",
            "Epoch 39/400\n",
            "277/278 [============================>.] - ETA: 0s - loss: 6.3258 - sex_out_loss: 0.2318 - age_out_loss: 5.3393 - sex_out_accuracy: 0.9012 - age_out_accuracy: 0.0477\n",
            "Epoch 39: val_loss did not improve from 7.57845\n",
            "278/278 [==============================] - 5s 16ms/step - loss: 6.3264 - sex_out_loss: 0.2314 - age_out_loss: 5.3403 - sex_out_accuracy: 0.9014 - age_out_accuracy: 0.0475 - val_loss: 8.1802 - val_sex_out_loss: 0.2615 - val_age_out_loss: 7.1600 - val_sex_out_accuracy: 0.8768 - val_age_out_accuracy: 0.0469\n",
            "Epoch 40/400\n",
            "276/278 [============================>.] - ETA: 0s - loss: 6.3081 - sex_out_loss: 0.2254 - age_out_loss: 5.3182 - sex_out_accuracy: 0.9019 - age_out_accuracy: 0.0474\n",
            "Epoch 40: val_loss did not improve from 7.57845\n",
            "278/278 [==============================] - 4s 16ms/step - loss: 6.3053 - sex_out_loss: 0.2255 - age_out_loss: 5.3153 - sex_out_accuracy: 0.9018 - age_out_accuracy: 0.0475 - val_loss: 9.7724 - val_sex_out_loss: 0.2608 - val_age_out_loss: 8.7411 - val_sex_out_accuracy: 0.8838 - val_age_out_accuracy: 0.0469\n",
            "Epoch 41/400\n",
            "275/278 [============================>.] - ETA: 0s - loss: 6.3650 - sex_out_loss: 0.2188 - age_out_loss: 5.3710 - sex_out_accuracy: 0.9070 - age_out_accuracy: 0.0473\n",
            "Epoch 41: val_loss did not improve from 7.57845\n",
            "278/278 [==============================] - 4s 16ms/step - loss: 6.3683 - sex_out_loss: 0.2186 - age_out_loss: 5.3744 - sex_out_accuracy: 0.9070 - age_out_accuracy: 0.0475 - val_loss: 8.0756 - val_sex_out_loss: 0.2570 - val_age_out_loss: 7.0393 - val_sex_out_accuracy: 0.8802 - val_age_out_accuracy: 0.0469\n",
            "Epoch 42/400\n",
            "275/278 [============================>.] - ETA: 0s - loss: 6.3004 - sex_out_loss: 0.2280 - age_out_loss: 5.2884 - sex_out_accuracy: 0.9001 - age_out_accuracy: 0.0475\n",
            "Epoch 42: val_loss did not improve from 7.57845\n",
            "278/278 [==============================] - 5s 17ms/step - loss: 6.3053 - sex_out_loss: 0.2272 - age_out_loss: 5.2940 - sex_out_accuracy: 0.9004 - age_out_accuracy: 0.0475 - val_loss: 8.2668 - val_sex_out_loss: 0.2674 - val_age_out_loss: 7.2104 - val_sex_out_accuracy: 0.8826 - val_age_out_accuracy: 0.0469\n",
            "Epoch 43/400\n",
            "275/278 [============================>.] - ETA: 0s - loss: 6.1866 - sex_out_loss: 0.2263 - age_out_loss: 5.1681 - sex_out_accuracy: 0.9013 - age_out_accuracy: 0.0476\n",
            "Epoch 43: val_loss did not improve from 7.57845\n",
            "278/278 [==============================] - 4s 16ms/step - loss: 6.1847 - sex_out_loss: 0.2256 - age_out_loss: 5.1668 - sex_out_accuracy: 0.9016 - age_out_accuracy: 0.0475 - val_loss: 8.0633 - val_sex_out_loss: 0.2524 - val_age_out_loss: 7.0141 - val_sex_out_accuracy: 0.8880 - val_age_out_accuracy: 0.0469\n",
            "Epoch 44/400\n",
            "278/278 [==============================] - ETA: 0s - loss: 6.2118 - sex_out_loss: 0.2169 - age_out_loss: 5.1949 - sex_out_accuracy: 0.9059 - age_out_accuracy: 0.0475\n",
            "Epoch 44: val_loss did not improve from 7.57845\n",
            "278/278 [==============================] - 5s 16ms/step - loss: 6.2118 - sex_out_loss: 0.2169 - age_out_loss: 5.1949 - sex_out_accuracy: 0.9059 - age_out_accuracy: 0.0475 - val_loss: 8.5917 - val_sex_out_loss: 0.2627 - val_age_out_loss: 7.5253 - val_sex_out_accuracy: 0.8881 - val_age_out_accuracy: 0.0469\n",
            "Epoch 45/400\n",
            "278/278 [==============================] - ETA: 0s - loss: 6.3045 - sex_out_loss: 0.2252 - age_out_loss: 5.2711 - sex_out_accuracy: 0.9048 - age_out_accuracy: 0.0475\n",
            "Epoch 45: val_loss did not improve from 7.57845\n",
            "278/278 [==============================] - 5s 16ms/step - loss: 6.3045 - sex_out_loss: 0.2252 - age_out_loss: 5.2711 - sex_out_accuracy: 0.9048 - age_out_accuracy: 0.0475 - val_loss: 9.6867 - val_sex_out_loss: 0.2610 - val_age_out_loss: 8.6144 - val_sex_out_accuracy: 0.8838 - val_age_out_accuracy: 0.0469\n",
            "Epoch 46/400\n",
            "277/278 [============================>.] - ETA: 0s - loss: 6.1809 - sex_out_loss: 0.2222 - age_out_loss: 5.1438 - sex_out_accuracy: 0.9039 - age_out_accuracy: 0.0474\n",
            "Epoch 46: val_loss did not improve from 7.57845\n",
            "278/278 [==============================] - 5s 18ms/step - loss: 6.1823 - sex_out_loss: 0.2223 - age_out_loss: 5.1452 - sex_out_accuracy: 0.9038 - age_out_accuracy: 0.0475 - val_loss: 8.8657 - val_sex_out_loss: 0.2697 - val_age_out_loss: 7.7772 - val_sex_out_accuracy: 0.8856 - val_age_out_accuracy: 0.0469\n",
            "Epoch 47/400\n",
            "275/278 [============================>.] - ETA: 0s - loss: 6.1929 - sex_out_loss: 0.2206 - age_out_loss: 5.1503 - sex_out_accuracy: 0.9056 - age_out_accuracy: 0.0471\n",
            "Epoch 47: val_loss did not improve from 7.57845\n",
            "278/278 [==============================] - 5s 17ms/step - loss: 6.1839 - sex_out_loss: 0.2204 - age_out_loss: 5.1415 - sex_out_accuracy: 0.9057 - age_out_accuracy: 0.0470 - val_loss: 8.4696 - val_sex_out_loss: 0.2535 - val_age_out_loss: 7.3912 - val_sex_out_accuracy: 0.8939 - val_age_out_accuracy: 0.0469\n",
            "Epoch 48/400\n",
            "277/278 [============================>.] - ETA: 0s - loss: 6.1171 - sex_out_loss: 0.2247 - age_out_loss: 5.0645 - sex_out_accuracy: 0.9017 - age_out_accuracy: 0.0472\n",
            "Epoch 48: val_loss did not improve from 7.57845\n",
            "278/278 [==============================] - 4s 16ms/step - loss: 6.1169 - sex_out_loss: 0.2247 - age_out_loss: 5.0642 - sex_out_accuracy: 0.9016 - age_out_accuracy: 0.0472 - val_loss: 7.8041 - val_sex_out_loss: 0.2711 - val_age_out_loss: 6.7016 - val_sex_out_accuracy: 0.8885 - val_age_out_accuracy: 0.0469\n",
            "Epoch 49/400\n",
            "277/278 [============================>.] - ETA: 0s - loss: 6.2207 - sex_out_loss: 0.2202 - age_out_loss: 5.1664 - sex_out_accuracy: 0.9045 - age_out_accuracy: 0.0473\n",
            "Epoch 49: val_loss did not improve from 7.57845\n",
            "278/278 [==============================] - 4s 16ms/step - loss: 6.2185 - sex_out_loss: 0.2201 - age_out_loss: 5.1642 - sex_out_accuracy: 0.9046 - age_out_accuracy: 0.0473 - val_loss: 7.8815 - val_sex_out_loss: 0.2586 - val_age_out_loss: 6.7861 - val_sex_out_accuracy: 0.8895 - val_age_out_accuracy: 0.0469\n",
            "Epoch 50/400\n",
            "277/278 [============================>.] - ETA: 0s - loss: 6.1361 - sex_out_loss: 0.2138 - age_out_loss: 5.0825 - sex_out_accuracy: 0.9082 - age_out_accuracy: 0.0473\n",
            "Epoch 50: val_loss did not improve from 7.57845\n",
            "278/278 [==============================] - 4s 16ms/step - loss: 6.1349 - sex_out_loss: 0.2138 - age_out_loss: 5.0813 - sex_out_accuracy: 0.9082 - age_out_accuracy: 0.0472 - val_loss: 8.2845 - val_sex_out_loss: 0.2864 - val_age_out_loss: 7.1542 - val_sex_out_accuracy: 0.8829 - val_age_out_accuracy: 0.0469\n",
            "Epoch 51/400\n",
            "275/278 [============================>.] - ETA: 0s - loss: 6.1936 - sex_out_loss: 0.2181 - age_out_loss: 5.1290 - sex_out_accuracy: 0.9060 - age_out_accuracy: 0.0474\n",
            "Epoch 51: val_loss did not improve from 7.57845\n",
            "278/278 [==============================] - 4s 16ms/step - loss: 6.1857 - sex_out_loss: 0.2187 - age_out_loss: 5.1205 - sex_out_accuracy: 0.9057 - age_out_accuracy: 0.0474 - val_loss: 8.0666 - val_sex_out_loss: 0.2664 - val_age_out_loss: 6.9517 - val_sex_out_accuracy: 0.8897 - val_age_out_accuracy: 0.0469\n",
            "Epoch 52/400\n",
            "278/278 [==============================] - ETA: 0s - loss: 6.0808 - sex_out_loss: 0.2135 - age_out_loss: 5.0159 - sex_out_accuracy: 0.9097 - age_out_accuracy: 0.0474\n",
            "Epoch 52: val_loss improved from 7.57845 to 7.46482, saving model to Age_sex_detection.h5\n",
            "278/278 [==============================] - 5s 17ms/step - loss: 6.0808 - sex_out_loss: 0.2135 - age_out_loss: 5.0159 - sex_out_accuracy: 0.9097 - age_out_accuracy: 0.0474 - val_loss: 7.4648 - val_sex_out_loss: 0.2569 - val_age_out_loss: 6.3526 - val_sex_out_accuracy: 0.8809 - val_age_out_accuracy: 0.0469\n",
            "Epoch 53/400\n",
            "277/278 [============================>.] - ETA: 0s - loss: 6.0076 - sex_out_loss: 0.2171 - age_out_loss: 4.9324 - sex_out_accuracy: 0.9044 - age_out_accuracy: 0.0473\n",
            "Epoch 53: val_loss did not improve from 7.46482\n",
            "278/278 [==============================] - 5s 17ms/step - loss: 6.0075 - sex_out_loss: 0.2168 - age_out_loss: 4.9325 - sex_out_accuracy: 0.9044 - age_out_accuracy: 0.0472 - val_loss: 9.1665 - val_sex_out_loss: 0.2632 - val_age_out_loss: 8.0426 - val_sex_out_accuracy: 0.8826 - val_age_out_accuracy: 0.0469\n",
            "Epoch 54/400\n",
            "277/278 [============================>.] - ETA: 0s - loss: 6.0344 - sex_out_loss: 0.2130 - age_out_loss: 4.9577 - sex_out_accuracy: 0.9077 - age_out_accuracy: 0.0473\n",
            "Epoch 54: val_loss did not improve from 7.46482\n",
            "278/278 [==============================] - 4s 16ms/step - loss: 6.0376 - sex_out_loss: 0.2128 - age_out_loss: 4.9610 - sex_out_accuracy: 0.9079 - age_out_accuracy: 0.0473 - val_loss: 7.7200 - val_sex_out_loss: 0.2660 - val_age_out_loss: 6.5871 - val_sex_out_accuracy: 0.8851 - val_age_out_accuracy: 0.0469\n",
            "Epoch 55/400\n",
            "276/278 [============================>.] - ETA: 0s - loss: 6.0797 - sex_out_loss: 0.2079 - age_out_loss: 5.0023 - sex_out_accuracy: 0.9116 - age_out_accuracy: 0.0472\n",
            "Epoch 55: val_loss did not improve from 7.46482\n",
            "278/278 [==============================] - 5s 16ms/step - loss: 6.0816 - sex_out_loss: 0.2075 - age_out_loss: 5.0046 - sex_out_accuracy: 0.9116 - age_out_accuracy: 0.0471 - val_loss: 8.4874 - val_sex_out_loss: 0.2664 - val_age_out_loss: 7.3488 - val_sex_out_accuracy: 0.8878 - val_age_out_accuracy: 0.0469\n",
            "Epoch 56/400\n",
            "275/278 [============================>.] - ETA: 0s - loss: 6.0312 - sex_out_loss: 0.2115 - age_out_loss: 4.9447 - sex_out_accuracy: 0.9082 - age_out_accuracy: 0.0473\n",
            "Epoch 56: val_loss did not improve from 7.46482\n",
            "278/278 [==============================] - 5s 16ms/step - loss: 6.0232 - sex_out_loss: 0.2113 - age_out_loss: 4.9369 - sex_out_accuracy: 0.9083 - age_out_accuracy: 0.0471 - val_loss: 8.0177 - val_sex_out_loss: 0.2605 - val_age_out_loss: 6.8794 - val_sex_out_accuracy: 0.8871 - val_age_out_accuracy: 0.0469\n",
            "Epoch 57/400\n",
            "276/278 [============================>.] - ETA: 0s - loss: 6.0214 - sex_out_loss: 0.2049 - age_out_loss: 4.9366 - sex_out_accuracy: 0.9117 - age_out_accuracy: 0.0469\n",
            "Epoch 57: val_loss did not improve from 7.46482\n",
            "278/278 [==============================] - 5s 16ms/step - loss: 6.0187 - sex_out_loss: 0.2055 - age_out_loss: 4.9333 - sex_out_accuracy: 0.9115 - age_out_accuracy: 0.0469 - val_loss: 8.0181 - val_sex_out_loss: 0.2674 - val_age_out_loss: 6.8682 - val_sex_out_accuracy: 0.8762 - val_age_out_accuracy: 0.0469\n",
            "Epoch 58/400\n",
            "278/278 [==============================] - ETA: 0s - loss: 6.0491 - sex_out_loss: 0.2113 - age_out_loss: 4.9543 - sex_out_accuracy: 0.9096 - age_out_accuracy: 0.0470\n",
            "Epoch 58: val_loss did not improve from 7.46482\n",
            "278/278 [==============================] - 4s 15ms/step - loss: 6.0491 - sex_out_loss: 0.2113 - age_out_loss: 4.9543 - sex_out_accuracy: 0.9096 - age_out_accuracy: 0.0470 - val_loss: 7.7306 - val_sex_out_loss: 0.2671 - val_age_out_loss: 6.5773 - val_sex_out_accuracy: 0.8854 - val_age_out_accuracy: 0.0469\n",
            "Epoch 59/400\n",
            "278/278 [==============================] - ETA: 0s - loss: 6.0234 - sex_out_loss: 0.2090 - age_out_loss: 4.9256 - sex_out_accuracy: 0.9110 - age_out_accuracy: 0.0469\n",
            "Epoch 59: val_loss did not improve from 7.46482\n",
            "278/278 [==============================] - 4s 15ms/step - loss: 6.0234 - sex_out_loss: 0.2090 - age_out_loss: 4.9256 - sex_out_accuracy: 0.9110 - age_out_accuracy: 0.0469 - val_loss: 7.8798 - val_sex_out_loss: 0.2694 - val_age_out_loss: 6.7186 - val_sex_out_accuracy: 0.8863 - val_age_out_accuracy: 0.0469\n",
            "Epoch 60/400\n",
            "275/278 [============================>.] - ETA: 0s - loss: 6.0451 - sex_out_loss: 0.2023 - age_out_loss: 4.9482 - sex_out_accuracy: 0.9120 - age_out_accuracy: 0.0473\n",
            "Epoch 60: val_loss did not improve from 7.46482\n",
            "278/278 [==============================] - 4s 15ms/step - loss: 6.0546 - sex_out_loss: 0.2024 - age_out_loss: 4.9576 - sex_out_accuracy: 0.9120 - age_out_accuracy: 0.0472 - val_loss: 7.6345 - val_sex_out_loss: 0.2660 - val_age_out_loss: 6.4723 - val_sex_out_accuracy: 0.8856 - val_age_out_accuracy: 0.0469\n",
            "Epoch 61/400\n",
            "278/278 [==============================] - ETA: 0s - loss: 6.0101 - sex_out_loss: 0.2041 - age_out_loss: 4.9067 - sex_out_accuracy: 0.9129 - age_out_accuracy: 0.0467\n",
            "Epoch 61: val_loss did not improve from 7.46482\n",
            "278/278 [==============================] - 4s 15ms/step - loss: 6.0101 - sex_out_loss: 0.2041 - age_out_loss: 4.9067 - sex_out_accuracy: 0.9129 - age_out_accuracy: 0.0467 - val_loss: 7.7922 - val_sex_out_loss: 0.2618 - val_age_out_loss: 6.6285 - val_sex_out_accuracy: 0.8859 - val_age_out_accuracy: 0.0469\n",
            "Epoch 62/400\n",
            "276/278 [============================>.] - ETA: 0s - loss: 5.9819 - sex_out_loss: 0.1993 - age_out_loss: 4.8775 - sex_out_accuracy: 0.9155 - age_out_accuracy: 0.0466\n",
            "Epoch 62: val_loss did not improve from 7.46482\n",
            "278/278 [==============================] - 4s 16ms/step - loss: 5.9807 - sex_out_loss: 0.1994 - age_out_loss: 4.8763 - sex_out_accuracy: 0.9155 - age_out_accuracy: 0.0467 - val_loss: 8.1425 - val_sex_out_loss: 0.2544 - val_age_out_loss: 6.9810 - val_sex_out_accuracy: 0.8886 - val_age_out_accuracy: 0.0469\n",
            "Epoch 63/400\n",
            "275/278 [============================>.] - ETA: 0s - loss: 5.9494 - sex_out_loss: 0.2060 - age_out_loss: 4.8351 - sex_out_accuracy: 0.9096 - age_out_accuracy: 0.0470\n",
            "Epoch 63: val_loss did not improve from 7.46482\n",
            "278/278 [==============================] - 5s 16ms/step - loss: 5.9494 - sex_out_loss: 0.2059 - age_out_loss: 4.8351 - sex_out_accuracy: 0.9097 - age_out_accuracy: 0.0469 - val_loss: 8.5329 - val_sex_out_loss: 0.2666 - val_age_out_loss: 7.3563 - val_sex_out_accuracy: 0.8863 - val_age_out_accuracy: 0.0469\n",
            "Epoch 64/400\n",
            "275/278 [============================>.] - ETA: 0s - loss: 5.9696 - sex_out_loss: 0.1986 - age_out_loss: 4.8588 - sex_out_accuracy: 0.9148 - age_out_accuracy: 0.0465\n",
            "Epoch 64: val_loss did not improve from 7.46482\n",
            "278/278 [==============================] - 5s 17ms/step - loss: 5.9679 - sex_out_loss: 0.1983 - age_out_loss: 4.8574 - sex_out_accuracy: 0.9150 - age_out_accuracy: 0.0465 - val_loss: 8.3197 - val_sex_out_loss: 0.2619 - val_age_out_loss: 7.1439 - val_sex_out_accuracy: 0.8902 - val_age_out_accuracy: 0.0469\n",
            "Epoch 65/400\n",
            "276/278 [============================>.] - ETA: 0s - loss: 5.9219 - sex_out_loss: 0.2022 - age_out_loss: 4.8031 - sex_out_accuracy: 0.9133 - age_out_accuracy: 0.0462\n",
            "Epoch 65: val_loss did not improve from 7.46482\n",
            "278/278 [==============================] - 5s 16ms/step - loss: 5.9243 - sex_out_loss: 0.2023 - age_out_loss: 4.8052 - sex_out_accuracy: 0.9135 - age_out_accuracy: 0.0461 - val_loss: 8.2527 - val_sex_out_loss: 0.2553 - val_age_out_loss: 7.0774 - val_sex_out_accuracy: 0.8903 - val_age_out_accuracy: 0.0469\n",
            "Epoch 66/400\n",
            "278/278 [==============================] - ETA: 0s - loss: 5.9293 - sex_out_loss: 0.2032 - age_out_loss: 4.8040 - sex_out_accuracy: 0.9132 - age_out_accuracy: 0.0462\n",
            "Epoch 66: val_loss did not improve from 7.46482\n",
            "278/278 [==============================] - 5s 17ms/step - loss: 5.9293 - sex_out_loss: 0.2032 - age_out_loss: 4.8040 - sex_out_accuracy: 0.9132 - age_out_accuracy: 0.0462 - val_loss: 8.3502 - val_sex_out_loss: 0.2784 - val_age_out_loss: 7.1472 - val_sex_out_accuracy: 0.8863 - val_age_out_accuracy: 0.0469\n",
            "Epoch 67/400\n",
            "278/278 [==============================] - ETA: 0s - loss: 5.9807 - sex_out_loss: 0.1999 - age_out_loss: 4.8535 - sex_out_accuracy: 0.9134 - age_out_accuracy: 0.0466\n",
            "Epoch 67: val_loss did not improve from 7.46482\n",
            "278/278 [==============================] - 4s 16ms/step - loss: 5.9807 - sex_out_loss: 0.1999 - age_out_loss: 4.8535 - sex_out_accuracy: 0.9134 - age_out_accuracy: 0.0466 - val_loss: 7.8237 - val_sex_out_loss: 0.2550 - val_age_out_loss: 6.6385 - val_sex_out_accuracy: 0.8873 - val_age_out_accuracy: 0.0469\n",
            "Epoch 68/400\n",
            "278/278 [==============================] - ETA: 0s - loss: 5.9560 - sex_out_loss: 0.1996 - age_out_loss: 4.8238 - sex_out_accuracy: 0.9154 - age_out_accuracy: 0.0461\n",
            "Epoch 68: val_loss did not improve from 7.46482\n",
            "278/278 [==============================] - 5s 17ms/step - loss: 5.9560 - sex_out_loss: 0.1996 - age_out_loss: 4.8238 - sex_out_accuracy: 0.9154 - age_out_accuracy: 0.0461 - val_loss: 7.9620 - val_sex_out_loss: 0.2696 - val_age_out_loss: 6.7578 - val_sex_out_accuracy: 0.8856 - val_age_out_accuracy: 0.0469\n",
            "Epoch 69/400\n",
            "276/278 [============================>.] - ETA: 0s - loss: 5.9141 - sex_out_loss: 0.2014 - age_out_loss: 4.7751 - sex_out_accuracy: 0.9138 - age_out_accuracy: 0.0465\n",
            "Epoch 69: val_loss did not improve from 7.46482\n",
            "278/278 [==============================] - 4s 16ms/step - loss: 5.9131 - sex_out_loss: 0.2016 - age_out_loss: 4.7739 - sex_out_accuracy: 0.9138 - age_out_accuracy: 0.0467 - val_loss: 7.8082 - val_sex_out_loss: 0.2619 - val_age_out_loss: 6.6064 - val_sex_out_accuracy: 0.8856 - val_age_out_accuracy: 0.0469\n",
            "Epoch 70/400\n",
            "278/278 [==============================] - ETA: 0s - loss: 5.8930 - sex_out_loss: 0.1984 - age_out_loss: 4.7529 - sex_out_accuracy: 0.9160 - age_out_accuracy: 0.0461\n",
            "Epoch 70: val_loss did not improve from 7.46482\n",
            "278/278 [==============================] - 5s 17ms/step - loss: 5.8930 - sex_out_loss: 0.1984 - age_out_loss: 4.7529 - sex_out_accuracy: 0.9160 - age_out_accuracy: 0.0461 - val_loss: 7.7007 - val_sex_out_loss: 0.2611 - val_age_out_loss: 6.4959 - val_sex_out_accuracy: 0.8866 - val_age_out_accuracy: 0.0469\n",
            "Epoch 71/400\n",
            "276/278 [============================>.] - ETA: 0s - loss: 5.9226 - sex_out_loss: 0.2000 - age_out_loss: 4.7769 - sex_out_accuracy: 0.9132 - age_out_accuracy: 0.0464\n",
            "Epoch 71: val_loss did not improve from 7.46482\n",
            "278/278 [==============================] - 5s 17ms/step - loss: 5.9279 - sex_out_loss: 0.1999 - age_out_loss: 4.7823 - sex_out_accuracy: 0.9133 - age_out_accuracy: 0.0462 - val_loss: 7.5344 - val_sex_out_loss: 0.2583 - val_age_out_loss: 6.3281 - val_sex_out_accuracy: 0.8885 - val_age_out_accuracy: 0.0469\n",
            "Epoch 72/400\n",
            "276/278 [============================>.] - ETA: 0s - loss: 5.8495 - sex_out_loss: 0.1984 - age_out_loss: 4.7008 - sex_out_accuracy: 0.9150 - age_out_accuracy: 0.0461\n",
            "Epoch 72: val_loss did not improve from 7.46482\n",
            "278/278 [==============================] - 5s 16ms/step - loss: 5.8493 - sex_out_loss: 0.1983 - age_out_loss: 4.7007 - sex_out_accuracy: 0.9150 - age_out_accuracy: 0.0461 - val_loss: 8.3736 - val_sex_out_loss: 0.2606 - val_age_out_loss: 7.1616 - val_sex_out_accuracy: 0.8856 - val_age_out_accuracy: 0.0469\n",
            "Epoch 73/400\n",
            "276/278 [============================>.] - ETA: 0s - loss: 5.8940 - sex_out_loss: 0.1980 - age_out_loss: 4.7433 - sex_out_accuracy: 0.9169 - age_out_accuracy: 0.0463\n",
            "Epoch 73: val_loss did not improve from 7.46482\n",
            "278/278 [==============================] - 5s 16ms/step - loss: 5.8952 - sex_out_loss: 0.1976 - age_out_loss: 4.7448 - sex_out_accuracy: 0.9170 - age_out_accuracy: 0.0462 - val_loss: 7.9627 - val_sex_out_loss: 0.2701 - val_age_out_loss: 6.7378 - val_sex_out_accuracy: 0.8871 - val_age_out_accuracy: 0.0469\n",
            "Epoch 74/400\n",
            "275/278 [============================>.] - ETA: 0s - loss: 5.8509 - sex_out_loss: 0.1970 - age_out_loss: 4.6976 - sex_out_accuracy: 0.9130 - age_out_accuracy: 0.0459\n",
            "Epoch 74: val_loss did not improve from 7.46482\n",
            "278/278 [==============================] - 4s 16ms/step - loss: 5.8554 - sex_out_loss: 0.1969 - age_out_loss: 4.7023 - sex_out_accuracy: 0.9130 - age_out_accuracy: 0.0459 - val_loss: 7.8942 - val_sex_out_loss: 0.2780 - val_age_out_loss: 6.6589 - val_sex_out_accuracy: 0.8868 - val_age_out_accuracy: 0.0469\n",
            "Epoch 75/400\n",
            "277/278 [============================>.] - ETA: 0s - loss: 5.8320 - sex_out_loss: 0.1959 - age_out_loss: 4.6785 - sex_out_accuracy: 0.9145 - age_out_accuracy: 0.0460\n",
            "Epoch 75: val_loss did not improve from 7.46482\n",
            "278/278 [==============================] - 5s 16ms/step - loss: 5.8299 - sex_out_loss: 0.1958 - age_out_loss: 4.6766 - sex_out_accuracy: 0.9145 - age_out_accuracy: 0.0459 - val_loss: 8.1091 - val_sex_out_loss: 0.2613 - val_age_out_loss: 6.8884 - val_sex_out_accuracy: 0.8838 - val_age_out_accuracy: 0.0469\n",
            "Epoch 76/400\n",
            "278/278 [==============================] - ETA: 0s - loss: 5.8161 - sex_out_loss: 0.1941 - age_out_loss: 4.6621 - sex_out_accuracy: 0.9183 - age_out_accuracy: 0.0457\n",
            "Epoch 76: val_loss did not improve from 7.46482\n",
            "278/278 [==============================] - 5s 17ms/step - loss: 5.8161 - sex_out_loss: 0.1941 - age_out_loss: 4.6621 - sex_out_accuracy: 0.9183 - age_out_accuracy: 0.0457 - val_loss: 7.7458 - val_sex_out_loss: 0.2850 - val_age_out_loss: 6.4992 - val_sex_out_accuracy: 0.8881 - val_age_out_accuracy: 0.0469\n",
            "Epoch 77/400\n",
            "278/278 [==============================] - ETA: 0s - loss: 5.8676 - sex_out_loss: 0.1938 - age_out_loss: 4.7104 - sex_out_accuracy: 0.9167 - age_out_accuracy: 0.0453\n",
            "Epoch 77: val_loss did not improve from 7.46482\n",
            "278/278 [==============================] - 5s 17ms/step - loss: 5.8676 - sex_out_loss: 0.1938 - age_out_loss: 4.7104 - sex_out_accuracy: 0.9167 - age_out_accuracy: 0.0453 - val_loss: 8.1196 - val_sex_out_loss: 0.2597 - val_age_out_loss: 6.8942 - val_sex_out_accuracy: 0.8875 - val_age_out_accuracy: 0.0469\n",
            "Epoch 78/400\n",
            "277/278 [============================>.] - ETA: 0s - loss: 5.8005 - sex_out_loss: 0.1946 - age_out_loss: 4.6383 - sex_out_accuracy: 0.9160 - age_out_accuracy: 0.0454\n",
            "Epoch 78: val_loss did not improve from 7.46482\n",
            "278/278 [==============================] - 5s 17ms/step - loss: 5.8004 - sex_out_loss: 0.1948 - age_out_loss: 4.6380 - sex_out_accuracy: 0.9159 - age_out_accuracy: 0.0453 - val_loss: 8.2826 - val_sex_out_loss: 0.2744 - val_age_out_loss: 7.0387 - val_sex_out_accuracy: 0.8890 - val_age_out_accuracy: 0.0469\n",
            "Epoch 79/400\n",
            "276/278 [============================>.] - ETA: 0s - loss: 5.8721 - sex_out_loss: 0.1937 - age_out_loss: 4.7076 - sex_out_accuracy: 0.9179 - age_out_accuracy: 0.0448\n",
            "Epoch 79: val_loss did not improve from 7.46482\n",
            "278/278 [==============================] - 4s 16ms/step - loss: 5.8739 - sex_out_loss: 0.1934 - age_out_loss: 4.7096 - sex_out_accuracy: 0.9179 - age_out_accuracy: 0.0448 - val_loss: 8.2206 - val_sex_out_loss: 0.2627 - val_age_out_loss: 6.9849 - val_sex_out_accuracy: 0.8814 - val_age_out_accuracy: 0.0469\n",
            "Epoch 80/400\n",
            "275/278 [============================>.] - ETA: 0s - loss: 5.8321 - sex_out_loss: 0.1910 - age_out_loss: 4.6668 - sex_out_accuracy: 0.9201 - age_out_accuracy: 0.0453\n",
            "Epoch 80: val_loss did not improve from 7.46482\n",
            "278/278 [==============================] - 5s 16ms/step - loss: 5.8317 - sex_out_loss: 0.1908 - age_out_loss: 4.6665 - sex_out_accuracy: 0.9201 - age_out_accuracy: 0.0457 - val_loss: 8.1832 - val_sex_out_loss: 0.2585 - val_age_out_loss: 6.9483 - val_sex_out_accuracy: 0.8920 - val_age_out_accuracy: 0.0469\n",
            "Epoch 81/400\n",
            "278/278 [==============================] - ETA: 0s - loss: 5.8458 - sex_out_loss: 0.1938 - age_out_loss: 4.6739 - sex_out_accuracy: 0.9171 - age_out_accuracy: 0.0450\n",
            "Epoch 81: val_loss did not improve from 7.46482\n",
            "278/278 [==============================] - 5s 17ms/step - loss: 5.8458 - sex_out_loss: 0.1938 - age_out_loss: 4.6739 - sex_out_accuracy: 0.9171 - age_out_accuracy: 0.0450 - val_loss: 7.7367 - val_sex_out_loss: 0.2581 - val_age_out_loss: 6.4986 - val_sex_out_accuracy: 0.8890 - val_age_out_accuracy: 0.0469\n",
            "Epoch 82/400\n",
            "275/278 [============================>.] - ETA: 0s - loss: 5.7416 - sex_out_loss: 0.1867 - age_out_loss: 4.5733 - sex_out_accuracy: 0.9214 - age_out_accuracy: 0.0459\n",
            "Epoch 82: val_loss did not improve from 7.46482\n",
            "278/278 [==============================] - 5s 17ms/step - loss: 5.7475 - sex_out_loss: 0.1863 - age_out_loss: 4.5796 - sex_out_accuracy: 0.9217 - age_out_accuracy: 0.0458 - val_loss: 8.4897 - val_sex_out_loss: 0.2718 - val_age_out_loss: 7.2347 - val_sex_out_accuracy: 0.8876 - val_age_out_accuracy: 0.0469\n",
            "Epoch 83/400\n",
            "277/278 [============================>.] - ETA: 0s - loss: 5.8613 - sex_out_loss: 0.1891 - age_out_loss: 4.6881 - sex_out_accuracy: 0.9219 - age_out_accuracy: 0.0455\n",
            "Epoch 83: val_loss did not improve from 7.46482\n",
            "278/278 [==============================] - 5s 17ms/step - loss: 5.8613 - sex_out_loss: 0.1890 - age_out_loss: 4.6881 - sex_out_accuracy: 0.9219 - age_out_accuracy: 0.0454 - val_loss: 7.5619 - val_sex_out_loss: 0.2676 - val_age_out_loss: 6.3094 - val_sex_out_accuracy: 0.8873 - val_age_out_accuracy: 0.0469\n",
            "Epoch 84/400\n",
            "277/278 [============================>.] - ETA: 0s - loss: 5.8873 - sex_out_loss: 0.1887 - age_out_loss: 4.7122 - sex_out_accuracy: 0.9185 - age_out_accuracy: 0.0446\n",
            "Epoch 84: val_loss did not improve from 7.46482\n",
            "278/278 [==============================] - 5s 17ms/step - loss: 5.8868 - sex_out_loss: 0.1885 - age_out_loss: 4.7118 - sex_out_accuracy: 0.9186 - age_out_accuracy: 0.0445 - val_loss: 8.8324 - val_sex_out_loss: 0.2705 - val_age_out_loss: 7.5737 - val_sex_out_accuracy: 0.8876 - val_age_out_accuracy: 0.0469\n",
            "Epoch 85/400\n",
            "275/278 [============================>.] - ETA: 0s - loss: 5.7795 - sex_out_loss: 0.1882 - age_out_loss: 4.6021 - sex_out_accuracy: 0.9193 - age_out_accuracy: 0.0450\n",
            "Epoch 85: val_loss did not improve from 7.46482\n",
            "278/278 [==============================] - 5s 17ms/step - loss: 5.7807 - sex_out_loss: 0.1887 - age_out_loss: 4.6028 - sex_out_accuracy: 0.9190 - age_out_accuracy: 0.0450 - val_loss: 7.7428 - val_sex_out_loss: 0.2591 - val_age_out_loss: 6.4938 - val_sex_out_accuracy: 0.8875 - val_age_out_accuracy: 0.0469\n",
            "Epoch 86/400\n",
            "275/278 [============================>.] - ETA: 0s - loss: 5.7615 - sex_out_loss: 0.1876 - age_out_loss: 4.5828 - sex_out_accuracy: 0.9202 - age_out_accuracy: 0.0452\n",
            "Epoch 86: val_loss did not improve from 7.46482\n",
            "278/278 [==============================] - 5s 17ms/step - loss: 5.7687 - sex_out_loss: 0.1875 - age_out_loss: 4.5901 - sex_out_accuracy: 0.9204 - age_out_accuracy: 0.0454 - val_loss: 7.8974 - val_sex_out_loss: 0.2687 - val_age_out_loss: 6.6367 - val_sex_out_accuracy: 0.8868 - val_age_out_accuracy: 0.0469\n",
            "Epoch 87/400\n",
            "277/278 [============================>.] - ETA: 0s - loss: 5.7537 - sex_out_loss: 0.1889 - age_out_loss: 4.5717 - sex_out_accuracy: 0.9210 - age_out_accuracy: 0.0450\n",
            "Epoch 87: val_loss did not improve from 7.46482\n",
            "278/278 [==============================] - 5s 16ms/step - loss: 5.7555 - sex_out_loss: 0.1890 - age_out_loss: 4.5734 - sex_out_accuracy: 0.9209 - age_out_accuracy: 0.0450 - val_loss: 9.2743 - val_sex_out_loss: 0.2621 - val_age_out_loss: 8.0170 - val_sex_out_accuracy: 0.8878 - val_age_out_accuracy: 0.0469\n",
            "Epoch 88/400\n",
            "275/278 [============================>.] - ETA: 0s - loss: 5.7810 - sex_out_loss: 0.1855 - age_out_loss: 4.5984 - sex_out_accuracy: 0.9211 - age_out_accuracy: 0.0447\n",
            "Epoch 88: val_loss did not improve from 7.46482\n",
            "278/278 [==============================] - 5s 17ms/step - loss: 5.7718 - sex_out_loss: 0.1855 - age_out_loss: 4.5892 - sex_out_accuracy: 0.9210 - age_out_accuracy: 0.0448 - val_loss: 7.8263 - val_sex_out_loss: 0.2782 - val_age_out_loss: 6.5497 - val_sex_out_accuracy: 0.8908 - val_age_out_accuracy: 0.0469\n",
            "Epoch 89/400\n",
            "278/278 [==============================] - ETA: 0s - loss: 5.7294 - sex_out_loss: 0.1868 - age_out_loss: 4.5439 - sex_out_accuracy: 0.9210 - age_out_accuracy: 0.0442\n",
            "Epoch 89: val_loss did not improve from 7.46482\n",
            "278/278 [==============================] - 5s 17ms/step - loss: 5.7294 - sex_out_loss: 0.1868 - age_out_loss: 4.5439 - sex_out_accuracy: 0.9210 - age_out_accuracy: 0.0442 - val_loss: 9.6547 - val_sex_out_loss: 0.2745 - val_age_out_loss: 8.3800 - val_sex_out_accuracy: 0.8905 - val_age_out_accuracy: 0.0469\n",
            "Epoch 90/400\n",
            "275/278 [============================>.] - ETA: 0s - loss: 5.7863 - sex_out_loss: 0.1874 - age_out_loss: 4.5970 - sex_out_accuracy: 0.9201 - age_out_accuracy: 0.0448\n",
            "Epoch 90: val_loss did not improve from 7.46482\n",
            "278/278 [==============================] - 4s 16ms/step - loss: 5.7847 - sex_out_loss: 0.1873 - age_out_loss: 4.5954 - sex_out_accuracy: 0.9199 - age_out_accuracy: 0.0447 - val_loss: 8.7370 - val_sex_out_loss: 0.2665 - val_age_out_loss: 7.4668 - val_sex_out_accuracy: 0.8838 - val_age_out_accuracy: 0.0469\n",
            "Epoch 91/400\n",
            "276/278 [============================>.] - ETA: 0s - loss: 5.7772 - sex_out_loss: 0.1858 - age_out_loss: 4.5875 - sex_out_accuracy: 0.9208 - age_out_accuracy: 0.0444\n",
            "Epoch 91: val_loss did not improve from 7.46482\n",
            "278/278 [==============================] - 4s 16ms/step - loss: 5.7826 - sex_out_loss: 0.1855 - age_out_loss: 4.5931 - sex_out_accuracy: 0.9209 - age_out_accuracy: 0.0443 - val_loss: 7.5008 - val_sex_out_loss: 0.2617 - val_age_out_loss: 6.2342 - val_sex_out_accuracy: 0.8870 - val_age_out_accuracy: 0.0469\n",
            "Epoch 92/400\n",
            "278/278 [==============================] - ETA: 0s - loss: 5.7300 - sex_out_loss: 0.1842 - age_out_loss: 4.5398 - sex_out_accuracy: 0.9202 - age_out_accuracy: 0.0448\n",
            "Epoch 92: val_loss did not improve from 7.46482\n",
            "278/278 [==============================] - 5s 17ms/step - loss: 5.7300 - sex_out_loss: 0.1842 - age_out_loss: 4.5398 - sex_out_accuracy: 0.9202 - age_out_accuracy: 0.0448 - val_loss: 8.4876 - val_sex_out_loss: 0.2727 - val_age_out_loss: 7.2071 - val_sex_out_accuracy: 0.8856 - val_age_out_accuracy: 0.0469\n",
            "Epoch 93/400\n",
            "277/278 [============================>.] - ETA: 0s - loss: 5.8031 - sex_out_loss: 0.1898 - age_out_loss: 4.6047 - sex_out_accuracy: 0.9191 - age_out_accuracy: 0.0441\n",
            "Epoch 93: val_loss did not improve from 7.46482\n",
            "278/278 [==============================] - 5s 17ms/step - loss: 5.8043 - sex_out_loss: 0.1898 - age_out_loss: 4.6059 - sex_out_accuracy: 0.9191 - age_out_accuracy: 0.0440 - val_loss: 8.0762 - val_sex_out_loss: 0.2681 - val_age_out_loss: 6.7983 - val_sex_out_accuracy: 0.8836 - val_age_out_accuracy: 0.0469\n",
            "Epoch 94/400\n",
            "278/278 [==============================] - ETA: 0s - loss: 5.7600 - sex_out_loss: 0.1875 - age_out_loss: 4.5622 - sex_out_accuracy: 0.9181 - age_out_accuracy: 0.0440\n",
            "Epoch 94: val_loss did not improve from 7.46482\n",
            "278/278 [==============================] - 5s 16ms/step - loss: 5.7600 - sex_out_loss: 0.1875 - age_out_loss: 4.5622 - sex_out_accuracy: 0.9181 - age_out_accuracy: 0.0440 - val_loss: 7.8047 - val_sex_out_loss: 0.2552 - val_age_out_loss: 6.5373 - val_sex_out_accuracy: 0.8900 - val_age_out_accuracy: 0.0469\n",
            "Epoch 95/400\n",
            "275/278 [============================>.] - ETA: 0s - loss: 5.6894 - sex_out_loss: 0.1957 - age_out_loss: 4.4812 - sex_out_accuracy: 0.9174 - age_out_accuracy: 0.0448\n",
            "Epoch 95: val_loss did not improve from 7.46482\n",
            "278/278 [==============================] - 5s 16ms/step - loss: 5.6871 - sex_out_loss: 0.1953 - age_out_loss: 4.4793 - sex_out_accuracy: 0.9177 - age_out_accuracy: 0.0448 - val_loss: 7.9062 - val_sex_out_loss: 0.2669 - val_age_out_loss: 6.6265 - val_sex_out_accuracy: 0.8903 - val_age_out_accuracy: 0.0469\n",
            "Epoch 96/400\n",
            "276/278 [============================>.] - ETA: 0s - loss: 5.7373 - sex_out_loss: 0.1891 - age_out_loss: 4.5337 - sex_out_accuracy: 0.9179 - age_out_accuracy: 0.0443\n",
            "Epoch 96: val_loss did not improve from 7.46482\n",
            "278/278 [==============================] - 5s 17ms/step - loss: 5.7381 - sex_out_loss: 0.1888 - age_out_loss: 4.5348 - sex_out_accuracy: 0.9180 - age_out_accuracy: 0.0441 - val_loss: 8.1455 - val_sex_out_loss: 0.2619 - val_age_out_loss: 6.8680 - val_sex_out_accuracy: 0.8910 - val_age_out_accuracy: 0.0469\n",
            "Epoch 97/400\n",
            "277/278 [============================>.] - ETA: 0s - loss: 5.7486 - sex_out_loss: 0.1843 - age_out_loss: 4.5482 - sex_out_accuracy: 0.9211 - age_out_accuracy: 0.0435\n",
            "Epoch 97: val_loss did not improve from 7.46482\n",
            "278/278 [==============================] - 5s 16ms/step - loss: 5.7507 - sex_out_loss: 0.1843 - age_out_loss: 4.5503 - sex_out_accuracy: 0.9210 - age_out_accuracy: 0.0435 - val_loss: 7.6347 - val_sex_out_loss: 0.2659 - val_age_out_loss: 6.3527 - val_sex_out_accuracy: 0.8907 - val_age_out_accuracy: 0.0469\n",
            "Epoch 98/400\n",
            "277/278 [============================>.] - ETA: 0s - loss: 5.7754 - sex_out_loss: 0.1868 - age_out_loss: 4.5722 - sex_out_accuracy: 0.9218 - age_out_accuracy: 0.0440\n",
            "Epoch 98: val_loss did not improve from 7.46482\n",
            "278/278 [==============================] - 4s 16ms/step - loss: 5.7767 - sex_out_loss: 0.1868 - age_out_loss: 4.5735 - sex_out_accuracy: 0.9218 - age_out_accuracy: 0.0442 - val_loss: 7.6914 - val_sex_out_loss: 0.2839 - val_age_out_loss: 6.3898 - val_sex_out_accuracy: 0.8859 - val_age_out_accuracy: 0.0469\n",
            "Epoch 99/400\n",
            "275/278 [============================>.] - ETA: 0s - loss: 5.7146 - sex_out_loss: 0.1802 - age_out_loss: 4.5156 - sex_out_accuracy: 0.9241 - age_out_accuracy: 0.0437\n",
            "Epoch 99: val_loss did not improve from 7.46482\n",
            "278/278 [==============================] - 4s 16ms/step - loss: 5.7209 - sex_out_loss: 0.1801 - age_out_loss: 4.5220 - sex_out_accuracy: 0.9242 - age_out_accuracy: 0.0438 - val_loss: 7.9891 - val_sex_out_loss: 0.2710 - val_age_out_loss: 6.6979 - val_sex_out_accuracy: 0.8905 - val_age_out_accuracy: 0.0467\n",
            "Epoch 100/400\n",
            "278/278 [==============================] - ETA: 0s - loss: 5.7204 - sex_out_loss: 0.1826 - age_out_loss: 4.5163 - sex_out_accuracy: 0.9226 - age_out_accuracy: 0.0436\n",
            "Epoch 100: val_loss did not improve from 7.46482\n",
            "278/278 [==============================] - 5s 17ms/step - loss: 5.7204 - sex_out_loss: 0.1826 - age_out_loss: 4.5163 - sex_out_accuracy: 0.9226 - age_out_accuracy: 0.0436 - val_loss: 8.0603 - val_sex_out_loss: 0.2784 - val_age_out_loss: 6.7583 - val_sex_out_accuracy: 0.8912 - val_age_out_accuracy: 0.0469\n",
            "Epoch 101/400\n",
            "277/278 [============================>.] - ETA: 0s - loss: 5.7196 - sex_out_loss: 0.1829 - age_out_loss: 4.5121 - sex_out_accuracy: 0.9242 - age_out_accuracy: 0.0430\n",
            "Epoch 101: val_loss did not improve from 7.46482\n",
            "278/278 [==============================] - 5s 17ms/step - loss: 5.7210 - sex_out_loss: 0.1830 - age_out_loss: 4.5134 - sex_out_accuracy: 0.9241 - age_out_accuracy: 0.0431 - val_loss: 8.0022 - val_sex_out_loss: 0.2611 - val_age_out_loss: 6.7164 - val_sex_out_accuracy: 0.8851 - val_age_out_accuracy: 0.0467\n",
            "Epoch 102/400\n",
            "275/278 [============================>.] - ETA: 0s - loss: 5.7547 - sex_out_loss: 0.1856 - age_out_loss: 4.5437 - sex_out_accuracy: 0.9231 - age_out_accuracy: 0.0435\n",
            "Epoch 102: val_loss did not improve from 7.46482\n",
            "278/278 [==============================] - 5s 17ms/step - loss: 5.7643 - sex_out_loss: 0.1858 - age_out_loss: 4.5531 - sex_out_accuracy: 0.9231 - age_out_accuracy: 0.0436 - val_loss: 8.2234 - val_sex_out_loss: 0.2702 - val_age_out_loss: 6.9270 - val_sex_out_accuracy: 0.8913 - val_age_out_accuracy: 0.0469\n",
            "Epoch 103/400\n",
            "277/278 [============================>.] - ETA: 0s - loss: 5.7029 - sex_out_loss: 0.1824 - age_out_loss: 4.4937 - sex_out_accuracy: 0.9240 - age_out_accuracy: 0.0443\n",
            "Epoch 103: val_loss did not improve from 7.46482\n",
            "278/278 [==============================] - 5s 16ms/step - loss: 5.7020 - sex_out_loss: 0.1821 - age_out_loss: 4.4931 - sex_out_accuracy: 0.9241 - age_out_accuracy: 0.0443 - val_loss: 8.4638 - val_sex_out_loss: 0.2592 - val_age_out_loss: 7.1772 - val_sex_out_accuracy: 0.8908 - val_age_out_accuracy: 0.0469\n",
            "Epoch 104/400\n",
            "276/278 [============================>.] - ETA: 0s - loss: 5.6732 - sex_out_loss: 0.1779 - age_out_loss: 4.4678 - sex_out_accuracy: 0.9242 - age_out_accuracy: 0.0438\n",
            "Epoch 104: val_loss did not improve from 7.46482\n",
            "278/278 [==============================] - 5s 16ms/step - loss: 5.6753 - sex_out_loss: 0.1785 - age_out_loss: 4.4693 - sex_out_accuracy: 0.9241 - age_out_accuracy: 0.0438 - val_loss: 8.2941 - val_sex_out_loss: 0.2672 - val_age_out_loss: 6.9987 - val_sex_out_accuracy: 0.8915 - val_age_out_accuracy: 0.0469\n",
            "Epoch 105/400\n",
            "275/278 [============================>.] - ETA: 0s - loss: 5.6859 - sex_out_loss: 0.1737 - age_out_loss: 4.4837 - sex_out_accuracy: 0.9309 - age_out_accuracy: 0.0436\n",
            "Epoch 105: val_loss did not improve from 7.46482\n",
            "278/278 [==============================] - 5s 17ms/step - loss: 5.6868 - sex_out_loss: 0.1747 - age_out_loss: 4.4836 - sex_out_accuracy: 0.9306 - age_out_accuracy: 0.0435 - val_loss: 7.8897 - val_sex_out_loss: 0.2829 - val_age_out_loss: 6.5777 - val_sex_out_accuracy: 0.8836 - val_age_out_accuracy: 0.0469\n",
            "Epoch 106/400\n",
            "275/278 [============================>.] - ETA: 0s - loss: 5.6010 - sex_out_loss: 0.1766 - age_out_loss: 4.3948 - sex_out_accuracy: 0.9262 - age_out_accuracy: 0.0444\n",
            "Epoch 106: val_loss did not improve from 7.46482\n",
            "278/278 [==============================] - 5s 16ms/step - loss: 5.6047 - sex_out_loss: 0.1765 - age_out_loss: 4.3986 - sex_out_accuracy: 0.9262 - age_out_accuracy: 0.0443 - val_loss: 8.3700 - val_sex_out_loss: 0.2596 - val_age_out_loss: 7.0800 - val_sex_out_accuracy: 0.8868 - val_age_out_accuracy: 0.0469\n",
            "Epoch 107/400\n",
            "277/278 [============================>.] - ETA: 0s - loss: 5.6554 - sex_out_loss: 0.1767 - age_out_loss: 4.4474 - sex_out_accuracy: 0.9242 - age_out_accuracy: 0.0439\n",
            "Epoch 107: val_loss did not improve from 7.46482\n",
            "278/278 [==============================] - 4s 16ms/step - loss: 5.6614 - sex_out_loss: 0.1768 - age_out_loss: 4.4532 - sex_out_accuracy: 0.9242 - age_out_accuracy: 0.0438 - val_loss: 7.9299 - val_sex_out_loss: 0.2633 - val_age_out_loss: 6.6332 - val_sex_out_accuracy: 0.8925 - val_age_out_accuracy: 0.0469\n",
            "Epoch 108/400\n",
            "278/278 [==============================] - ETA: 0s - loss: 5.6901 - sex_out_loss: 0.1861 - age_out_loss: 4.4703 - sex_out_accuracy: 0.9257 - age_out_accuracy: 0.0434\n",
            "Epoch 108: val_loss did not improve from 7.46482\n",
            "278/278 [==============================] - 5s 17ms/step - loss: 5.6901 - sex_out_loss: 0.1861 - age_out_loss: 4.4703 - sex_out_accuracy: 0.9257 - age_out_accuracy: 0.0434 - val_loss: 8.3263 - val_sex_out_loss: 0.2645 - val_age_out_loss: 7.0277 - val_sex_out_accuracy: 0.8868 - val_age_out_accuracy: 0.0469\n",
            "Epoch 109/400\n",
            "275/278 [============================>.] - ETA: 0s - loss: 5.6467 - sex_out_loss: 0.1779 - age_out_loss: 4.4336 - sex_out_accuracy: 0.9255 - age_out_accuracy: 0.0434\n",
            "Epoch 109: val_loss did not improve from 7.46482\n",
            "278/278 [==============================] - 5s 16ms/step - loss: 5.6505 - sex_out_loss: 0.1788 - age_out_loss: 4.4364 - sex_out_accuracy: 0.9253 - age_out_accuracy: 0.0432 - val_loss: 7.9411 - val_sex_out_loss: 0.2661 - val_age_out_loss: 6.6383 - val_sex_out_accuracy: 0.8929 - val_age_out_accuracy: 0.0469\n",
            "Epoch 110/400\n",
            "277/278 [============================>.] - ETA: 0s - loss: 5.5941 - sex_out_loss: 0.1761 - age_out_loss: 4.3811 - sex_out_accuracy: 0.9265 - age_out_accuracy: 0.0428\n",
            "Epoch 110: val_loss did not improve from 7.46482\n",
            "278/278 [==============================] - 5s 17ms/step - loss: 5.5947 - sex_out_loss: 0.1760 - age_out_loss: 4.3818 - sex_out_accuracy: 0.9266 - age_out_accuracy: 0.0428 - val_loss: 7.9502 - val_sex_out_loss: 0.2791 - val_age_out_loss: 6.6331 - val_sex_out_accuracy: 0.8888 - val_age_out_accuracy: 0.0469\n",
            "Epoch 111/400\n",
            "278/278 [==============================] - ETA: 0s - loss: 5.6899 - sex_out_loss: 0.1788 - age_out_loss: 4.4720 - sex_out_accuracy: 0.9267 - age_out_accuracy: 0.0430\n",
            "Epoch 111: val_loss did not improve from 7.46482\n",
            "278/278 [==============================] - 5s 16ms/step - loss: 5.6899 - sex_out_loss: 0.1788 - age_out_loss: 4.4720 - sex_out_accuracy: 0.9267 - age_out_accuracy: 0.0430 - val_loss: 7.8731 - val_sex_out_loss: 0.2693 - val_age_out_loss: 6.5641 - val_sex_out_accuracy: 0.8883 - val_age_out_accuracy: 0.0469\n",
            "Epoch 112/400\n",
            "278/278 [==============================] - ETA: 0s - loss: 5.6033 - sex_out_loss: 0.1796 - age_out_loss: 4.3841 - sex_out_accuracy: 0.9251 - age_out_accuracy: 0.0436\n",
            "Epoch 112: val_loss did not improve from 7.46482\n",
            "278/278 [==============================] - 5s 16ms/step - loss: 5.6033 - sex_out_loss: 0.1796 - age_out_loss: 4.3841 - sex_out_accuracy: 0.9251 - age_out_accuracy: 0.0436 - val_loss: 8.5830 - val_sex_out_loss: 0.2685 - val_age_out_loss: 7.2737 - val_sex_out_accuracy: 0.8824 - val_age_out_accuracy: 0.0469\n",
            "Epoch 113/400\n",
            "276/278 [============================>.] - ETA: 0s - loss: 5.6655 - sex_out_loss: 0.1786 - age_out_loss: 4.4455 - sex_out_accuracy: 0.9245 - age_out_accuracy: 0.0432\n",
            "Epoch 113: val_loss did not improve from 7.46482\n",
            "278/278 [==============================] - 5s 16ms/step - loss: 5.6706 - sex_out_loss: 0.1788 - age_out_loss: 4.4504 - sex_out_accuracy: 0.9243 - age_out_accuracy: 0.0431 - val_loss: 7.9571 - val_sex_out_loss: 0.2673 - val_age_out_loss: 6.6479 - val_sex_out_accuracy: 0.8912 - val_age_out_accuracy: 0.0469\n",
            "Epoch 114/400\n",
            "275/278 [============================>.] - ETA: 0s - loss: 5.6367 - sex_out_loss: 0.1742 - age_out_loss: 4.4199 - sex_out_accuracy: 0.9281 - age_out_accuracy: 0.0429\n",
            "Epoch 114: val_loss did not improve from 7.46482\n",
            "278/278 [==============================] - 4s 16ms/step - loss: 5.6411 - sex_out_loss: 0.1744 - age_out_loss: 4.4242 - sex_out_accuracy: 0.9280 - age_out_accuracy: 0.0429 - val_loss: 7.9042 - val_sex_out_loss: 0.2864 - val_age_out_loss: 6.5745 - val_sex_out_accuracy: 0.8925 - val_age_out_accuracy: 0.0469\n",
            "Epoch 115/400\n",
            "275/278 [============================>.] - ETA: 0s - loss: 5.6528 - sex_out_loss: 0.1718 - age_out_loss: 4.4368 - sex_out_accuracy: 0.9298 - age_out_accuracy: 0.0436\n",
            "Epoch 115: val_loss did not improve from 7.46482\n",
            "278/278 [==============================] - 4s 16ms/step - loss: 5.6588 - sex_out_loss: 0.1722 - age_out_loss: 4.4424 - sex_out_accuracy: 0.9299 - age_out_accuracy: 0.0438 - val_loss: 8.6628 - val_sex_out_loss: 0.2741 - val_age_out_loss: 7.3429 - val_sex_out_accuracy: 0.8917 - val_age_out_accuracy: 0.0469\n",
            "Epoch 116/400\n",
            "278/278 [==============================] - ETA: 0s - loss: 5.7055 - sex_out_loss: 0.1722 - age_out_loss: 4.4865 - sex_out_accuracy: 0.9282 - age_out_accuracy: 0.0428\n",
            "Epoch 116: val_loss did not improve from 7.46482\n",
            "278/278 [==============================] - 5s 17ms/step - loss: 5.7055 - sex_out_loss: 0.1722 - age_out_loss: 4.4865 - sex_out_accuracy: 0.9282 - age_out_accuracy: 0.0428 - val_loss: 8.1898 - val_sex_out_loss: 0.2747 - val_age_out_loss: 6.8674 - val_sex_out_accuracy: 0.8881 - val_age_out_accuracy: 0.0469\n",
            "Epoch 117/400\n",
            "275/278 [============================>.] - ETA: 0s - loss: 5.6472 - sex_out_loss: 0.1751 - age_out_loss: 4.4241 - sex_out_accuracy: 0.9270 - age_out_accuracy: 0.0431\n",
            "Epoch 117: val_loss did not improve from 7.46482\n",
            "278/278 [==============================] - 5s 17ms/step - loss: 5.6493 - sex_out_loss: 0.1750 - age_out_loss: 4.4263 - sex_out_accuracy: 0.9270 - age_out_accuracy: 0.0430 - val_loss: 7.9463 - val_sex_out_loss: 0.2868 - val_age_out_loss: 6.6108 - val_sex_out_accuracy: 0.8902 - val_age_out_accuracy: 0.0469\n",
            "Epoch 118/400\n",
            "275/278 [============================>.] - ETA: 0s - loss: 5.6303 - sex_out_loss: 0.1729 - age_out_loss: 4.4083 - sex_out_accuracy: 0.9294 - age_out_accuracy: 0.0426\n",
            "Epoch 118: val_loss did not improve from 7.46482\n",
            "278/278 [==============================] - 5s 17ms/step - loss: 5.6312 - sex_out_loss: 0.1729 - age_out_loss: 4.4092 - sex_out_accuracy: 0.9294 - age_out_accuracy: 0.0423 - val_loss: 8.1957 - val_sex_out_loss: 0.2645 - val_age_out_loss: 6.8825 - val_sex_out_accuracy: 0.8917 - val_age_out_accuracy: 0.0469\n",
            "Epoch 119/400\n",
            "277/278 [============================>.] - ETA: 0s - loss: 5.6600 - sex_out_loss: 0.1781 - age_out_loss: 4.4327 - sex_out_accuracy: 0.9262 - age_out_accuracy: 0.0436\n",
            "Epoch 119: val_loss did not improve from 7.46482\n",
            "278/278 [==============================] - 5s 16ms/step - loss: 5.6601 - sex_out_loss: 0.1780 - age_out_loss: 4.4328 - sex_out_accuracy: 0.9262 - age_out_accuracy: 0.0435 - val_loss: 8.3891 - val_sex_out_loss: 0.2695 - val_age_out_loss: 7.0704 - val_sex_out_accuracy: 0.8870 - val_age_out_accuracy: 0.0469\n",
            "Epoch 120/400\n",
            "276/278 [============================>.] - ETA: 0s - loss: 5.6124 - sex_out_loss: 0.1713 - age_out_loss: 4.3911 - sex_out_accuracy: 0.9286 - age_out_accuracy: 0.0429\n",
            "Epoch 120: val_loss did not improve from 7.46482\n",
            "278/278 [==============================] - 5s 17ms/step - loss: 5.6129 - sex_out_loss: 0.1713 - age_out_loss: 4.3916 - sex_out_accuracy: 0.9284 - age_out_accuracy: 0.0431 - val_loss: 8.0628 - val_sex_out_loss: 0.2700 - val_age_out_loss: 6.7420 - val_sex_out_accuracy: 0.8922 - val_age_out_accuracy: 0.0469\n",
            "Epoch 121/400\n",
            "278/278 [==============================] - ETA: 0s - loss: 5.6442 - sex_out_loss: 0.1711 - age_out_loss: 4.4215 - sex_out_accuracy: 0.9281 - age_out_accuracy: 0.0432\n",
            "Epoch 121: val_loss did not improve from 7.46482\n",
            "278/278 [==============================] - 5s 16ms/step - loss: 5.6442 - sex_out_loss: 0.1711 - age_out_loss: 4.4215 - sex_out_accuracy: 0.9281 - age_out_accuracy: 0.0432 - val_loss: 8.2099 - val_sex_out_loss: 0.2852 - val_age_out_loss: 6.8719 - val_sex_out_accuracy: 0.8892 - val_age_out_accuracy: 0.0469\n",
            "Epoch 122/400\n",
            "275/278 [============================>.] - ETA: 0s - loss: 5.6240 - sex_out_loss: 0.1698 - age_out_loss: 4.4009 - sex_out_accuracy: 0.9298 - age_out_accuracy: 0.0422\n",
            "Epoch 122: val_loss did not improve from 7.46482\n",
            "278/278 [==============================] - 5s 17ms/step - loss: 5.6282 - sex_out_loss: 0.1696 - age_out_loss: 4.4053 - sex_out_accuracy: 0.9298 - age_out_accuracy: 0.0420 - val_loss: 7.7208 - val_sex_out_loss: 0.2964 - val_age_out_loss: 6.3707 - val_sex_out_accuracy: 0.8767 - val_age_out_accuracy: 0.0469\n",
            "Epoch 123/400\n",
            "276/278 [============================>.] - ETA: 0s - loss: 5.5742 - sex_out_loss: 0.1717 - age_out_loss: 4.3485 - sex_out_accuracy: 0.9275 - age_out_accuracy: 0.0432\n",
            "Epoch 123: val_loss did not improve from 7.46482\n",
            "278/278 [==============================] - 5s 17ms/step - loss: 5.5755 - sex_out_loss: 0.1718 - age_out_loss: 4.3496 - sex_out_accuracy: 0.9275 - age_out_accuracy: 0.0430 - val_loss: 7.7319 - val_sex_out_loss: 0.2781 - val_age_out_loss: 6.3990 - val_sex_out_accuracy: 0.8780 - val_age_out_accuracy: 0.0467\n",
            "Epoch 124/400\n",
            "276/278 [============================>.] - ETA: 0s - loss: 5.5709 - sex_out_loss: 0.1689 - age_out_loss: 4.3470 - sex_out_accuracy: 0.9290 - age_out_accuracy: 0.0415\n",
            "Epoch 124: val_loss did not improve from 7.46482\n",
            "278/278 [==============================] - 5s 17ms/step - loss: 5.5736 - sex_out_loss: 0.1685 - age_out_loss: 4.3500 - sex_out_accuracy: 0.9291 - age_out_accuracy: 0.0414 - val_loss: 8.2567 - val_sex_out_loss: 0.2828 - val_age_out_loss: 6.9182 - val_sex_out_accuracy: 0.8873 - val_age_out_accuracy: 0.0469\n",
            "Epoch 125/400\n",
            "278/278 [==============================] - ETA: 0s - loss: 5.5985 - sex_out_loss: 0.1636 - age_out_loss: 4.3782 - sex_out_accuracy: 0.9327 - age_out_accuracy: 0.0413\n",
            "Epoch 125: val_loss did not improve from 7.46482\n",
            "278/278 [==============================] - 5s 17ms/step - loss: 5.5985 - sex_out_loss: 0.1636 - age_out_loss: 4.3782 - sex_out_accuracy: 0.9327 - age_out_accuracy: 0.0413 - val_loss: 7.6363 - val_sex_out_loss: 0.2961 - val_age_out_loss: 6.2828 - val_sex_out_accuracy: 0.8907 - val_age_out_accuracy: 0.0469\n",
            "Epoch 126/400\n",
            "276/278 [============================>.] - ETA: 0s - loss: 5.6337 - sex_out_loss: 0.1741 - age_out_loss: 4.4014 - sex_out_accuracy: 0.9281 - age_out_accuracy: 0.0423\n",
            "Epoch 126: val_loss did not improve from 7.46482\n",
            "278/278 [==============================] - 5s 18ms/step - loss: 5.6376 - sex_out_loss: 0.1743 - age_out_loss: 4.4051 - sex_out_accuracy: 0.9279 - age_out_accuracy: 0.0422 - val_loss: 8.6289 - val_sex_out_loss: 0.2885 - val_age_out_loss: 7.2818 - val_sex_out_accuracy: 0.8888 - val_age_out_accuracy: 0.0469\n",
            "Epoch 127/400\n",
            "276/278 [============================>.] - ETA: 0s - loss: 5.6419 - sex_out_loss: 0.1727 - age_out_loss: 4.4112 - sex_out_accuracy: 0.9306 - age_out_accuracy: 0.0418\n",
            "Epoch 127: val_loss did not improve from 7.46482\n",
            "278/278 [==============================] - 5s 18ms/step - loss: 5.6415 - sex_out_loss: 0.1723 - age_out_loss: 4.4111 - sex_out_accuracy: 0.9308 - age_out_accuracy: 0.0417 - val_loss: 8.0250 - val_sex_out_loss: 0.2628 - val_age_out_loss: 6.7030 - val_sex_out_accuracy: 0.8959 - val_age_out_accuracy: 0.0469\n"
          ]
        }
      ]
    },
    {
      "cell_type": "code",
      "source": [
        "model.save('Age_sex_detection.h5')"
      ],
      "metadata": {
        "id": "vvVtgr8_myvk"
      },
      "execution_count": null,
      "outputs": []
    },
    {
      "cell_type": "code",
      "source": [
        "# Evaluating model using validation data\n",
        "model.evaluate(X_test, Y_test_2)"
      ],
      "metadata": {
        "colab": {
          "base_uri": "https://localhost:8080/"
        },
        "id": "Da4x_GaOE2WY",
        "outputId": "9d7ed9f2-9d5f-48a6-befb-739b6f07fe53"
      },
      "execution_count": null,
      "outputs": [
        {
          "output_type": "stream",
          "name": "stdout",
          "text": [
            "186/186 [==============================] - 1s 6ms/step - loss: 7.4648 - sex_out_loss: 0.2569 - age_out_loss: 6.3526 - sex_out_accuracy: 0.8809 - age_out_accuracy: 0.0469\n"
          ]
        },
        {
          "output_type": "execute_result",
          "data": {
            "text/plain": [
              "[7.464816570281982,\n",
              " 0.2568890452384949,\n",
              " 6.352626323699951,\n",
              " 0.8808841109275818,\n",
              " 0.04690399765968323]"
            ]
          },
          "metadata": {},
          "execution_count": 33
        }
      ]
    },
    {
      "cell_type": "code",
      "source": [
        "# Predicting using model\n",
        "pred = model.predict(X_test)"
      ],
      "metadata": {
        "id": "hnK4ijJbF-1f"
      },
      "execution_count": null,
      "outputs": []
    },
    {
      "cell_type": "code",
      "source": [
        "pred[1]"
      ],
      "metadata": {
        "colab": {
          "base_uri": "https://localhost:8080/"
        },
        "id": "kh0gJaXRGDLI",
        "outputId": "da7a25e2-134a-4931-b692-c23658ac9d7e"
      },
      "execution_count": null,
      "outputs": [
        {
          "output_type": "execute_result",
          "data": {
            "text/plain": [
              "array([[26.761442],\n",
              "       [43.60389 ],\n",
              "       [89.75641 ],\n",
              "       ...,\n",
              "       [48.47426 ],\n",
              "       [36.985542],\n",
              "       [21.909826]], dtype=float32)"
            ]
          },
          "metadata": {},
          "execution_count": 35
        }
      ]
    },
    {
      "cell_type": "code",
      "source": [
        "plt.plot(History.history['loss'])\n",
        "plt.plot(History.history['val_loss'])\n",
        "plt.title('Model loss')\n",
        "plt.ylabel('Loss')\n",
        "plt.xlabel('Epoch')\n",
        "plt.legend(['Train', 'Validation'], loc='upper left')\n",
        "plt.subplots_adjust(top=1.00, bottom=0.0, left=0.0, right=0.95, hspace=0.25,\n",
        "                        wspace=0.35)"
      ],
      "metadata": {
        "colab": {
          "base_uri": "https://localhost:8080/",
          "height": 366
        },
        "id": "iiXkSqrWGFRc",
        "outputId": "4ba04fed-a177-4567-8f18-0895e751ec10"
      },
      "execution_count": null,
      "outputs": [
        {
          "output_type": "display_data",
          "data": {
            "text/plain": [
              "<Figure size 432x288 with 1 Axes>"
            ],
            "image/png": "[encoded data removed]"
          },
          "metadata": {
            "needs_background": "light"
          }
        }
      ]
    },
    {
      "cell_type": "code",
      "source": [
        "plt.plot(History.history['sex_out_accuracy'])\n",
        "plt.plot(History.history['val_sex_out_accuracy'])\n",
        "plt.title('Model accuracy')\n",
        "plt.ylabel('Accuracy')\n",
        "plt.xlabel('Epoch')\n",
        "plt.legend(['Train', 'Validation'], loc='upper left')\n",
        "plt.subplots_adjust(top=1.00, bottom=0.0, left=0.0, right=0.95, hspace=0.25,\n",
        "                        wspace=0.35)"
      ],
      "metadata": {
        "colab": {
          "base_uri": "https://localhost:8080/",
          "height": 366
        },
        "id": "kchxMnwDGI_9",
        "outputId": "f8759ef5-44e4-4724-f83d-85e8e710bc88"
      },
      "execution_count": null,
      "outputs": [
        {
          "output_type": "display_data",
          "data": {
            "text/plain": [
              "<Figure size 432x288 with 1 Axes>"
            ],
            "image/png": "[encoded data removed]"
          },
          "metadata": {
            "needs_background": "light"
          }
        }
      ]
    },
    {
      "cell_type": "code",
      "source": [
        "fig, ax = plt.subplots()\n",
        "ax.scatter(Y_test_2[1], pred[1])\n",
        "ax.plot([Y_test_2[1].min(),Y_test_2[1].max()], [Y_test_2[1].min(), Y_test_2[1].max()], 'k--', lw=4)\n",
        "ax.set_xlabel('Actual Age')\n",
        "ax.set_ylabel('Predicted Age')\n",
        "plt.show()"
      ],
      "metadata": {
        "colab": {
          "base_uri": "https://localhost:8080/",
          "height": 280
        },
        "id": "DarVOi5jGMHN",
        "outputId": "c71a66f7-d310-48e3-b5ea-ea2ea5135a6f"
      },
      "execution_count": null,
      "outputs": [
        {
          "output_type": "display_data",
          "data": {
            "text/plain": [
              "<Figure size 432x288 with 1 Axes>"
            ],
            "image/png": "[encoded data removed]"
          },
          "metadata": {
            "needs_background": "light"
          }
        }
      ]
    },
    {
      "cell_type": "code",
      "source": [
        "i=0\n",
        "Pred_l = []\n",
        "while(i < len(pred[0])):\n",
        "\n",
        "  Pred_l.append(int(np.round(pred[0][i])))\n",
        "  i+=1"
      ],
      "metadata": {
        "id": "l7dgZT2DGN0O"
      },
      "execution_count": null,
      "outputs": []
    },
    {
      "cell_type": "code",
      "source": [
        "from sklearn.metrics import confusion_matrix \n",
        "\n",
        "from sklearn.metrics import classification_report "
      ],
      "metadata": {
        "id": "9I_omtSTHRZV"
      },
      "execution_count": null,
      "outputs": []
    },
    {
      "cell_type": "code",
      "source": [
        "report = classification_report(Y_test_2[0], Pred_l)"
      ],
      "metadata": {
        "id": "kalMwDjJHT4k"
      },
      "execution_count": null,
      "outputs": []
    },
    {
      "cell_type": "code",
      "source": [
        "print(report)"
      ],
      "metadata": {
        "colab": {
          "base_uri": "https://localhost:8080/"
        },
        "id": "xCeWPd7DHWw5",
        "outputId": "30865a9b-5513-4a42-abfd-5d9b1f39c301"
      },
      "execution_count": null,
      "outputs": [
        {
          "output_type": "stream",
          "name": "stdout",
          "text": [
            "              precision    recall  f1-score   support\n",
            "\n",
            "           0       0.93      0.83      0.88      3057\n",
            "           1       0.84      0.94      0.88      2870\n",
            "\n",
            "    accuracy                           0.88      5927\n",
            "   macro avg       0.89      0.88      0.88      5927\n",
            "weighted avg       0.89      0.88      0.88      5927\n",
            "\n"
          ]
        }
      ]
    },
    {
      "cell_type": "markdown",
      "source": [
        "Making the confusion matrix"
      ],
      "metadata": {
        "id": "JXsI6qdy0Unk"
      }
    },
    {
      "cell_type": "code",
      "source": [
        "results = confusion_matrix(Y_test_2[0], Pred_l)"
      ],
      "metadata": {
        "id": "Bw7NHxzaHZsD"
      },
      "execution_count": null,
      "outputs": []
    },
    {
      "cell_type": "code",
      "source": [
        "import seaborn as sns\n",
        "\n",
        "sns.heatmap(results, annot=True)"
      ],
      "metadata": {
        "colab": {
          "base_uri": "https://localhost:8080/",
          "height": 282
        },
        "id": "LSWkvLU6IOYZ",
        "outputId": "6bfd611f-6ded-45d4-e523-d617c0a2ac74"
      },
      "execution_count": null,
      "outputs": [
        {
          "output_type": "execute_result",
          "data": {
            "text/plain": [
              "<matplotlib.axes._subplots.AxesSubplot at 0x7f5f240dfd50>"
            ]
          },
          "metadata": {},
          "execution_count": 44
        },
        {
          "output_type": "display_data",
          "data": {
            "text/plain": [
              "<Figure size 432x288 with 2 Axes>"
            ],
            "image/png": "[encoded data removed]"
          },
          "metadata": {
            "needs_background": "light"
          }
        }
      ]
    },
    {
      "cell_type": "code",
      "source": [
        "model = Define_Model((48,48,3))"
      ],
      "metadata": {
        "id": "-fsVDCOElJSn"
      },
      "execution_count": null,
      "outputs": []
    },
    {
      "cell_type": "code",
      "source": [
        "from keras.models import load_model"
      ],
      "metadata": {
        "id": "9bNjz6kjqHVj"
      },
      "execution_count": null,
      "outputs": []
    },
    {
      "cell_type": "code",
      "source": [
        "model = load_model('/content/drive/MyDrive/UTKModel/Age_sex_detection.h5')"
      ],
      "metadata": {
        "id": "HNG0fGkhmomu"
      },
      "execution_count": null,
      "outputs": []
    },
    {
      "cell_type": "markdown",
      "source": [
        "Testing on one image"
      ],
      "metadata": {
        "id": "bGrwe7iS0ZFt"
      }
    },
    {
      "cell_type": "code",
      "source": [
        "def test_image(ind,images_f,images_f_2,Model):\n",
        "  cv2_imshow(images_f[ind])\n",
        "  image_test=images_f_2[ind]\n",
        "  pred_1=model.predict(np.array([image_test]))\n",
        "  #print(pred_1)\n",
        "  sex_f=['Male','Female']\n",
        "  age=int(np.round(pred_1[1][0]))\n",
        "  sex=int(np.round(pred_1[0][0]))\n",
        "  print(\"Predicted Age: \"+ str(age))\n",
        "  print(\"Predicted Sex: \"+ sex_f[sex])\n"
      ],
      "metadata": {
        "id": "SiA8pZCRIQ5T"
      },
      "execution_count": null,
      "outputs": []
    },
    {
      "cell_type": "code",
      "source": [
        "test_image(0,images,images,model)"
      ],
      "metadata": {
        "id": "VA9rqJwfIYND",
        "outputId": "1d4f6a9b-6907-4e69-aaaf-f74e884d080a",
        "colab": {
          "base_uri": "https://localhost:8080/",
          "height": 100
        }
      },
      "execution_count": null,
      "outputs": [
        {
          "output_type": "display_data",
          "data": {
            "text/plain": [
              "<PIL.Image.Image image mode=RGB size=48x48 at 0x7F598025A910>"
            ],
            "image/png": "[encoded data removed]"
          },
          "metadata": {}
        },
        {
          "output_type": "stream",
          "name": "stdout",
          "text": [
            "Predicted Age: 13.13\n",
            "Predicted Sex: Male\n"
          ]
        }
      ]
    },
    {
      "cell_type": "code",
      "source": [
        ""
      ],
      "metadata": {
        "id": "E2_HR1bzIabc"
      },
      "execution_count": null,
      "outputs": []
    }
  ]
}